{
 "cells": [
  {
   "cell_type": "markdown",
   "id": "5a098fbd",
   "metadata": {},
   "source": [
    "## Guidelines"
   ]
  },
  {
   "cell_type": "markdown",
   "id": "79c01b65",
   "metadata": {},
   "source": [
    "The goal of this competition is to build a model that predicts the price of NFTs based on a select group of their attributes that are publicly accessible and also based on their social media activity."
   ]
  },
  {
   "cell_type": "markdown",
   "id": "965301dd",
   "metadata": {},
   "source": [
    "Note that not all NFTs of a collection are necessarily present in the data."
   ]
  },
  {
   "cell_type": "markdown",
   "id": "3c49a77b",
   "metadata": {},
   "source": [
    "To build your machine learning model, we have provided the following datasets:\n",
    "\n",
    "1. collections.csv: data about the collections that are present in the training and prediction datasets.   \n",
    " **collection_id**: ID to identify the collection and the NFTs of the collection       \n",
    " **total_supply**: total number of NFTs in the collection        \n",
    " **creation_date**: creation date of the collection in the marketplace      \n",
    " **verification_status**: status of verification of the collection in the marketplace   \n",
    " **n_of_traits**: number of particular traits the NFTs in the collection can have    \n",
    " **contract_type**: type of contract in the marketplace        \n",
    " **seller_fees**: fees that the seller receives for transactions      \n",
    " **platform_fees**: fees that the marketplace receives for transactions         \n",
    " **openrarity_enabled**: whether the collection uses OpenRarity to calculate a rarity score and rank for the NFTs in the collection        \n",
    " **has_website**: whether the collection has a website or not        \n",
    " **has_own_twitter**: whether the collection has its own Twitter account or not     \n",
    " **has_discord**: whether the collection has a Discord channel or not    \n",
    " **has_medium**: whether the collection has a Medium account or not     "
   ]
  },
  {
   "cell_type": "code",
   "execution_count": 666,
   "id": "c836a314",
   "metadata": {},
   "outputs": [],
   "source": [
    "# Libraries\n",
    "import numpy as np\n",
    "import pandas as pd\n",
    "from IPython.display import HTML"
   ]
  },
  {
   "cell_type": "code",
   "execution_count": 667,
   "id": "90788281",
   "metadata": {},
   "outputs": [],
   "source": [
    "collections=pd.read_csv(\"collections.csv\")"
   ]
  },
  {
   "cell_type": "code",
   "execution_count": 668,
   "id": "7407837b",
   "metadata": {},
   "outputs": [
    {
     "data": {
      "text/html": [
       "<div>\n",
       "<style scoped>\n",
       "    .dataframe tbody tr th:only-of-type {\n",
       "        vertical-align: middle;\n",
       "    }\n",
       "\n",
       "    .dataframe tbody tr th {\n",
       "        vertical-align: top;\n",
       "    }\n",
       "\n",
       "    .dataframe thead th {\n",
       "        text-align: right;\n",
       "    }\n",
       "</style>\n",
       "<table border=\"1\" class=\"dataframe\">\n",
       "  <thead>\n",
       "    <tr style=\"text-align: right;\">\n",
       "      <th></th>\n",
       "      <th>collection_id</th>\n",
       "      <th>total_supply</th>\n",
       "      <th>creation_date</th>\n",
       "      <th>verification_status</th>\n",
       "      <th>n_of_traits</th>\n",
       "      <th>contract_type</th>\n",
       "      <th>seller_fees</th>\n",
       "      <th>platform_fees</th>\n",
       "      <th>openrarity_enabled</th>\n",
       "      <th>has_website</th>\n",
       "      <th>has_own_twitter</th>\n",
       "      <th>has_discord</th>\n",
       "      <th>has_medium</th>\n",
       "    </tr>\n",
       "  </thead>\n",
       "  <tbody>\n",
       "    <tr>\n",
       "      <th>0</th>\n",
       "      <td>19</td>\n",
       "      <td>1000</td>\n",
       "      <td>2021-04</td>\n",
       "      <td>verified</td>\n",
       "      <td>4</td>\n",
       "      <td>own</td>\n",
       "      <td>500.0</td>\n",
       "      <td>250</td>\n",
       "      <td>False</td>\n",
       "      <td>False</td>\n",
       "      <td>True</td>\n",
       "      <td>True</td>\n",
       "      <td>True</td>\n",
       "    </tr>\n",
       "    <tr>\n",
       "      <th>1</th>\n",
       "      <td>45</td>\n",
       "      <td>8888</td>\n",
       "      <td>2021-07</td>\n",
       "      <td>verified</td>\n",
       "      <td>5</td>\n",
       "      <td>own</td>\n",
       "      <td>500.0</td>\n",
       "      <td>250</td>\n",
       "      <td>False</td>\n",
       "      <td>False</td>\n",
       "      <td>True</td>\n",
       "      <td>True</td>\n",
       "      <td>False</td>\n",
       "    </tr>\n",
       "    <tr>\n",
       "      <th>2</th>\n",
       "      <td>44</td>\n",
       "      <td>10000</td>\n",
       "      <td>2022-04</td>\n",
       "      <td>verified</td>\n",
       "      <td>8</td>\n",
       "      <td>own</td>\n",
       "      <td>500.0</td>\n",
       "      <td>250</td>\n",
       "      <td>True</td>\n",
       "      <td>False</td>\n",
       "      <td>True</td>\n",
       "      <td>True</td>\n",
       "      <td>False</td>\n",
       "    </tr>\n",
       "    <tr>\n",
       "      <th>3</th>\n",
       "      <td>53</td>\n",
       "      <td>9999</td>\n",
       "      <td>2022-07</td>\n",
       "      <td>verified</td>\n",
       "      <td>9</td>\n",
       "      <td>own</td>\n",
       "      <td>900.0</td>\n",
       "      <td>250</td>\n",
       "      <td>False</td>\n",
       "      <td>False</td>\n",
       "      <td>True</td>\n",
       "      <td>True</td>\n",
       "      <td>False</td>\n",
       "    </tr>\n",
       "    <tr>\n",
       "      <th>4</th>\n",
       "      <td>6</td>\n",
       "      <td>9602</td>\n",
       "      <td>2021-06</td>\n",
       "      <td>verified</td>\n",
       "      <td>8</td>\n",
       "      <td>own</td>\n",
       "      <td>NaN</td>\n",
       "      <td>250</td>\n",
       "      <td>False</td>\n",
       "      <td>False</td>\n",
       "      <td>True</td>\n",
       "      <td>True</td>\n",
       "      <td>False</td>\n",
       "    </tr>\n",
       "  </tbody>\n",
       "</table>\n",
       "</div>"
      ],
      "text/plain": [
       "   collection_id  total_supply creation_date verification_status  n_of_traits  \\\n",
       "0             19          1000       2021-04            verified            4   \n",
       "1             45          8888       2021-07            verified            5   \n",
       "2             44         10000       2022-04            verified            8   \n",
       "3             53          9999       2022-07            verified            9   \n",
       "4              6          9602       2021-06            verified            8   \n",
       "\n",
       "  contract_type  seller_fees  platform_fees  openrarity_enabled  has_website  \\\n",
       "0           own        500.0            250               False        False   \n",
       "1           own        500.0            250               False        False   \n",
       "2           own        500.0            250                True        False   \n",
       "3           own        900.0            250               False        False   \n",
       "4           own          NaN            250               False        False   \n",
       "\n",
       "   has_own_twitter  has_discord  has_medium  \n",
       "0             True         True        True  \n",
       "1             True         True       False  \n",
       "2             True         True       False  \n",
       "3             True         True       False  \n",
       "4             True         True       False  "
      ]
     },
     "execution_count": 668,
     "metadata": {},
     "output_type": "execute_result"
    }
   ],
   "source": [
    "collections.head(5)"
   ]
  },
  {
   "cell_type": "code",
   "execution_count": 669,
   "id": "380e3291",
   "metadata": {},
   "outputs": [
    {
     "data": {
      "text/html": [
       "<div>\n",
       "<style scoped>\n",
       "    .dataframe tbody tr th:only-of-type {\n",
       "        vertical-align: middle;\n",
       "    }\n",
       "\n",
       "    .dataframe tbody tr th {\n",
       "        vertical-align: top;\n",
       "    }\n",
       "\n",
       "    .dataframe thead th {\n",
       "        text-align: right;\n",
       "    }\n",
       "</style>\n",
       "<table border=\"1\" class=\"dataframe\">\n",
       "  <thead>\n",
       "    <tr style=\"text-align: right;\">\n",
       "      <th></th>\n",
       "      <th>collection_id</th>\n",
       "      <th>total_supply</th>\n",
       "      <th>creation_date</th>\n",
       "      <th>verification_status</th>\n",
       "      <th>n_of_traits</th>\n",
       "      <th>contract_type</th>\n",
       "      <th>seller_fees</th>\n",
       "      <th>platform_fees</th>\n",
       "      <th>openrarity_enabled</th>\n",
       "      <th>has_website</th>\n",
       "      <th>has_own_twitter</th>\n",
       "      <th>has_discord</th>\n",
       "      <th>has_medium</th>\n",
       "    </tr>\n",
       "  </thead>\n",
       "  <tbody>\n",
       "    <tr>\n",
       "      <th>2</th>\n",
       "      <td>44</td>\n",
       "      <td>10000</td>\n",
       "      <td>2022-04</td>\n",
       "      <td>verified</td>\n",
       "      <td>8</td>\n",
       "      <td>own</td>\n",
       "      <td>500.0</td>\n",
       "      <td>250</td>\n",
       "      <td>True</td>\n",
       "      <td>False</td>\n",
       "      <td>True</td>\n",
       "      <td>True</td>\n",
       "      <td>False</td>\n",
       "    </tr>\n",
       "    <tr>\n",
       "      <th>11</th>\n",
       "      <td>1</td>\n",
       "      <td>15000</td>\n",
       "      <td>2022-04</td>\n",
       "      <td>verified</td>\n",
       "      <td>12</td>\n",
       "      <td>own</td>\n",
       "      <td>500.0</td>\n",
       "      <td>250</td>\n",
       "      <td>True</td>\n",
       "      <td>False</td>\n",
       "      <td>True</td>\n",
       "      <td>True</td>\n",
       "      <td>False</td>\n",
       "    </tr>\n",
       "    <tr>\n",
       "      <th>12</th>\n",
       "      <td>37</td>\n",
       "      <td>8888</td>\n",
       "      <td>2022-03</td>\n",
       "      <td>verified</td>\n",
       "      <td>8</td>\n",
       "      <td>own</td>\n",
       "      <td>800.0</td>\n",
       "      <td>250</td>\n",
       "      <td>True</td>\n",
       "      <td>False</td>\n",
       "      <td>True</td>\n",
       "      <td>True</td>\n",
       "      <td>True</td>\n",
       "    </tr>\n",
       "    <tr>\n",
       "      <th>13</th>\n",
       "      <td>34</td>\n",
       "      <td>5555</td>\n",
       "      <td>2022-02</td>\n",
       "      <td>verified</td>\n",
       "      <td>9</td>\n",
       "      <td>own</td>\n",
       "      <td>550.0</td>\n",
       "      <td>250</td>\n",
       "      <td>True</td>\n",
       "      <td>False</td>\n",
       "      <td>True</td>\n",
       "      <td>True</td>\n",
       "      <td>False</td>\n",
       "    </tr>\n",
       "    <tr>\n",
       "      <th>25</th>\n",
       "      <td>10</td>\n",
       "      <td>3331</td>\n",
       "      <td>2022-02</td>\n",
       "      <td>approved</td>\n",
       "      <td>12</td>\n",
       "      <td>own</td>\n",
       "      <td>500.0</td>\n",
       "      <td>250</td>\n",
       "      <td>True</td>\n",
       "      <td>False</td>\n",
       "      <td>True</td>\n",
       "      <td>True</td>\n",
       "      <td>False</td>\n",
       "    </tr>\n",
       "    <tr>\n",
       "      <th>33</th>\n",
       "      <td>54</td>\n",
       "      <td>9997</td>\n",
       "      <td>2021-11</td>\n",
       "      <td>verified</td>\n",
       "      <td>19</td>\n",
       "      <td>own</td>\n",
       "      <td>750.0</td>\n",
       "      <td>250</td>\n",
       "      <td>True</td>\n",
       "      <td>False</td>\n",
       "      <td>True</td>\n",
       "      <td>True</td>\n",
       "      <td>False</td>\n",
       "    </tr>\n",
       "    <tr>\n",
       "      <th>34</th>\n",
       "      <td>28</td>\n",
       "      <td>9996</td>\n",
       "      <td>2022-06</td>\n",
       "      <td>verified</td>\n",
       "      <td>14</td>\n",
       "      <td>own</td>\n",
       "      <td>250.0</td>\n",
       "      <td>250</td>\n",
       "      <td>True</td>\n",
       "      <td>False</td>\n",
       "      <td>True</td>\n",
       "      <td>True</td>\n",
       "      <td>False</td>\n",
       "    </tr>\n",
       "    <tr>\n",
       "      <th>35</th>\n",
       "      <td>58</td>\n",
       "      <td>12505</td>\n",
       "      <td>2022-04</td>\n",
       "      <td>verified</td>\n",
       "      <td>6</td>\n",
       "      <td>own</td>\n",
       "      <td>1000.0</td>\n",
       "      <td>250</td>\n",
       "      <td>True</td>\n",
       "      <td>False</td>\n",
       "      <td>True</td>\n",
       "      <td>True</td>\n",
       "      <td>False</td>\n",
       "    </tr>\n",
       "    <tr>\n",
       "      <th>37</th>\n",
       "      <td>38</td>\n",
       "      <td>5555</td>\n",
       "      <td>2022-07</td>\n",
       "      <td>verified</td>\n",
       "      <td>10</td>\n",
       "      <td>own</td>\n",
       "      <td>500.0</td>\n",
       "      <td>250</td>\n",
       "      <td>True</td>\n",
       "      <td>False</td>\n",
       "      <td>True</td>\n",
       "      <td>True</td>\n",
       "      <td>False</td>\n",
       "    </tr>\n",
       "    <tr>\n",
       "      <th>40</th>\n",
       "      <td>47</td>\n",
       "      <td>5267</td>\n",
       "      <td>2022-06</td>\n",
       "      <td>verified</td>\n",
       "      <td>0</td>\n",
       "      <td>own</td>\n",
       "      <td>750.0</td>\n",
       "      <td>250</td>\n",
       "      <td>True</td>\n",
       "      <td>False</td>\n",
       "      <td>True</td>\n",
       "      <td>True</td>\n",
       "      <td>False</td>\n",
       "    </tr>\n",
       "    <tr>\n",
       "      <th>43</th>\n",
       "      <td>50</td>\n",
       "      <td>9999</td>\n",
       "      <td>2021-12</td>\n",
       "      <td>approved</td>\n",
       "      <td>8</td>\n",
       "      <td>own</td>\n",
       "      <td>1000.0</td>\n",
       "      <td>250</td>\n",
       "      <td>True</td>\n",
       "      <td>False</td>\n",
       "      <td>True</td>\n",
       "      <td>True</td>\n",
       "      <td>False</td>\n",
       "    </tr>\n",
       "    <tr>\n",
       "      <th>44</th>\n",
       "      <td>27</td>\n",
       "      <td>10000</td>\n",
       "      <td>2022-02</td>\n",
       "      <td>verified</td>\n",
       "      <td>18</td>\n",
       "      <td>own</td>\n",
       "      <td>500.0</td>\n",
       "      <td>250</td>\n",
       "      <td>True</td>\n",
       "      <td>False</td>\n",
       "      <td>True</td>\n",
       "      <td>True</td>\n",
       "      <td>False</td>\n",
       "    </tr>\n",
       "    <tr>\n",
       "      <th>47</th>\n",
       "      <td>22</td>\n",
       "      <td>10000</td>\n",
       "      <td>2022-01</td>\n",
       "      <td>approved</td>\n",
       "      <td>5</td>\n",
       "      <td>own</td>\n",
       "      <td>500.0</td>\n",
       "      <td>250</td>\n",
       "      <td>True</td>\n",
       "      <td>False</td>\n",
       "      <td>True</td>\n",
       "      <td>True</td>\n",
       "      <td>False</td>\n",
       "    </tr>\n",
       "  </tbody>\n",
       "</table>\n",
       "</div>"
      ],
      "text/plain": [
       "    collection_id  total_supply creation_date verification_status  \\\n",
       "2              44         10000       2022-04            verified   \n",
       "11              1         15000       2022-04            verified   \n",
       "12             37          8888       2022-03            verified   \n",
       "13             34          5555       2022-02            verified   \n",
       "25             10          3331       2022-02            approved   \n",
       "33             54          9997       2021-11            verified   \n",
       "34             28          9996       2022-06            verified   \n",
       "35             58         12505       2022-04            verified   \n",
       "37             38          5555       2022-07            verified   \n",
       "40             47          5267       2022-06            verified   \n",
       "43             50          9999       2021-12            approved   \n",
       "44             27         10000       2022-02            verified   \n",
       "47             22         10000       2022-01            approved   \n",
       "\n",
       "    n_of_traits contract_type  seller_fees  platform_fees  openrarity_enabled  \\\n",
       "2             8           own        500.0            250                True   \n",
       "11           12           own        500.0            250                True   \n",
       "12            8           own        800.0            250                True   \n",
       "13            9           own        550.0            250                True   \n",
       "25           12           own        500.0            250                True   \n",
       "33           19           own        750.0            250                True   \n",
       "34           14           own        250.0            250                True   \n",
       "35            6           own       1000.0            250                True   \n",
       "37           10           own        500.0            250                True   \n",
       "40            0           own        750.0            250                True   \n",
       "43            8           own       1000.0            250                True   \n",
       "44           18           own        500.0            250                True   \n",
       "47            5           own        500.0            250                True   \n",
       "\n",
       "    has_website  has_own_twitter  has_discord  has_medium  \n",
       "2         False             True         True       False  \n",
       "11        False             True         True       False  \n",
       "12        False             True         True        True  \n",
       "13        False             True         True       False  \n",
       "25        False             True         True       False  \n",
       "33        False             True         True       False  \n",
       "34        False             True         True       False  \n",
       "35        False             True         True       False  \n",
       "37        False             True         True       False  \n",
       "40        False             True         True       False  \n",
       "43        False             True         True       False  \n",
       "44        False             True         True       False  \n",
       "47        False             True         True       False  "
      ]
     },
     "execution_count": 669,
     "metadata": {},
     "output_type": "execute_result"
    }
   ],
   "source": [
    "coll_True=collections[collections[\"openrarity_enabled\"].values==True]\n",
    "coll_True"
   ]
  },
  {
   "cell_type": "code",
   "execution_count": 670,
   "id": "9fd0def3",
   "metadata": {},
   "outputs": [
    {
     "data": {
      "text/plain": [
       "(48, 13)"
      ]
     },
     "execution_count": 670,
     "metadata": {},
     "output_type": "execute_result"
    }
   ],
   "source": [
    "collections.shape"
   ]
  },
  {
   "cell_type": "code",
   "execution_count": 671,
   "id": "7431796a",
   "metadata": {},
   "outputs": [
    {
     "data": {
      "text/html": [
       "<div>\n",
       "<style scoped>\n",
       "    .dataframe tbody tr th:only-of-type {\n",
       "        vertical-align: middle;\n",
       "    }\n",
       "\n",
       "    .dataframe tbody tr th {\n",
       "        vertical-align: top;\n",
       "    }\n",
       "\n",
       "    .dataframe thead th {\n",
       "        text-align: right;\n",
       "    }\n",
       "</style>\n",
       "<table border=\"1\" class=\"dataframe\">\n",
       "  <thead>\n",
       "    <tr style=\"text-align: right;\">\n",
       "      <th></th>\n",
       "      <th>collection_id</th>\n",
       "      <th>total_supply</th>\n",
       "      <th>n_of_traits</th>\n",
       "      <th>seller_fees</th>\n",
       "      <th>platform_fees</th>\n",
       "    </tr>\n",
       "  </thead>\n",
       "  <tbody>\n",
       "    <tr>\n",
       "      <th>count</th>\n",
       "      <td>48.000000</td>\n",
       "      <td>48.000000</td>\n",
       "      <td>48.000000</td>\n",
       "      <td>46.000000</td>\n",
       "      <td>48.0</td>\n",
       "    </tr>\n",
       "    <tr>\n",
       "      <th>mean</th>\n",
       "      <td>30.333333</td>\n",
       "      <td>10760.979167</td>\n",
       "      <td>12.083333</td>\n",
       "      <td>711.956522</td>\n",
       "      <td>250.0</td>\n",
       "    </tr>\n",
       "    <tr>\n",
       "      <th>std</th>\n",
       "      <td>18.062932</td>\n",
       "      <td>9524.450152</td>\n",
       "      <td>11.741603</td>\n",
       "      <td>243.626486</td>\n",
       "      <td>0.0</td>\n",
       "    </tr>\n",
       "    <tr>\n",
       "      <th>min</th>\n",
       "      <td>0.000000</td>\n",
       "      <td>1.000000</td>\n",
       "      <td>0.000000</td>\n",
       "      <td>200.000000</td>\n",
       "      <td>250.0</td>\n",
       "    </tr>\n",
       "    <tr>\n",
       "      <th>25%</th>\n",
       "      <td>14.750000</td>\n",
       "      <td>5541.000000</td>\n",
       "      <td>8.000000</td>\n",
       "      <td>500.000000</td>\n",
       "      <td>250.0</td>\n",
       "    </tr>\n",
       "    <tr>\n",
       "      <th>50%</th>\n",
       "      <td>30.500000</td>\n",
       "      <td>9555.000000</td>\n",
       "      <td>9.500000</td>\n",
       "      <td>750.000000</td>\n",
       "      <td>250.0</td>\n",
       "    </tr>\n",
       "    <tr>\n",
       "      <th>75%</th>\n",
       "      <td>45.250000</td>\n",
       "      <td>10000.000000</td>\n",
       "      <td>14.000000</td>\n",
       "      <td>900.000000</td>\n",
       "      <td>250.0</td>\n",
       "    </tr>\n",
       "    <tr>\n",
       "      <th>max</th>\n",
       "      <td>60.000000</td>\n",
       "      <td>58351.000000</td>\n",
       "      <td>80.000000</td>\n",
       "      <td>1000.000000</td>\n",
       "      <td>250.0</td>\n",
       "    </tr>\n",
       "  </tbody>\n",
       "</table>\n",
       "</div>"
      ],
      "text/plain": [
       "       collection_id  total_supply  n_of_traits  seller_fees  platform_fees\n",
       "count      48.000000     48.000000    48.000000    46.000000           48.0\n",
       "mean       30.333333  10760.979167    12.083333   711.956522          250.0\n",
       "std        18.062932   9524.450152    11.741603   243.626486            0.0\n",
       "min         0.000000      1.000000     0.000000   200.000000          250.0\n",
       "25%        14.750000   5541.000000     8.000000   500.000000          250.0\n",
       "50%        30.500000   9555.000000     9.500000   750.000000          250.0\n",
       "75%        45.250000  10000.000000    14.000000   900.000000          250.0\n",
       "max        60.000000  58351.000000    80.000000  1000.000000          250.0"
      ]
     },
     "execution_count": 671,
     "metadata": {},
     "output_type": "execute_result"
    }
   ],
   "source": [
    "collections.describe()"
   ]
  },
  {
   "cell_type": "code",
   "execution_count": 672,
   "id": "fa106c5c",
   "metadata": {},
   "outputs": [],
   "source": [
    "collections['seller_fees'].fillna((collections['seller_fees'].median()), inplace=True)"
   ]
  },
  {
   "cell_type": "code",
   "execution_count": 673,
   "id": "d764a89d",
   "metadata": {},
   "outputs": [
    {
     "data": {
      "text/plain": [
       "collection_id          0\n",
       "total_supply           0\n",
       "creation_date          0\n",
       "verification_status    0\n",
       "n_of_traits            0\n",
       "contract_type          0\n",
       "seller_fees            0\n",
       "platform_fees          0\n",
       "openrarity_enabled     0\n",
       "has_website            0\n",
       "has_own_twitter        0\n",
       "has_discord            0\n",
       "has_medium             0\n",
       "dtype: int64"
      ]
     },
     "execution_count": 673,
     "metadata": {},
     "output_type": "execute_result"
    }
   ],
   "source": [
    "collections.isnull().sum()"
   ]
  },
  {
   "cell_type": "code",
   "execution_count": 674,
   "id": "85c3925f",
   "metadata": {},
   "outputs": [
    {
     "data": {
      "text/html": [
       "<div>\n",
       "<style scoped>\n",
       "    .dataframe tbody tr th:only-of-type {\n",
       "        vertical-align: middle;\n",
       "    }\n",
       "\n",
       "    .dataframe tbody tr th {\n",
       "        vertical-align: top;\n",
       "    }\n",
       "\n",
       "    .dataframe thead th {\n",
       "        text-align: right;\n",
       "    }\n",
       "</style>\n",
       "<table border=\"1\" class=\"dataframe\">\n",
       "  <thead>\n",
       "    <tr style=\"text-align: right;\">\n",
       "      <th></th>\n",
       "      <th>collection_id</th>\n",
       "      <th>total_supply</th>\n",
       "      <th>n_of_traits</th>\n",
       "      <th>seller_fees</th>\n",
       "      <th>platform_fees</th>\n",
       "      <th>openrarity_enabled</th>\n",
       "      <th>has_website</th>\n",
       "      <th>has_own_twitter</th>\n",
       "      <th>has_discord</th>\n",
       "      <th>has_medium</th>\n",
       "    </tr>\n",
       "  </thead>\n",
       "  <tbody>\n",
       "    <tr>\n",
       "      <th>collection_id</th>\n",
       "      <td>1.000000</td>\n",
       "      <td>-0.003575</td>\n",
       "      <td>-0.078383</td>\n",
       "      <td>0.234503</td>\n",
       "      <td>NaN</td>\n",
       "      <td>0.146007</td>\n",
       "      <td>NaN</td>\n",
       "      <td>NaN</td>\n",
       "      <td>0.182109</td>\n",
       "      <td>-0.179436</td>\n",
       "    </tr>\n",
       "    <tr>\n",
       "      <th>total_supply</th>\n",
       "      <td>-0.003575</td>\n",
       "      <td>1.000000</td>\n",
       "      <td>0.118529</td>\n",
       "      <td>-0.206401</td>\n",
       "      <td>NaN</td>\n",
       "      <td>-0.118385</td>\n",
       "      <td>NaN</td>\n",
       "      <td>NaN</td>\n",
       "      <td>-0.476969</td>\n",
       "      <td>-0.081006</td>\n",
       "    </tr>\n",
       "    <tr>\n",
       "      <th>n_of_traits</th>\n",
       "      <td>-0.078383</td>\n",
       "      <td>0.118529</td>\n",
       "      <td>1.000000</td>\n",
       "      <td>-0.014847</td>\n",
       "      <td>NaN</td>\n",
       "      <td>-0.113315</td>\n",
       "      <td>NaN</td>\n",
       "      <td>NaN</td>\n",
       "      <td>0.119100</td>\n",
       "      <td>0.464439</td>\n",
       "    </tr>\n",
       "    <tr>\n",
       "      <th>seller_fees</th>\n",
       "      <td>0.234503</td>\n",
       "      <td>-0.206401</td>\n",
       "      <td>-0.014847</td>\n",
       "      <td>1.000000</td>\n",
       "      <td>NaN</td>\n",
       "      <td>-0.233605</td>\n",
       "      <td>NaN</td>\n",
       "      <td>NaN</td>\n",
       "      <td>-0.021221</td>\n",
       "      <td>-0.061224</td>\n",
       "    </tr>\n",
       "    <tr>\n",
       "      <th>platform_fees</th>\n",
       "      <td>NaN</td>\n",
       "      <td>NaN</td>\n",
       "      <td>NaN</td>\n",
       "      <td>NaN</td>\n",
       "      <td>NaN</td>\n",
       "      <td>NaN</td>\n",
       "      <td>NaN</td>\n",
       "      <td>NaN</td>\n",
       "      <td>NaN</td>\n",
       "      <td>NaN</td>\n",
       "    </tr>\n",
       "    <tr>\n",
       "      <th>openrarity_enabled</th>\n",
       "      <td>0.146007</td>\n",
       "      <td>-0.118385</td>\n",
       "      <td>-0.113315</td>\n",
       "      <td>-0.233605</td>\n",
       "      <td>NaN</td>\n",
       "      <td>1.000000</td>\n",
       "      <td>NaN</td>\n",
       "      <td>NaN</td>\n",
       "      <td>0.332302</td>\n",
       "      <td>-0.118993</td>\n",
       "    </tr>\n",
       "    <tr>\n",
       "      <th>has_website</th>\n",
       "      <td>NaN</td>\n",
       "      <td>NaN</td>\n",
       "      <td>NaN</td>\n",
       "      <td>NaN</td>\n",
       "      <td>NaN</td>\n",
       "      <td>NaN</td>\n",
       "      <td>NaN</td>\n",
       "      <td>NaN</td>\n",
       "      <td>NaN</td>\n",
       "      <td>NaN</td>\n",
       "    </tr>\n",
       "    <tr>\n",
       "      <th>has_own_twitter</th>\n",
       "      <td>NaN</td>\n",
       "      <td>NaN</td>\n",
       "      <td>NaN</td>\n",
       "      <td>NaN</td>\n",
       "      <td>NaN</td>\n",
       "      <td>NaN</td>\n",
       "      <td>NaN</td>\n",
       "      <td>NaN</td>\n",
       "      <td>NaN</td>\n",
       "      <td>NaN</td>\n",
       "    </tr>\n",
       "    <tr>\n",
       "      <th>has_discord</th>\n",
       "      <td>0.182109</td>\n",
       "      <td>-0.476969</td>\n",
       "      <td>0.119100</td>\n",
       "      <td>-0.021221</td>\n",
       "      <td>NaN</td>\n",
       "      <td>0.332302</td>\n",
       "      <td>NaN</td>\n",
       "      <td>NaN</td>\n",
       "      <td>1.000000</td>\n",
       "      <td>0.225296</td>\n",
       "    </tr>\n",
       "    <tr>\n",
       "      <th>has_medium</th>\n",
       "      <td>-0.179436</td>\n",
       "      <td>-0.081006</td>\n",
       "      <td>0.464439</td>\n",
       "      <td>-0.061224</td>\n",
       "      <td>NaN</td>\n",
       "      <td>-0.118993</td>\n",
       "      <td>NaN</td>\n",
       "      <td>NaN</td>\n",
       "      <td>0.225296</td>\n",
       "      <td>1.000000</td>\n",
       "    </tr>\n",
       "  </tbody>\n",
       "</table>\n",
       "</div>"
      ],
      "text/plain": [
       "                    collection_id  total_supply  n_of_traits  seller_fees  \\\n",
       "collection_id            1.000000     -0.003575    -0.078383     0.234503   \n",
       "total_supply            -0.003575      1.000000     0.118529    -0.206401   \n",
       "n_of_traits             -0.078383      0.118529     1.000000    -0.014847   \n",
       "seller_fees              0.234503     -0.206401    -0.014847     1.000000   \n",
       "platform_fees                 NaN           NaN          NaN          NaN   \n",
       "openrarity_enabled       0.146007     -0.118385    -0.113315    -0.233605   \n",
       "has_website                   NaN           NaN          NaN          NaN   \n",
       "has_own_twitter               NaN           NaN          NaN          NaN   \n",
       "has_discord              0.182109     -0.476969     0.119100    -0.021221   \n",
       "has_medium              -0.179436     -0.081006     0.464439    -0.061224   \n",
       "\n",
       "                    platform_fees  openrarity_enabled  has_website  \\\n",
       "collection_id                 NaN            0.146007          NaN   \n",
       "total_supply                  NaN           -0.118385          NaN   \n",
       "n_of_traits                   NaN           -0.113315          NaN   \n",
       "seller_fees                   NaN           -0.233605          NaN   \n",
       "platform_fees                 NaN                 NaN          NaN   \n",
       "openrarity_enabled            NaN            1.000000          NaN   \n",
       "has_website                   NaN                 NaN          NaN   \n",
       "has_own_twitter               NaN                 NaN          NaN   \n",
       "has_discord                   NaN            0.332302          NaN   \n",
       "has_medium                    NaN           -0.118993          NaN   \n",
       "\n",
       "                    has_own_twitter  has_discord  has_medium  \n",
       "collection_id                   NaN     0.182109   -0.179436  \n",
       "total_supply                    NaN    -0.476969   -0.081006  \n",
       "n_of_traits                     NaN     0.119100    0.464439  \n",
       "seller_fees                     NaN    -0.021221   -0.061224  \n",
       "platform_fees                   NaN          NaN         NaN  \n",
       "openrarity_enabled              NaN     0.332302   -0.118993  \n",
       "has_website                     NaN          NaN         NaN  \n",
       "has_own_twitter                 NaN          NaN         NaN  \n",
       "has_discord                     NaN     1.000000    0.225296  \n",
       "has_medium                      NaN     0.225296    1.000000  "
      ]
     },
     "execution_count": 674,
     "metadata": {},
     "output_type": "execute_result"
    }
   ],
   "source": [
    "collections.corr()"
   ]
  },
  {
   "cell_type": "code",
   "execution_count": null,
   "id": "888d1b31",
   "metadata": {},
   "outputs": [],
   "source": []
  },
  {
   "cell_type": "code",
   "execution_count": null,
   "id": "84d9bf63",
   "metadata": {},
   "outputs": [],
   "source": []
  },
  {
   "cell_type": "markdown",
   "id": "a4730ba2",
   "metadata": {},
   "source": [
    "2. collections_twitter_stats.csv: simple stats about the Twitter accounts of the collections or the creators of the collections.          \n",
    "**collection_id:** ID to identify the collection and the NFTs of the collection         \n",
    "**n_tweets_in_range:** number of tweets in the relevant timeframe\n",
    "**avg_likes:** average number of likes per tweet           \n",
    "**avg_replies:** average number of replies per tweet           \n",
    "**avg_retweets:** average number of retweets per tweet           \n",
    "**min_likes:** minimum number of likes per tweet           \n",
    "**min_replies:** minimum number of replies per tweet            \n",
    "**min_retweets:** minimum number of retweets per tweet               \n",
    "**max_likes:** maximum number of likes per tweet           \n",
    "**max_replies:** maximum number of replies per tweet          \n",
    "**max_retweets:** maximum number of retweets per tweet          "
   ]
  },
  {
   "cell_type": "code",
   "execution_count": 675,
   "id": "d1f9ff35",
   "metadata": {},
   "outputs": [],
   "source": [
    "coll_twitter_stats=pd.read_csv(\"collections_twitter_stats.csv\")"
   ]
  },
  {
   "cell_type": "code",
   "execution_count": 676,
   "id": "f3531ba9",
   "metadata": {},
   "outputs": [
    {
     "data": {
      "text/html": [
       "<div>\n",
       "<style scoped>\n",
       "    .dataframe tbody tr th:only-of-type {\n",
       "        vertical-align: middle;\n",
       "    }\n",
       "\n",
       "    .dataframe tbody tr th {\n",
       "        vertical-align: top;\n",
       "    }\n",
       "\n",
       "    .dataframe thead th {\n",
       "        text-align: right;\n",
       "    }\n",
       "</style>\n",
       "<table border=\"1\" class=\"dataframe\">\n",
       "  <thead>\n",
       "    <tr style=\"text-align: right;\">\n",
       "      <th></th>\n",
       "      <th>collection_id</th>\n",
       "      <th>n_tweets_in_range</th>\n",
       "      <th>avg_likes</th>\n",
       "      <th>avg_replies</th>\n",
       "      <th>avg_retweets</th>\n",
       "      <th>min_likes</th>\n",
       "      <th>min_replies</th>\n",
       "      <th>min_retweets</th>\n",
       "      <th>max_likes</th>\n",
       "      <th>max_replies</th>\n",
       "      <th>max_retweets</th>\n",
       "    </tr>\n",
       "  </thead>\n",
       "  <tbody>\n",
       "    <tr>\n",
       "      <th>0</th>\n",
       "      <td>0</td>\n",
       "      <td>2</td>\n",
       "      <td>183.000000</td>\n",
       "      <td>8.500000</td>\n",
       "      <td>41.000000</td>\n",
       "      <td>123</td>\n",
       "      <td>3</td>\n",
       "      <td>6</td>\n",
       "      <td>243</td>\n",
       "      <td>14</td>\n",
       "      <td>76</td>\n",
       "    </tr>\n",
       "    <tr>\n",
       "      <th>1</th>\n",
       "      <td>1</td>\n",
       "      <td>16</td>\n",
       "      <td>36.375000</td>\n",
       "      <td>3.562500</td>\n",
       "      <td>13.937500</td>\n",
       "      <td>0</td>\n",
       "      <td>0</td>\n",
       "      <td>0</td>\n",
       "      <td>125</td>\n",
       "      <td>21</td>\n",
       "      <td>34</td>\n",
       "    </tr>\n",
       "    <tr>\n",
       "      <th>2</th>\n",
       "      <td>2</td>\n",
       "      <td>1</td>\n",
       "      <td>15.000000</td>\n",
       "      <td>9.000000</td>\n",
       "      <td>1.000000</td>\n",
       "      <td>15</td>\n",
       "      <td>9</td>\n",
       "      <td>1</td>\n",
       "      <td>15</td>\n",
       "      <td>9</td>\n",
       "      <td>1</td>\n",
       "    </tr>\n",
       "    <tr>\n",
       "      <th>3</th>\n",
       "      <td>3</td>\n",
       "      <td>526</td>\n",
       "      <td>1.178707</td>\n",
       "      <td>0.306084</td>\n",
       "      <td>2.655894</td>\n",
       "      <td>0</td>\n",
       "      <td>0</td>\n",
       "      <td>0</td>\n",
       "      <td>21</td>\n",
       "      <td>8</td>\n",
       "      <td>13</td>\n",
       "    </tr>\n",
       "    <tr>\n",
       "      <th>4</th>\n",
       "      <td>4</td>\n",
       "      <td>26</td>\n",
       "      <td>8.153846</td>\n",
       "      <td>0.884615</td>\n",
       "      <td>1.153846</td>\n",
       "      <td>0</td>\n",
       "      <td>0</td>\n",
       "      <td>0</td>\n",
       "      <td>30</td>\n",
       "      <td>6</td>\n",
       "      <td>12</td>\n",
       "    </tr>\n",
       "  </tbody>\n",
       "</table>\n",
       "</div>"
      ],
      "text/plain": [
       "   collection_id  n_tweets_in_range   avg_likes  avg_replies  avg_retweets  \\\n",
       "0              0                  2  183.000000     8.500000     41.000000   \n",
       "1              1                 16   36.375000     3.562500     13.937500   \n",
       "2              2                  1   15.000000     9.000000      1.000000   \n",
       "3              3                526    1.178707     0.306084      2.655894   \n",
       "4              4                 26    8.153846     0.884615      1.153846   \n",
       "\n",
       "   min_likes  min_replies  min_retweets  max_likes  max_replies  max_retweets  \n",
       "0        123            3             6        243           14            76  \n",
       "1          0            0             0        125           21            34  \n",
       "2         15            9             1         15            9             1  \n",
       "3          0            0             0         21            8            13  \n",
       "4          0            0             0         30            6            12  "
      ]
     },
     "execution_count": 676,
     "metadata": {},
     "output_type": "execute_result"
    }
   ],
   "source": [
    "coll_twitter_stats.head()"
   ]
  },
  {
   "cell_type": "markdown",
   "id": "991497c4",
   "metadata": {},
   "source": [
    "3. nfts_train.csv: NFT data from all collections which can be, alongside the above info, used to train the price prediction model.\n",
    "**global_index:** global ID of the NFT to identify it considering all collections                \n",
    "**nft_id:** ID of the NFT to identify its particular collection              \n",
    "**collection_id:** ID of the collection the NFT belongs to as per collections.csv file       \n",
    "**rarity_score:** estimated rarity score within the collection         \n",
    "**openrarity_score:** OpenRarity score if it is enabled (see 1)           \n",
    "**openrarity_rank:** OpenRarity rank within the collection if it is enabled (see 1)            \n",
    "**openrarity_max_rank:** OpenRarity maximum rank of the collection if it is enabled (see 1)         \n",
    "**last_sale_date:** approximated date of the last sale of the NFT        \n",
    "**last_sale_price:** price at which the NFT was last sold for (target variable)           "
   ]
  },
  {
   "cell_type": "code",
   "execution_count": 751,
   "id": "0daeaf73",
   "metadata": {},
   "outputs": [],
   "source": [
    "train_data=pd.read_csv(\"nfts_train.csv\")"
   ]
  },
  {
   "cell_type": "code",
   "execution_count": 756,
   "id": "0ecbf18b",
   "metadata": {},
   "outputs": [
    {
     "data": {
      "text/plain": [
       "0        34\n",
       "47       33\n",
       "212      33\n",
       "44       33\n",
       "405      33\n",
       "         ..\n",
       "27334     1\n",
       "29381     1\n",
       "29816     1\n",
       "25722     1\n",
       "26227     1\n",
       "Name: nft_id, Length: 29899, dtype: int64"
      ]
     },
     "execution_count": 756,
     "metadata": {},
     "output_type": "execute_result"
    }
   ],
   "source": [
    "train_data[\"nft_id\"].value_counts()"
   ]
  },
  {
   "cell_type": "code",
   "execution_count": 644,
   "id": "652db266",
   "metadata": {},
   "outputs": [
    {
     "data": {
      "text/plain": [
       "46    29899\n",
       "36    24154\n",
       "13    23091\n",
       "58    15555\n",
       "1     15000\n",
       "44    10000\n",
       "7     10000\n",
       "31    10000\n",
       "18    10000\n",
       "26    10000\n",
       "50     9999\n",
       "23     9998\n",
       "54     9928\n",
       "8      9667\n",
       "6      9602\n",
       "59     9508\n",
       "4      9000\n",
       "45     8888\n",
       "37     8888\n",
       "15     7902\n",
       "43     7751\n",
       "14     6969\n",
       "0      6501\n",
       "34     5555\n",
       "38     5555\n",
       "51     5080\n",
       "30     5022\n",
       "48     4582\n",
       "25     3997\n",
       "57     3900\n",
       "24     2498\n",
       "19     1000\n",
       "60      420\n",
       "49        1\n",
       "Name: collection_id, dtype: int64"
      ]
     },
     "execution_count": 644,
     "metadata": {},
     "output_type": "execute_result"
    }
   ],
   "source": [
    "train_data[\"collection_id\"].value_counts()"
   ]
  },
  {
   "cell_type": "code",
   "execution_count": 645,
   "id": "179de1a0",
   "metadata": {},
   "outputs": [
    {
     "data": {
      "text/html": [
       "<div>\n",
       "<style scoped>\n",
       "    .dataframe tbody tr th:only-of-type {\n",
       "        vertical-align: middle;\n",
       "    }\n",
       "\n",
       "    .dataframe tbody tr th {\n",
       "        vertical-align: top;\n",
       "    }\n",
       "\n",
       "    .dataframe thead th {\n",
       "        text-align: right;\n",
       "    }\n",
       "</style>\n",
       "<table border=\"1\" class=\"dataframe\">\n",
       "  <thead>\n",
       "    <tr style=\"text-align: right;\">\n",
       "      <th></th>\n",
       "      <th>global_index</th>\n",
       "      <th>nft_id</th>\n",
       "      <th>collection_id</th>\n",
       "      <th>rarity_score</th>\n",
       "      <th>openrarity_score</th>\n",
       "      <th>openrarity_rank</th>\n",
       "      <th>openrarity_max_rank</th>\n",
       "      <th>last_sale_price</th>\n",
       "    </tr>\n",
       "  </thead>\n",
       "  <tbody>\n",
       "    <tr>\n",
       "      <th>count</th>\n",
       "      <td>309910.000000</td>\n",
       "      <td>309910.000000</td>\n",
       "      <td>309910.000000</td>\n",
       "      <td>309910.000000</td>\n",
       "      <td>80480.000000</td>\n",
       "      <td>80480.000000</td>\n",
       "      <td>80480.000000</td>\n",
       "      <td>3.099100e+05</td>\n",
       "    </tr>\n",
       "    <tr>\n",
       "      <th>mean</th>\n",
       "      <td>317003.207947</td>\n",
       "      <td>6738.162024</td>\n",
       "      <td>30.507160</td>\n",
       "      <td>1437.092531</td>\n",
       "      <td>1.000000</td>\n",
       "      <td>5630.164737</td>\n",
       "      <td>11255.829672</td>\n",
       "      <td>2.162269e+00</td>\n",
       "    </tr>\n",
       "    <tr>\n",
       "      <th>std</th>\n",
       "      <td>173138.765569</td>\n",
       "      <td>5977.542096</td>\n",
       "      <td>18.331668</td>\n",
       "      <td>4303.585892</td>\n",
       "      <td>0.152825</td>\n",
       "      <td>3812.126968</td>\n",
       "      <td>3452.713804</td>\n",
       "      <td>1.275132e+01</td>\n",
       "    </tr>\n",
       "    <tr>\n",
       "      <th>min</th>\n",
       "      <td>21928.000000</td>\n",
       "      <td>0.000000</td>\n",
       "      <td>0.000000</td>\n",
       "      <td>1.000000</td>\n",
       "      <td>0.626738</td>\n",
       "      <td>1.000000</td>\n",
       "      <td>5555.000000</td>\n",
       "      <td>6.485360e-08</td>\n",
       "    </tr>\n",
       "    <tr>\n",
       "      <th>25%</th>\n",
       "      <td>174892.250000</td>\n",
       "      <td>2453.000000</td>\n",
       "      <td>13.000000</td>\n",
       "      <td>106.587184</td>\n",
       "      <td>0.906820</td>\n",
       "      <td>2515.750000</td>\n",
       "      <td>9928.000000</td>\n",
       "      <td>4.077085e-03</td>\n",
       "    </tr>\n",
       "    <tr>\n",
       "      <th>50%</th>\n",
       "      <td>341467.500000</td>\n",
       "      <td>5138.000000</td>\n",
       "      <td>34.000000</td>\n",
       "      <td>170.797030</td>\n",
       "      <td>0.978289</td>\n",
       "      <td>5030.000000</td>\n",
       "      <td>10000.000000</td>\n",
       "      <td>8.103344e-03</td>\n",
       "    </tr>\n",
       "    <tr>\n",
       "      <th>75%</th>\n",
       "      <td>493626.750000</td>\n",
       "      <td>8720.750000</td>\n",
       "      <td>46.000000</td>\n",
       "      <td>289.614129</td>\n",
       "      <td>1.059866</td>\n",
       "      <td>8207.250000</td>\n",
       "      <td>15000.000000</td>\n",
       "      <td>3.252062e-01</td>\n",
       "    </tr>\n",
       "    <tr>\n",
       "      <th>max</th>\n",
       "      <td>590227.000000</td>\n",
       "      <td>29898.000000</td>\n",
       "      <td>60.000000</td>\n",
       "      <td>90354.072248</td>\n",
       "      <td>3.663833</td>\n",
       "      <td>15555.000000</td>\n",
       "      <td>15555.000000</td>\n",
       "      <td>1.024002e+03</td>\n",
       "    </tr>\n",
       "  </tbody>\n",
       "</table>\n",
       "</div>"
      ],
      "text/plain": [
       "        global_index         nft_id  collection_id   rarity_score  \\\n",
       "count  309910.000000  309910.000000  309910.000000  309910.000000   \n",
       "mean   317003.207947    6738.162024      30.507160    1437.092531   \n",
       "std    173138.765569    5977.542096      18.331668    4303.585892   \n",
       "min     21928.000000       0.000000       0.000000       1.000000   \n",
       "25%    174892.250000    2453.000000      13.000000     106.587184   \n",
       "50%    341467.500000    5138.000000      34.000000     170.797030   \n",
       "75%    493626.750000    8720.750000      46.000000     289.614129   \n",
       "max    590227.000000   29898.000000      60.000000   90354.072248   \n",
       "\n",
       "       openrarity_score  openrarity_rank  openrarity_max_rank  last_sale_price  \n",
       "count      80480.000000     80480.000000         80480.000000     3.099100e+05  \n",
       "mean           1.000000      5630.164737         11255.829672     2.162269e+00  \n",
       "std            0.152825      3812.126968          3452.713804     1.275132e+01  \n",
       "min            0.626738         1.000000          5555.000000     6.485360e-08  \n",
       "25%            0.906820      2515.750000          9928.000000     4.077085e-03  \n",
       "50%            0.978289      5030.000000         10000.000000     8.103344e-03  \n",
       "75%            1.059866      8207.250000         15000.000000     3.252062e-01  \n",
       "max            3.663833     15555.000000         15555.000000     1.024002e+03  "
      ]
     },
     "execution_count": 645,
     "metadata": {},
     "output_type": "execute_result"
    }
   ],
   "source": [
    "train_data.describe()"
   ]
  },
  {
   "cell_type": "code",
   "execution_count": 646,
   "id": "0ce9f38e",
   "metadata": {},
   "outputs": [
    {
     "data": {
      "text/plain": [
       "global_index                0\n",
       "nft_id                      0\n",
       "collection_id               0\n",
       "rarity_score                0\n",
       "openrarity_score       229430\n",
       "openrarity_rank        229430\n",
       "openrarity_max_rank    229430\n",
       "last_sale_date              0\n",
       "last_sale_price             0\n",
       "dtype: int64"
      ]
     },
     "execution_count": 646,
     "metadata": {},
     "output_type": "execute_result"
    }
   ],
   "source": [
    "train_data.isnull().sum()"
   ]
  },
  {
   "cell_type": "code",
   "execution_count": 647,
   "id": "55ecd92a",
   "metadata": {},
   "outputs": [
    {
     "data": {
      "text/plain": [
       "1.973398    70\n",
       "0.779231    59\n",
       "0.779281    47\n",
       "0.770424    44\n",
       "0.770374    40\n",
       "            ..\n",
       "1.022715     1\n",
       "0.955149     1\n",
       "1.175164     1\n",
       "1.474469     1\n",
       "0.846365     1\n",
       "Name: openrarity_score, Length: 74642, dtype: int64"
      ]
     },
     "execution_count": 647,
     "metadata": {},
     "output_type": "execute_result"
    }
   ],
   "source": [
    "train_data[\"openrarity_score\"].value_counts().sort_values(ascending=False)"
   ]
  },
  {
   "cell_type": "code",
   "execution_count": 688,
   "id": "a1d49bae",
   "metadata": {},
   "outputs": [],
   "source": [
    "\n",
    "# train_data['openrarity_score'].fillna((train_data['openrarity_score']==0), inplace=True)\n",
    "# train_data['openrarity_rank'].fillna((train_data['openrarity_rank']==0), inplace=True)\n",
    "# train_data['openrarity_max_rank'].fillna((train_data['openrarity_max_rank']==0), inplace=True)\n",
    "train_data.replace(np.nan,0,inplace=True)"
   ]
  },
  {
   "cell_type": "code",
   "execution_count": 689,
   "id": "24bdcb97",
   "metadata": {},
   "outputs": [
    {
     "data": {
      "text/html": [
       "<div>\n",
       "<style scoped>\n",
       "    .dataframe tbody tr th:only-of-type {\n",
       "        vertical-align: middle;\n",
       "    }\n",
       "\n",
       "    .dataframe tbody tr th {\n",
       "        vertical-align: top;\n",
       "    }\n",
       "\n",
       "    .dataframe thead th {\n",
       "        text-align: right;\n",
       "    }\n",
       "</style>\n",
       "<table border=\"1\" class=\"dataframe\">\n",
       "  <thead>\n",
       "    <tr style=\"text-align: right;\">\n",
       "      <th></th>\n",
       "      <th>global_index</th>\n",
       "      <th>nft_id</th>\n",
       "      <th>collection_id</th>\n",
       "      <th>rarity_score</th>\n",
       "      <th>openrarity_score</th>\n",
       "      <th>openrarity_rank</th>\n",
       "      <th>openrarity_max_rank</th>\n",
       "      <th>last_sale_date</th>\n",
       "      <th>last_sale_price</th>\n",
       "    </tr>\n",
       "  </thead>\n",
       "  <tbody>\n",
       "    <tr>\n",
       "      <th>0</th>\n",
       "      <td>21928</td>\n",
       "      <td>0</td>\n",
       "      <td>49</td>\n",
       "      <td>2.000000</td>\n",
       "      <td>0.0</td>\n",
       "      <td>0.0</td>\n",
       "      <td>0.0</td>\n",
       "      <td>2022-11</td>\n",
       "      <td>1.266732</td>\n",
       "    </tr>\n",
       "    <tr>\n",
       "      <th>1</th>\n",
       "      <td>32621</td>\n",
       "      <td>0</td>\n",
       "      <td>45</td>\n",
       "      <td>97.077216</td>\n",
       "      <td>0.0</td>\n",
       "      <td>0.0</td>\n",
       "      <td>0.0</td>\n",
       "      <td>2021-08</td>\n",
       "      <td>1.200357</td>\n",
       "    </tr>\n",
       "    <tr>\n",
       "      <th>2</th>\n",
       "      <td>32622</td>\n",
       "      <td>1</td>\n",
       "      <td>45</td>\n",
       "      <td>139.453086</td>\n",
       "      <td>0.0</td>\n",
       "      <td>0.0</td>\n",
       "      <td>0.0</td>\n",
       "      <td>2022-08</td>\n",
       "      <td>3.180572</td>\n",
       "    </tr>\n",
       "    <tr>\n",
       "      <th>3</th>\n",
       "      <td>32623</td>\n",
       "      <td>2</td>\n",
       "      <td>45</td>\n",
       "      <td>127.753445</td>\n",
       "      <td>0.0</td>\n",
       "      <td>0.0</td>\n",
       "      <td>0.0</td>\n",
       "      <td>2021-08</td>\n",
       "      <td>3.502910</td>\n",
       "    </tr>\n",
       "    <tr>\n",
       "      <th>4</th>\n",
       "      <td>32624</td>\n",
       "      <td>3</td>\n",
       "      <td>45</td>\n",
       "      <td>112.315719</td>\n",
       "      <td>0.0</td>\n",
       "      <td>0.0</td>\n",
       "      <td>0.0</td>\n",
       "      <td>2022-09</td>\n",
       "      <td>4.009567</td>\n",
       "    </tr>\n",
       "    <tr>\n",
       "      <th>...</th>\n",
       "      <td>...</td>\n",
       "      <td>...</td>\n",
       "      <td>...</td>\n",
       "      <td>...</td>\n",
       "      <td>...</td>\n",
       "      <td>...</td>\n",
       "      <td>...</td>\n",
       "      <td>...</td>\n",
       "      <td>...</td>\n",
       "    </tr>\n",
       "    <tr>\n",
       "      <th>309905</th>\n",
       "      <td>590223</td>\n",
       "      <td>8995</td>\n",
       "      <td>4</td>\n",
       "      <td>128.268841</td>\n",
       "      <td>0.0</td>\n",
       "      <td>0.0</td>\n",
       "      <td>0.0</td>\n",
       "      <td>2022-08</td>\n",
       "      <td>0.001571</td>\n",
       "    </tr>\n",
       "    <tr>\n",
       "      <th>309906</th>\n",
       "      <td>590224</td>\n",
       "      <td>8996</td>\n",
       "      <td>4</td>\n",
       "      <td>152.040769</td>\n",
       "      <td>0.0</td>\n",
       "      <td>0.0</td>\n",
       "      <td>0.0</td>\n",
       "      <td>2022-08</td>\n",
       "      <td>0.001661</td>\n",
       "    </tr>\n",
       "    <tr>\n",
       "      <th>309907</th>\n",
       "      <td>590225</td>\n",
       "      <td>8997</td>\n",
       "      <td>4</td>\n",
       "      <td>178.734807</td>\n",
       "      <td>0.0</td>\n",
       "      <td>0.0</td>\n",
       "      <td>0.0</td>\n",
       "      <td>2022-08</td>\n",
       "      <td>0.008480</td>\n",
       "    </tr>\n",
       "    <tr>\n",
       "      <th>309908</th>\n",
       "      <td>590226</td>\n",
       "      <td>8998</td>\n",
       "      <td>4</td>\n",
       "      <td>130.974464</td>\n",
       "      <td>0.0</td>\n",
       "      <td>0.0</td>\n",
       "      <td>0.0</td>\n",
       "      <td>2022-08</td>\n",
       "      <td>0.004236</td>\n",
       "    </tr>\n",
       "    <tr>\n",
       "      <th>309909</th>\n",
       "      <td>590227</td>\n",
       "      <td>8999</td>\n",
       "      <td>4</td>\n",
       "      <td>103.120966</td>\n",
       "      <td>0.0</td>\n",
       "      <td>0.0</td>\n",
       "      <td>0.0</td>\n",
       "      <td>2022-08</td>\n",
       "      <td>0.006236</td>\n",
       "    </tr>\n",
       "  </tbody>\n",
       "</table>\n",
       "<p>309910 rows × 9 columns</p>\n",
       "</div>"
      ],
      "text/plain": [
       "        global_index  nft_id  collection_id  rarity_score  openrarity_score  \\\n",
       "0              21928       0             49      2.000000               0.0   \n",
       "1              32621       0             45     97.077216               0.0   \n",
       "2              32622       1             45    139.453086               0.0   \n",
       "3              32623       2             45    127.753445               0.0   \n",
       "4              32624       3             45    112.315719               0.0   \n",
       "...              ...     ...            ...           ...               ...   \n",
       "309905        590223    8995              4    128.268841               0.0   \n",
       "309906        590224    8996              4    152.040769               0.0   \n",
       "309907        590225    8997              4    178.734807               0.0   \n",
       "309908        590226    8998              4    130.974464               0.0   \n",
       "309909        590227    8999              4    103.120966               0.0   \n",
       "\n",
       "        openrarity_rank  openrarity_max_rank last_sale_date  last_sale_price  \n",
       "0                   0.0                  0.0        2022-11         1.266732  \n",
       "1                   0.0                  0.0        2021-08         1.200357  \n",
       "2                   0.0                  0.0        2022-08         3.180572  \n",
       "3                   0.0                  0.0        2021-08         3.502910  \n",
       "4                   0.0                  0.0        2022-09         4.009567  \n",
       "...                 ...                  ...            ...              ...  \n",
       "309905              0.0                  0.0        2022-08         0.001571  \n",
       "309906              0.0                  0.0        2022-08         0.001661  \n",
       "309907              0.0                  0.0        2022-08         0.008480  \n",
       "309908              0.0                  0.0        2022-08         0.004236  \n",
       "309909              0.0                  0.0        2022-08         0.006236  \n",
       "\n",
       "[309910 rows x 9 columns]"
      ]
     },
     "execution_count": 689,
     "metadata": {},
     "output_type": "execute_result"
    }
   ],
   "source": [
    "\n",
    "train_data.sort_values(by=\"global_index\")"
   ]
  },
  {
   "cell_type": "code",
   "execution_count": 690,
   "id": "05d5ad5a",
   "metadata": {},
   "outputs": [
    {
     "data": {
      "text/plain": [
       "global_index          -0.096667\n",
       "nft_id                -0.055394\n",
       "collection_id         -0.118710\n",
       "rarity_score          -0.046505\n",
       "openrarity_score      -0.013778\n",
       "openrarity_rank       -0.026534\n",
       "openrarity_max_rank   -0.025981\n",
       "last_sale_price        1.000000\n",
       "Name: last_sale_price, dtype: float64"
      ]
     },
     "execution_count": 690,
     "metadata": {},
     "output_type": "execute_result"
    }
   ],
   "source": [
    "train_data.corr()[\"last_sale_price\"]"
   ]
  },
  {
   "cell_type": "code",
   "execution_count": 691,
   "id": "fa0277e6",
   "metadata": {},
   "outputs": [],
   "source": [
    "# from sklearn.metrics import confusion_matrix\n",
    "# from sklearn.preprocessing import LabelEncoder,MinMaxScaler , StandardScaler\n",
    "# from sklearn.linear_model import LinearRegression\n",
    "# from sklearn.model_selection import train_test_split\n",
    "\n",
    "# # Plotting libraries\n",
    "# import matplotlib\n",
    "# import matplotlib.pyplot as plt\n",
    "# import seaborn as sns\n",
    "# sns.set(color_codes = True)\n",
    "# %matplotlib inline"
   ]
  },
  {
   "cell_type": "code",
   "execution_count": 692,
   "id": "14a63d21",
   "metadata": {},
   "outputs": [
    {
     "data": {
      "text/html": [
       "<div>\n",
       "<style scoped>\n",
       "    .dataframe tbody tr th:only-of-type {\n",
       "        vertical-align: middle;\n",
       "    }\n",
       "\n",
       "    .dataframe tbody tr th {\n",
       "        vertical-align: top;\n",
       "    }\n",
       "\n",
       "    .dataframe thead th {\n",
       "        text-align: right;\n",
       "    }\n",
       "</style>\n",
       "<table border=\"1\" class=\"dataframe\">\n",
       "  <thead>\n",
       "    <tr style=\"text-align: right;\">\n",
       "      <th></th>\n",
       "      <th>collection_id</th>\n",
       "      <th>total_supply</th>\n",
       "      <th>creation_date</th>\n",
       "      <th>verification_status</th>\n",
       "      <th>n_of_traits</th>\n",
       "      <th>contract_type</th>\n",
       "      <th>seller_fees</th>\n",
       "      <th>platform_fees</th>\n",
       "      <th>openrarity_enabled</th>\n",
       "      <th>has_website</th>\n",
       "      <th>...</th>\n",
       "      <th>n_tweets_in_range</th>\n",
       "      <th>avg_likes</th>\n",
       "      <th>avg_replies</th>\n",
       "      <th>avg_retweets</th>\n",
       "      <th>min_likes</th>\n",
       "      <th>min_replies</th>\n",
       "      <th>min_retweets</th>\n",
       "      <th>max_likes</th>\n",
       "      <th>max_replies</th>\n",
       "      <th>max_retweets</th>\n",
       "    </tr>\n",
       "  </thead>\n",
       "  <tbody>\n",
       "    <tr>\n",
       "      <th>0</th>\n",
       "      <td>19</td>\n",
       "      <td>1000</td>\n",
       "      <td>2021-04</td>\n",
       "      <td>verified</td>\n",
       "      <td>4</td>\n",
       "      <td>own</td>\n",
       "      <td>500.0</td>\n",
       "      <td>250</td>\n",
       "      <td>False</td>\n",
       "      <td>False</td>\n",
       "      <td>...</td>\n",
       "      <td>11</td>\n",
       "      <td>43.454545</td>\n",
       "      <td>5.454545</td>\n",
       "      <td>94.272727</td>\n",
       "      <td>0</td>\n",
       "      <td>0</td>\n",
       "      <td>36</td>\n",
       "      <td>239</td>\n",
       "      <td>30</td>\n",
       "      <td>258</td>\n",
       "    </tr>\n",
       "    <tr>\n",
       "      <th>1</th>\n",
       "      <td>45</td>\n",
       "      <td>8888</td>\n",
       "      <td>2021-07</td>\n",
       "      <td>verified</td>\n",
       "      <td>5</td>\n",
       "      <td>own</td>\n",
       "      <td>500.0</td>\n",
       "      <td>250</td>\n",
       "      <td>False</td>\n",
       "      <td>False</td>\n",
       "      <td>...</td>\n",
       "      <td>11</td>\n",
       "      <td>133.181818</td>\n",
       "      <td>13.454545</td>\n",
       "      <td>55.181818</td>\n",
       "      <td>0</td>\n",
       "      <td>0</td>\n",
       "      <td>7</td>\n",
       "      <td>402</td>\n",
       "      <td>47</td>\n",
       "      <td>239</td>\n",
       "    </tr>\n",
       "    <tr>\n",
       "      <th>2</th>\n",
       "      <td>44</td>\n",
       "      <td>10000</td>\n",
       "      <td>2022-04</td>\n",
       "      <td>verified</td>\n",
       "      <td>8</td>\n",
       "      <td>own</td>\n",
       "      <td>500.0</td>\n",
       "      <td>250</td>\n",
       "      <td>True</td>\n",
       "      <td>False</td>\n",
       "      <td>...</td>\n",
       "      <td>7</td>\n",
       "      <td>593.714286</td>\n",
       "      <td>80.285714</td>\n",
       "      <td>110.285714</td>\n",
       "      <td>94</td>\n",
       "      <td>43</td>\n",
       "      <td>14</td>\n",
       "      <td>1532</td>\n",
       "      <td>153</td>\n",
       "      <td>386</td>\n",
       "    </tr>\n",
       "    <tr>\n",
       "      <th>3</th>\n",
       "      <td>53</td>\n",
       "      <td>9999</td>\n",
       "      <td>2022-07</td>\n",
       "      <td>verified</td>\n",
       "      <td>9</td>\n",
       "      <td>own</td>\n",
       "      <td>900.0</td>\n",
       "      <td>250</td>\n",
       "      <td>False</td>\n",
       "      <td>False</td>\n",
       "      <td>...</td>\n",
       "      <td>8</td>\n",
       "      <td>707.875000</td>\n",
       "      <td>103.875000</td>\n",
       "      <td>314.000000</td>\n",
       "      <td>236</td>\n",
       "      <td>26</td>\n",
       "      <td>46</td>\n",
       "      <td>1381</td>\n",
       "      <td>242</td>\n",
       "      <td>873</td>\n",
       "    </tr>\n",
       "    <tr>\n",
       "      <th>4</th>\n",
       "      <td>6</td>\n",
       "      <td>9602</td>\n",
       "      <td>2021-06</td>\n",
       "      <td>verified</td>\n",
       "      <td>8</td>\n",
       "      <td>own</td>\n",
       "      <td>750.0</td>\n",
       "      <td>250</td>\n",
       "      <td>False</td>\n",
       "      <td>False</td>\n",
       "      <td>...</td>\n",
       "      <td>12</td>\n",
       "      <td>0.000000</td>\n",
       "      <td>0.000000</td>\n",
       "      <td>111.833333</td>\n",
       "      <td>0</td>\n",
       "      <td>0</td>\n",
       "      <td>31</td>\n",
       "      <td>0</td>\n",
       "      <td>0</td>\n",
       "      <td>463</td>\n",
       "    </tr>\n",
       "  </tbody>\n",
       "</table>\n",
       "<p>5 rows × 23 columns</p>\n",
       "</div>"
      ],
      "text/plain": [
       "   collection_id  total_supply creation_date verification_status  n_of_traits  \\\n",
       "0             19          1000       2021-04            verified            4   \n",
       "1             45          8888       2021-07            verified            5   \n",
       "2             44         10000       2022-04            verified            8   \n",
       "3             53          9999       2022-07            verified            9   \n",
       "4              6          9602       2021-06            verified            8   \n",
       "\n",
       "  contract_type  seller_fees  platform_fees  openrarity_enabled  has_website  \\\n",
       "0           own        500.0            250               False        False   \n",
       "1           own        500.0            250               False        False   \n",
       "2           own        500.0            250                True        False   \n",
       "3           own        900.0            250               False        False   \n",
       "4           own        750.0            250               False        False   \n",
       "\n",
       "   ...  n_tweets_in_range   avg_likes  avg_replies  avg_retweets  min_likes  \\\n",
       "0  ...                 11   43.454545     5.454545     94.272727          0   \n",
       "1  ...                 11  133.181818    13.454545     55.181818          0   \n",
       "2  ...                  7  593.714286    80.285714    110.285714         94   \n",
       "3  ...                  8  707.875000   103.875000    314.000000        236   \n",
       "4  ...                 12    0.000000     0.000000    111.833333          0   \n",
       "\n",
       "   min_replies  min_retweets  max_likes  max_replies  max_retweets  \n",
       "0            0            36        239           30           258  \n",
       "1            0             7        402           47           239  \n",
       "2           43            14       1532          153           386  \n",
       "3           26            46       1381          242           873  \n",
       "4            0            31          0            0           463  \n",
       "\n",
       "[5 rows x 23 columns]"
      ]
     },
     "execution_count": 692,
     "metadata": {},
     "output_type": "execute_result"
    }
   ],
   "source": [
    "train_with_collection=pd.merge(collections,coll_twitter_stats,on=\"collection_id\")\n",
    "train_with_collection.head()"
   ]
  },
  {
   "cell_type": "code",
   "execution_count": 693,
   "id": "476ad60d",
   "metadata": {},
   "outputs": [],
   "source": [
    "train_with_collection=pd.merge(train_with_collection,train_data,on=\"collection_id\")"
   ]
  },
  {
   "cell_type": "code",
   "execution_count": 694,
   "id": "cfec5c7f",
   "metadata": {},
   "outputs": [
    {
     "data": {
      "text/html": [
       "<div>\n",
       "<style scoped>\n",
       "    .dataframe tbody tr th:only-of-type {\n",
       "        vertical-align: middle;\n",
       "    }\n",
       "\n",
       "    .dataframe tbody tr th {\n",
       "        vertical-align: top;\n",
       "    }\n",
       "\n",
       "    .dataframe thead th {\n",
       "        text-align: right;\n",
       "    }\n",
       "</style>\n",
       "<table border=\"1\" class=\"dataframe\">\n",
       "  <thead>\n",
       "    <tr style=\"text-align: right;\">\n",
       "      <th></th>\n",
       "      <th>collection_id</th>\n",
       "      <th>total_supply</th>\n",
       "      <th>creation_date</th>\n",
       "      <th>verification_status</th>\n",
       "      <th>n_of_traits</th>\n",
       "      <th>contract_type</th>\n",
       "      <th>seller_fees</th>\n",
       "      <th>platform_fees</th>\n",
       "      <th>openrarity_enabled</th>\n",
       "      <th>has_website</th>\n",
       "      <th>...</th>\n",
       "      <th>max_replies</th>\n",
       "      <th>max_retweets</th>\n",
       "      <th>global_index</th>\n",
       "      <th>nft_id</th>\n",
       "      <th>rarity_score</th>\n",
       "      <th>openrarity_score</th>\n",
       "      <th>openrarity_rank</th>\n",
       "      <th>openrarity_max_rank</th>\n",
       "      <th>last_sale_date</th>\n",
       "      <th>last_sale_price</th>\n",
       "    </tr>\n",
       "  </thead>\n",
       "  <tbody>\n",
       "    <tr>\n",
       "      <th>0</th>\n",
       "      <td>19</td>\n",
       "      <td>1000</td>\n",
       "      <td>2021-04</td>\n",
       "      <td>verified</td>\n",
       "      <td>4</td>\n",
       "      <td>own</td>\n",
       "      <td>500.0</td>\n",
       "      <td>250</td>\n",
       "      <td>False</td>\n",
       "      <td>False</td>\n",
       "      <td>...</td>\n",
       "      <td>30</td>\n",
       "      <td>258</td>\n",
       "      <td>322076</td>\n",
       "      <td>0</td>\n",
       "      <td>48.156807</td>\n",
       "      <td>0.0</td>\n",
       "      <td>0.0</td>\n",
       "      <td>0.0</td>\n",
       "      <td>2022-11</td>\n",
       "      <td>12.508229</td>\n",
       "    </tr>\n",
       "    <tr>\n",
       "      <th>1</th>\n",
       "      <td>19</td>\n",
       "      <td>1000</td>\n",
       "      <td>2021-04</td>\n",
       "      <td>verified</td>\n",
       "      <td>4</td>\n",
       "      <td>own</td>\n",
       "      <td>500.0</td>\n",
       "      <td>250</td>\n",
       "      <td>False</td>\n",
       "      <td>False</td>\n",
       "      <td>...</td>\n",
       "      <td>30</td>\n",
       "      <td>258</td>\n",
       "      <td>322077</td>\n",
       "      <td>1</td>\n",
       "      <td>82.404768</td>\n",
       "      <td>0.0</td>\n",
       "      <td>0.0</td>\n",
       "      <td>0.0</td>\n",
       "      <td>2022-11</td>\n",
       "      <td>0.000800</td>\n",
       "    </tr>\n",
       "    <tr>\n",
       "      <th>2</th>\n",
       "      <td>19</td>\n",
       "      <td>1000</td>\n",
       "      <td>2021-04</td>\n",
       "      <td>verified</td>\n",
       "      <td>4</td>\n",
       "      <td>own</td>\n",
       "      <td>500.0</td>\n",
       "      <td>250</td>\n",
       "      <td>False</td>\n",
       "      <td>False</td>\n",
       "      <td>...</td>\n",
       "      <td>30</td>\n",
       "      <td>258</td>\n",
       "      <td>322078</td>\n",
       "      <td>2</td>\n",
       "      <td>30.983457</td>\n",
       "      <td>0.0</td>\n",
       "      <td>0.0</td>\n",
       "      <td>0.0</td>\n",
       "      <td>2022-11</td>\n",
       "      <td>0.002823</td>\n",
       "    </tr>\n",
       "    <tr>\n",
       "      <th>3</th>\n",
       "      <td>19</td>\n",
       "      <td>1000</td>\n",
       "      <td>2021-04</td>\n",
       "      <td>verified</td>\n",
       "      <td>4</td>\n",
       "      <td>own</td>\n",
       "      <td>500.0</td>\n",
       "      <td>250</td>\n",
       "      <td>False</td>\n",
       "      <td>False</td>\n",
       "      <td>...</td>\n",
       "      <td>30</td>\n",
       "      <td>258</td>\n",
       "      <td>322079</td>\n",
       "      <td>3</td>\n",
       "      <td>62.799472</td>\n",
       "      <td>0.0</td>\n",
       "      <td>0.0</td>\n",
       "      <td>0.0</td>\n",
       "      <td>2021-11</td>\n",
       "      <td>85.009723</td>\n",
       "    </tr>\n",
       "    <tr>\n",
       "      <th>4</th>\n",
       "      <td>19</td>\n",
       "      <td>1000</td>\n",
       "      <td>2021-04</td>\n",
       "      <td>verified</td>\n",
       "      <td>4</td>\n",
       "      <td>own</td>\n",
       "      <td>500.0</td>\n",
       "      <td>250</td>\n",
       "      <td>False</td>\n",
       "      <td>False</td>\n",
       "      <td>...</td>\n",
       "      <td>30</td>\n",
       "      <td>258</td>\n",
       "      <td>322080</td>\n",
       "      <td>4</td>\n",
       "      <td>45.523411</td>\n",
       "      <td>0.0</td>\n",
       "      <td>0.0</td>\n",
       "      <td>0.0</td>\n",
       "      <td>2021-11</td>\n",
       "      <td>0.009392</td>\n",
       "    </tr>\n",
       "  </tbody>\n",
       "</table>\n",
       "<p>5 rows × 31 columns</p>\n",
       "</div>"
      ],
      "text/plain": [
       "   collection_id  total_supply creation_date verification_status  n_of_traits  \\\n",
       "0             19          1000       2021-04            verified            4   \n",
       "1             19          1000       2021-04            verified            4   \n",
       "2             19          1000       2021-04            verified            4   \n",
       "3             19          1000       2021-04            verified            4   \n",
       "4             19          1000       2021-04            verified            4   \n",
       "\n",
       "  contract_type  seller_fees  platform_fees  openrarity_enabled  has_website  \\\n",
       "0           own        500.0            250               False        False   \n",
       "1           own        500.0            250               False        False   \n",
       "2           own        500.0            250               False        False   \n",
       "3           own        500.0            250               False        False   \n",
       "4           own        500.0            250               False        False   \n",
       "\n",
       "   ...  max_replies  max_retweets  global_index  nft_id  rarity_score  \\\n",
       "0  ...           30           258        322076       0     48.156807   \n",
       "1  ...           30           258        322077       1     82.404768   \n",
       "2  ...           30           258        322078       2     30.983457   \n",
       "3  ...           30           258        322079       3     62.799472   \n",
       "4  ...           30           258        322080       4     45.523411   \n",
       "\n",
       "   openrarity_score  openrarity_rank  openrarity_max_rank  last_sale_date  \\\n",
       "0               0.0              0.0                  0.0         2022-11   \n",
       "1               0.0              0.0                  0.0         2022-11   \n",
       "2               0.0              0.0                  0.0         2022-11   \n",
       "3               0.0              0.0                  0.0         2021-11   \n",
       "4               0.0              0.0                  0.0         2021-11   \n",
       "\n",
       "   last_sale_price  \n",
       "0        12.508229  \n",
       "1         0.000800  \n",
       "2         0.002823  \n",
       "3        85.009723  \n",
       "4         0.009392  \n",
       "\n",
       "[5 rows x 31 columns]"
      ]
     },
     "execution_count": 694,
     "metadata": {},
     "output_type": "execute_result"
    }
   ],
   "source": [
    "train_with_collection.head()"
   ]
  },
  {
   "cell_type": "code",
   "execution_count": 695,
   "id": "3072e3e2",
   "metadata": {},
   "outputs": [
    {
     "data": {
      "text/plain": [
       "0.000000    229430\n",
       "1.973398        70\n",
       "0.779231        59\n",
       "0.779281        47\n",
       "0.770424        44\n",
       "             ...  \n",
       "1.103303         1\n",
       "0.877011         1\n",
       "1.030426         1\n",
       "1.101704         1\n",
       "0.846365         1\n",
       "Name: openrarity_score, Length: 74643, dtype: int64"
      ]
     },
     "execution_count": 695,
     "metadata": {},
     "output_type": "execute_result"
    }
   ],
   "source": [
    "train_with_collection[\"openrarity_score\"].value_counts()"
   ]
  },
  {
   "cell_type": "code",
   "execution_count": 696,
   "id": "dd9325f8",
   "metadata": {},
   "outputs": [
    {
     "data": {
      "text/html": [
       "<div>\n",
       "<style scoped>\n",
       "    .dataframe tbody tr th:only-of-type {\n",
       "        vertical-align: middle;\n",
       "    }\n",
       "\n",
       "    .dataframe tbody tr th {\n",
       "        vertical-align: top;\n",
       "    }\n",
       "\n",
       "    .dataframe thead th {\n",
       "        text-align: right;\n",
       "    }\n",
       "</style>\n",
       "<table border=\"1\" class=\"dataframe\">\n",
       "  <thead>\n",
       "    <tr style=\"text-align: right;\">\n",
       "      <th></th>\n",
       "      <th>collection_id</th>\n",
       "      <th>total_supply</th>\n",
       "      <th>creation_date</th>\n",
       "      <th>verification_status</th>\n",
       "      <th>n_of_traits</th>\n",
       "      <th>contract_type</th>\n",
       "      <th>seller_fees</th>\n",
       "      <th>platform_fees</th>\n",
       "      <th>has_website</th>\n",
       "      <th>has_own_twitter</th>\n",
       "      <th>...</th>\n",
       "      <th>max_replies</th>\n",
       "      <th>max_retweets</th>\n",
       "      <th>global_index</th>\n",
       "      <th>nft_id</th>\n",
       "      <th>rarity_score</th>\n",
       "      <th>openrarity_score</th>\n",
       "      <th>openrarity_rank</th>\n",
       "      <th>openrarity_max_rank</th>\n",
       "      <th>last_sale_date</th>\n",
       "      <th>last_sale_price</th>\n",
       "    </tr>\n",
       "    <tr>\n",
       "      <th>openrarity_enabled</th>\n",
       "      <th></th>\n",
       "      <th></th>\n",
       "      <th></th>\n",
       "      <th></th>\n",
       "      <th></th>\n",
       "      <th></th>\n",
       "      <th></th>\n",
       "      <th></th>\n",
       "      <th></th>\n",
       "      <th></th>\n",
       "      <th></th>\n",
       "      <th></th>\n",
       "      <th></th>\n",
       "      <th></th>\n",
       "      <th></th>\n",
       "      <th></th>\n",
       "      <th></th>\n",
       "      <th></th>\n",
       "      <th></th>\n",
       "      <th></th>\n",
       "      <th></th>\n",
       "    </tr>\n",
       "  </thead>\n",
       "  <tbody>\n",
       "    <tr>\n",
       "      <th>False</th>\n",
       "      <td>229430</td>\n",
       "      <td>229430</td>\n",
       "      <td>229430</td>\n",
       "      <td>229430</td>\n",
       "      <td>229430</td>\n",
       "      <td>229430</td>\n",
       "      <td>229430</td>\n",
       "      <td>229430</td>\n",
       "      <td>229430</td>\n",
       "      <td>229430</td>\n",
       "      <td>...</td>\n",
       "      <td>229430</td>\n",
       "      <td>229430</td>\n",
       "      <td>229430</td>\n",
       "      <td>229430</td>\n",
       "      <td>229430</td>\n",
       "      <td>229430</td>\n",
       "      <td>229430</td>\n",
       "      <td>229430</td>\n",
       "      <td>229430</td>\n",
       "      <td>229430</td>\n",
       "    </tr>\n",
       "    <tr>\n",
       "      <th>True</th>\n",
       "      <td>80480</td>\n",
       "      <td>80480</td>\n",
       "      <td>80480</td>\n",
       "      <td>80480</td>\n",
       "      <td>80480</td>\n",
       "      <td>80480</td>\n",
       "      <td>80480</td>\n",
       "      <td>80480</td>\n",
       "      <td>80480</td>\n",
       "      <td>80480</td>\n",
       "      <td>...</td>\n",
       "      <td>80480</td>\n",
       "      <td>80480</td>\n",
       "      <td>80480</td>\n",
       "      <td>80480</td>\n",
       "      <td>80480</td>\n",
       "      <td>80480</td>\n",
       "      <td>80480</td>\n",
       "      <td>80480</td>\n",
       "      <td>80480</td>\n",
       "      <td>80480</td>\n",
       "    </tr>\n",
       "  </tbody>\n",
       "</table>\n",
       "<p>2 rows × 30 columns</p>\n",
       "</div>"
      ],
      "text/plain": [
       "                    collection_id  total_supply  creation_date  \\\n",
       "openrarity_enabled                                               \n",
       "False                      229430        229430         229430   \n",
       "True                        80480         80480          80480   \n",
       "\n",
       "                    verification_status  n_of_traits  contract_type  \\\n",
       "openrarity_enabled                                                    \n",
       "False                            229430       229430         229430   \n",
       "True                              80480        80480          80480   \n",
       "\n",
       "                    seller_fees  platform_fees  has_website  has_own_twitter  \\\n",
       "openrarity_enabled                                                             \n",
       "False                    229430         229430       229430           229430   \n",
       "True                      80480          80480        80480            80480   \n",
       "\n",
       "                    ...  max_replies  max_retweets  global_index  nft_id  \\\n",
       "openrarity_enabled  ...                                                    \n",
       "False               ...       229430        229430        229430  229430   \n",
       "True                ...        80480         80480         80480   80480   \n",
       "\n",
       "                    rarity_score  openrarity_score  openrarity_rank  \\\n",
       "openrarity_enabled                                                    \n",
       "False                     229430            229430           229430   \n",
       "True                       80480             80480            80480   \n",
       "\n",
       "                    openrarity_max_rank  last_sale_date  last_sale_price  \n",
       "openrarity_enabled                                                        \n",
       "False                            229430          229430           229430  \n",
       "True                              80480           80480            80480  \n",
       "\n",
       "[2 rows x 30 columns]"
      ]
     },
     "execution_count": 696,
     "metadata": {},
     "output_type": "execute_result"
    }
   ],
   "source": [
    "train_with_collection.groupby(train_with_collection[\"openrarity_enabled\"]).count()"
   ]
  },
  {
   "cell_type": "code",
   "execution_count": 697,
   "id": "b24b91c5",
   "metadata": {},
   "outputs": [
    {
     "data": {
      "text/plain": [
       "collection_id          0\n",
       "total_supply           0\n",
       "creation_date          0\n",
       "verification_status    0\n",
       "n_of_traits            0\n",
       "contract_type          0\n",
       "seller_fees            0\n",
       "platform_fees          0\n",
       "openrarity_enabled     0\n",
       "has_website            0\n",
       "has_own_twitter        0\n",
       "has_discord            0\n",
       "has_medium             0\n",
       "n_tweets_in_range      0\n",
       "avg_likes              0\n",
       "avg_replies            0\n",
       "avg_retweets           0\n",
       "min_likes              0\n",
       "min_replies            0\n",
       "min_retweets           0\n",
       "max_likes              0\n",
       "max_replies            0\n",
       "max_retweets           0\n",
       "global_index           0\n",
       "nft_id                 0\n",
       "rarity_score           0\n",
       "openrarity_score       0\n",
       "openrarity_rank        0\n",
       "openrarity_max_rank    0\n",
       "last_sale_date         0\n",
       "last_sale_price        0\n",
       "dtype: int64"
      ]
     },
     "execution_count": 697,
     "metadata": {},
     "output_type": "execute_result"
    }
   ],
   "source": [
    "train_with_collection.isnull().sum()"
   ]
  },
  {
   "cell_type": "code",
   "execution_count": 698,
   "id": "50a847b2",
   "metadata": {},
   "outputs": [
    {
     "data": {
      "text/plain": [
       "collection_id         -0.118710\n",
       "total_supply          -0.081918\n",
       "n_of_traits           -0.107547\n",
       "seller_fees           -0.217513\n",
       "platform_fees               NaN\n",
       "openrarity_enabled    -0.018842\n",
       "has_website                 NaN\n",
       "has_own_twitter             NaN\n",
       "has_discord            0.108122\n",
       "has_medium            -0.033832\n",
       "n_tweets_in_range     -0.033210\n",
       "avg_likes              0.044742\n",
       "avg_replies            0.001231\n",
       "avg_retweets           0.131632\n",
       "min_likes              0.021865\n",
       "min_replies            0.052180\n",
       "min_retweets           0.267012\n",
       "max_likes              0.014106\n",
       "max_replies           -0.012231\n",
       "max_retweets           0.081139\n",
       "global_index          -0.096667\n",
       "nft_id                -0.055394\n",
       "rarity_score          -0.046505\n",
       "openrarity_score      -0.013778\n",
       "openrarity_rank       -0.026534\n",
       "openrarity_max_rank   -0.025981\n",
       "last_sale_price        1.000000\n",
       "Name: last_sale_price, dtype: float64"
      ]
     },
     "execution_count": 698,
     "metadata": {},
     "output_type": "execute_result"
    }
   ],
   "source": [
    "train_with_collection.corr()[\"last_sale_price\"]"
   ]
  },
  {
   "cell_type": "code",
   "execution_count": 60,
   "id": "5ac72cb2",
   "metadata": {},
   "outputs": [],
   "source": [
    "# print(train_with_collection.groupby(\"global_index\").count())"
   ]
  },
  {
   "cell_type": "code",
   "execution_count": 69,
   "id": "e36a2e45",
   "metadata": {},
   "outputs": [],
   "source": [
    "# train_with_collection.dropna(axis=1,inplace=True)\n",
    "# train_with_collection.shape\n",
    "# train_with_collection.reset_index(\"global_index\")"
   ]
  },
  {
   "cell_type": "code",
   "execution_count": null,
   "id": "24488574",
   "metadata": {},
   "outputs": [],
   "source": [
    "test_data=pd.read_csv(\"nfts_predict.csv\")"
   ]
  },
  {
   "cell_type": "code",
   "execution_count": null,
   "id": "e9d9e865",
   "metadata": {},
   "outputs": [],
   "source": [
    "test_data.head(5)"
   ]
  },
  {
   "cell_type": "code",
   "execution_count": 109,
   "id": "f58f14bd",
   "metadata": {},
   "outputs": [],
   "source": [
    "test_data['openrarity_score'].fillna((test_data['openrarity_score'].median()), inplace=True)\n",
    "test_data['openrarity_rank'].fillna((test_data['openrarity_rank'].mean()), inplace=True)\n",
    "test_data['openrarity_max_rank'].fillna((test_data['openrarity_max_rank'].mean()), inplace=True)"
   ]
  },
  {
   "cell_type": "code",
   "execution_count": 145,
   "id": "04c39eaf",
   "metadata": {},
   "outputs": [],
   "source": [
    "test=test_data.drop(\"last_sale_date\",axis=1)"
   ]
  },
  {
   "cell_type": "code",
   "execution_count": 146,
   "id": "81b4e384",
   "metadata": {},
   "outputs": [],
   "source": [
    "test_data[\"last_sale_price\"]=model.predict(test)"
   ]
  },
  {
   "cell_type": "code",
   "execution_count": 147,
   "id": "c2b73078",
   "metadata": {},
   "outputs": [
    {
     "data": {
      "text/html": [
       "<div>\n",
       "<style scoped>\n",
       "    .dataframe tbody tr th:only-of-type {\n",
       "        vertical-align: middle;\n",
       "    }\n",
       "\n",
       "    .dataframe tbody tr th {\n",
       "        vertical-align: top;\n",
       "    }\n",
       "\n",
       "    .dataframe thead th {\n",
       "        text-align: right;\n",
       "    }\n",
       "</style>\n",
       "<table border=\"1\" class=\"dataframe\">\n",
       "  <thead>\n",
       "    <tr style=\"text-align: right;\">\n",
       "      <th></th>\n",
       "      <th>global_index</th>\n",
       "      <th>nft_id</th>\n",
       "      <th>collection_id</th>\n",
       "      <th>rarity_score</th>\n",
       "      <th>openrarity_score</th>\n",
       "      <th>openrarity_rank</th>\n",
       "      <th>openrarity_max_rank</th>\n",
       "      <th>last_sale_date</th>\n",
       "      <th>last_sale_price</th>\n",
       "    </tr>\n",
       "  </thead>\n",
       "  <tbody>\n",
       "    <tr>\n",
       "      <th>0</th>\n",
       "      <td>0</td>\n",
       "      <td>0</td>\n",
       "      <td>29</td>\n",
       "      <td>176.364208</td>\n",
       "      <td>0.982769</td>\n",
       "      <td>4372.867628</td>\n",
       "      <td>8741.760731</td>\n",
       "      <td>2022-06</td>\n",
       "      <td>4.702711</td>\n",
       "    </tr>\n",
       "    <tr>\n",
       "      <th>1</th>\n",
       "      <td>1</td>\n",
       "      <td>1</td>\n",
       "      <td>29</td>\n",
       "      <td>207.209228</td>\n",
       "      <td>0.982769</td>\n",
       "      <td>4372.867628</td>\n",
       "      <td>8741.760731</td>\n",
       "      <td>2022-05</td>\n",
       "      <td>2.407767</td>\n",
       "    </tr>\n",
       "    <tr>\n",
       "      <th>2</th>\n",
       "      <td>2</td>\n",
       "      <td>2</td>\n",
       "      <td>29</td>\n",
       "      <td>157.293414</td>\n",
       "      <td>0.982769</td>\n",
       "      <td>4372.867628</td>\n",
       "      <td>8741.760731</td>\n",
       "      <td>2022-10</td>\n",
       "      <td>0.440636</td>\n",
       "    </tr>\n",
       "    <tr>\n",
       "      <th>3</th>\n",
       "      <td>3</td>\n",
       "      <td>3</td>\n",
       "      <td>29</td>\n",
       "      <td>173.372185</td>\n",
       "      <td>0.982769</td>\n",
       "      <td>4372.867628</td>\n",
       "      <td>8741.760731</td>\n",
       "      <td>2022-06</td>\n",
       "      <td>2.407767</td>\n",
       "    </tr>\n",
       "    <tr>\n",
       "      <th>4</th>\n",
       "      <td>4</td>\n",
       "      <td>4</td>\n",
       "      <td>29</td>\n",
       "      <td>190.077584</td>\n",
       "      <td>0.982769</td>\n",
       "      <td>4372.867628</td>\n",
       "      <td>8741.760731</td>\n",
       "      <td>2022-06</td>\n",
       "      <td>2.407767</td>\n",
       "    </tr>\n",
       "    <tr>\n",
       "      <th>...</th>\n",
       "      <td>...</td>\n",
       "      <td>...</td>\n",
       "      <td>...</td>\n",
       "      <td>...</td>\n",
       "      <td>...</td>\n",
       "      <td>...</td>\n",
       "      <td>...</td>\n",
       "      <td>...</td>\n",
       "      <td>...</td>\n",
       "    </tr>\n",
       "    <tr>\n",
       "      <th>181209</th>\n",
       "      <td>618137</td>\n",
       "      <td>7140</td>\n",
       "      <td>42</td>\n",
       "      <td>134.963415</td>\n",
       "      <td>0.982769</td>\n",
       "      <td>4372.867628</td>\n",
       "      <td>8741.760731</td>\n",
       "      <td>2021-04</td>\n",
       "      <td>1.252733</td>\n",
       "    </tr>\n",
       "    <tr>\n",
       "      <th>181210</th>\n",
       "      <td>618138</td>\n",
       "      <td>7141</td>\n",
       "      <td>42</td>\n",
       "      <td>128.686047</td>\n",
       "      <td>0.982769</td>\n",
       "      <td>4372.867628</td>\n",
       "      <td>8741.760731</td>\n",
       "      <td>2021-04</td>\n",
       "      <td>1.252733</td>\n",
       "    </tr>\n",
       "    <tr>\n",
       "      <th>181211</th>\n",
       "      <td>618139</td>\n",
       "      <td>7142</td>\n",
       "      <td>42</td>\n",
       "      <td>22134.000000</td>\n",
       "      <td>0.982769</td>\n",
       "      <td>4372.867628</td>\n",
       "      <td>8741.760731</td>\n",
       "      <td>2021-04</td>\n",
       "      <td>1.252733</td>\n",
       "    </tr>\n",
       "    <tr>\n",
       "      <th>181212</th>\n",
       "      <td>618140</td>\n",
       "      <td>7143</td>\n",
       "      <td>42</td>\n",
       "      <td>22134.000000</td>\n",
       "      <td>0.982769</td>\n",
       "      <td>4372.867628</td>\n",
       "      <td>8741.760731</td>\n",
       "      <td>2021-04</td>\n",
       "      <td>1.252733</td>\n",
       "    </tr>\n",
       "    <tr>\n",
       "      <th>181213</th>\n",
       "      <td>618141</td>\n",
       "      <td>7144</td>\n",
       "      <td>42</td>\n",
       "      <td>130.970414</td>\n",
       "      <td>0.982769</td>\n",
       "      <td>4372.867628</td>\n",
       "      <td>8741.760731</td>\n",
       "      <td>2021-03</td>\n",
       "      <td>1.252733</td>\n",
       "    </tr>\n",
       "  </tbody>\n",
       "</table>\n",
       "<p>181214 rows × 9 columns</p>\n",
       "</div>"
      ],
      "text/plain": [
       "        global_index  nft_id  collection_id  rarity_score  openrarity_score  \\\n",
       "0                  0       0             29    176.364208          0.982769   \n",
       "1                  1       1             29    207.209228          0.982769   \n",
       "2                  2       2             29    157.293414          0.982769   \n",
       "3                  3       3             29    173.372185          0.982769   \n",
       "4                  4       4             29    190.077584          0.982769   \n",
       "...              ...     ...            ...           ...               ...   \n",
       "181209        618137    7140             42    134.963415          0.982769   \n",
       "181210        618138    7141             42    128.686047          0.982769   \n",
       "181211        618139    7142             42  22134.000000          0.982769   \n",
       "181212        618140    7143             42  22134.000000          0.982769   \n",
       "181213        618141    7144             42    130.970414          0.982769   \n",
       "\n",
       "        openrarity_rank  openrarity_max_rank last_sale_date  last_sale_price  \n",
       "0           4372.867628          8741.760731        2022-06         4.702711  \n",
       "1           4372.867628          8741.760731        2022-05         2.407767  \n",
       "2           4372.867628          8741.760731        2022-10         0.440636  \n",
       "3           4372.867628          8741.760731        2022-06         2.407767  \n",
       "4           4372.867628          8741.760731        2022-06         2.407767  \n",
       "...                 ...                  ...            ...              ...  \n",
       "181209      4372.867628          8741.760731        2021-04         1.252733  \n",
       "181210      4372.867628          8741.760731        2021-04         1.252733  \n",
       "181211      4372.867628          8741.760731        2021-04         1.252733  \n",
       "181212      4372.867628          8741.760731        2021-04         1.252733  \n",
       "181213      4372.867628          8741.760731        2021-03         1.252733  \n",
       "\n",
       "[181214 rows x 9 columns]"
      ]
     },
     "execution_count": 147,
     "metadata": {},
     "output_type": "execute_result"
    }
   ],
   "source": [
    "test_data"
   ]
  },
  {
   "cell_type": "code",
   "execution_count": 155,
   "id": "8b16c90c",
   "metadata": {},
   "outputs": [],
   "source": [
    "data=test_data[[\"global_index\",\"last_sale_price\"]]"
   ]
  },
  {
   "cell_type": "code",
   "execution_count": 156,
   "id": "aec7b7c7",
   "metadata": {},
   "outputs": [
    {
     "data": {
      "text/html": [
       "<div>\n",
       "<style scoped>\n",
       "    .dataframe tbody tr th:only-of-type {\n",
       "        vertical-align: middle;\n",
       "    }\n",
       "\n",
       "    .dataframe tbody tr th {\n",
       "        vertical-align: top;\n",
       "    }\n",
       "\n",
       "    .dataframe thead th {\n",
       "        text-align: right;\n",
       "    }\n",
       "</style>\n",
       "<table border=\"1\" class=\"dataframe\">\n",
       "  <thead>\n",
       "    <tr style=\"text-align: right;\">\n",
       "      <th></th>\n",
       "      <th>global_index</th>\n",
       "      <th>last_sale_price</th>\n",
       "    </tr>\n",
       "  </thead>\n",
       "  <tbody>\n",
       "    <tr>\n",
       "      <th>0</th>\n",
       "      <td>0</td>\n",
       "      <td>4.702711</td>\n",
       "    </tr>\n",
       "    <tr>\n",
       "      <th>1</th>\n",
       "      <td>1</td>\n",
       "      <td>2.407767</td>\n",
       "    </tr>\n",
       "    <tr>\n",
       "      <th>2</th>\n",
       "      <td>2</td>\n",
       "      <td>0.440636</td>\n",
       "    </tr>\n",
       "    <tr>\n",
       "      <th>3</th>\n",
       "      <td>3</td>\n",
       "      <td>2.407767</td>\n",
       "    </tr>\n",
       "    <tr>\n",
       "      <th>4</th>\n",
       "      <td>4</td>\n",
       "      <td>2.407767</td>\n",
       "    </tr>\n",
       "    <tr>\n",
       "      <th>...</th>\n",
       "      <td>...</td>\n",
       "      <td>...</td>\n",
       "    </tr>\n",
       "    <tr>\n",
       "      <th>181209</th>\n",
       "      <td>618137</td>\n",
       "      <td>1.252733</td>\n",
       "    </tr>\n",
       "    <tr>\n",
       "      <th>181210</th>\n",
       "      <td>618138</td>\n",
       "      <td>1.252733</td>\n",
       "    </tr>\n",
       "    <tr>\n",
       "      <th>181211</th>\n",
       "      <td>618139</td>\n",
       "      <td>1.252733</td>\n",
       "    </tr>\n",
       "    <tr>\n",
       "      <th>181212</th>\n",
       "      <td>618140</td>\n",
       "      <td>1.252733</td>\n",
       "    </tr>\n",
       "    <tr>\n",
       "      <th>181213</th>\n",
       "      <td>618141</td>\n",
       "      <td>1.252733</td>\n",
       "    </tr>\n",
       "  </tbody>\n",
       "</table>\n",
       "<p>181214 rows × 2 columns</p>\n",
       "</div>"
      ],
      "text/plain": [
       "        global_index  last_sale_price\n",
       "0                  0         4.702711\n",
       "1                  1         2.407767\n",
       "2                  2         0.440636\n",
       "3                  3         2.407767\n",
       "4                  4         2.407767\n",
       "...              ...              ...\n",
       "181209        618137         1.252733\n",
       "181210        618138         1.252733\n",
       "181211        618139         1.252733\n",
       "181212        618140         1.252733\n",
       "181213        618141         1.252733\n",
       "\n",
       "[181214 rows x 2 columns]"
      ]
     },
     "execution_count": 156,
     "metadata": {},
     "output_type": "execute_result"
    }
   ],
   "source": [
    "data"
   ]
  },
  {
   "cell_type": "code",
   "execution_count": 153,
   "id": "0ccb74e3",
   "metadata": {},
   "outputs": [],
   "source": [
    "sub=pd.read_csv(\"submission_format1.csv\")"
   ]
  },
  {
   "cell_type": "code",
   "execution_count": null,
   "id": "d200d247",
   "metadata": {},
   "outputs": [],
   "source": [
    "sub"
   ]
  },
  {
   "cell_type": "code",
   "execution_count": 160,
   "id": "ca702132",
   "metadata": {},
   "outputs": [],
   "source": [
    "data.to_csv(\"submission_format.csv\",index=False)"
   ]
  },
  {
   "cell_type": "code",
   "execution_count": 161,
   "id": "4beced94",
   "metadata": {},
   "outputs": [],
   "source": [
    "sub1=pd.read_csv(\"submission_format.csv\")"
   ]
  },
  {
   "cell_type": "code",
   "execution_count": 162,
   "id": "5fc3bc73",
   "metadata": {},
   "outputs": [
    {
     "data": {
      "text/html": [
       "<div>\n",
       "<style scoped>\n",
       "    .dataframe tbody tr th:only-of-type {\n",
       "        vertical-align: middle;\n",
       "    }\n",
       "\n",
       "    .dataframe tbody tr th {\n",
       "        vertical-align: top;\n",
       "    }\n",
       "\n",
       "    .dataframe thead th {\n",
       "        text-align: right;\n",
       "    }\n",
       "</style>\n",
       "<table border=\"1\" class=\"dataframe\">\n",
       "  <thead>\n",
       "    <tr style=\"text-align: right;\">\n",
       "      <th></th>\n",
       "      <th>global_index</th>\n",
       "      <th>last_sale_price</th>\n",
       "    </tr>\n",
       "  </thead>\n",
       "  <tbody>\n",
       "    <tr>\n",
       "      <th>0</th>\n",
       "      <td>0</td>\n",
       "      <td>4.702711</td>\n",
       "    </tr>\n",
       "    <tr>\n",
       "      <th>1</th>\n",
       "      <td>1</td>\n",
       "      <td>2.407767</td>\n",
       "    </tr>\n",
       "    <tr>\n",
       "      <th>2</th>\n",
       "      <td>2</td>\n",
       "      <td>0.440636</td>\n",
       "    </tr>\n",
       "    <tr>\n",
       "      <th>3</th>\n",
       "      <td>3</td>\n",
       "      <td>2.407767</td>\n",
       "    </tr>\n",
       "    <tr>\n",
       "      <th>4</th>\n",
       "      <td>4</td>\n",
       "      <td>2.407767</td>\n",
       "    </tr>\n",
       "    <tr>\n",
       "      <th>...</th>\n",
       "      <td>...</td>\n",
       "      <td>...</td>\n",
       "    </tr>\n",
       "    <tr>\n",
       "      <th>181209</th>\n",
       "      <td>618137</td>\n",
       "      <td>1.252733</td>\n",
       "    </tr>\n",
       "    <tr>\n",
       "      <th>181210</th>\n",
       "      <td>618138</td>\n",
       "      <td>1.252733</td>\n",
       "    </tr>\n",
       "    <tr>\n",
       "      <th>181211</th>\n",
       "      <td>618139</td>\n",
       "      <td>1.252733</td>\n",
       "    </tr>\n",
       "    <tr>\n",
       "      <th>181212</th>\n",
       "      <td>618140</td>\n",
       "      <td>1.252733</td>\n",
       "    </tr>\n",
       "    <tr>\n",
       "      <th>181213</th>\n",
       "      <td>618141</td>\n",
       "      <td>1.252733</td>\n",
       "    </tr>\n",
       "  </tbody>\n",
       "</table>\n",
       "<p>181214 rows × 2 columns</p>\n",
       "</div>"
      ],
      "text/plain": [
       "        global_index  last_sale_price\n",
       "0                  0         4.702711\n",
       "1                  1         2.407767\n",
       "2                  2         0.440636\n",
       "3                  3         2.407767\n",
       "4                  4         2.407767\n",
       "...              ...              ...\n",
       "181209        618137         1.252733\n",
       "181210        618138         1.252733\n",
       "181211        618139         1.252733\n",
       "181212        618140         1.252733\n",
       "181213        618141         1.252733\n",
       "\n",
       "[181214 rows x 2 columns]"
      ]
     },
     "execution_count": 162,
     "metadata": {},
     "output_type": "execute_result"
    }
   ],
   "source": [
    "sub1"
   ]
  },
  {
   "cell_type": "code",
   "execution_count": 660,
   "id": "0d8bfe9d",
   "metadata": {},
   "outputs": [
    {
     "data": {
      "text/html": [
       "<div>\n",
       "<style scoped>\n",
       "    .dataframe tbody tr th:only-of-type {\n",
       "        vertical-align: middle;\n",
       "    }\n",
       "\n",
       "    .dataframe tbody tr th {\n",
       "        vertical-align: top;\n",
       "    }\n",
       "\n",
       "    .dataframe thead th {\n",
       "        text-align: right;\n",
       "    }\n",
       "</style>\n",
       "<table border=\"1\" class=\"dataframe\">\n",
       "  <thead>\n",
       "    <tr style=\"text-align: right;\">\n",
       "      <th></th>\n",
       "      <th>collection_id</th>\n",
       "      <th>total_supply</th>\n",
       "      <th>creation_date</th>\n",
       "      <th>verification_status</th>\n",
       "      <th>n_of_traits</th>\n",
       "      <th>contract_type</th>\n",
       "      <th>seller_fees</th>\n",
       "      <th>platform_fees</th>\n",
       "      <th>openrarity_enabled</th>\n",
       "      <th>has_website</th>\n",
       "      <th>...</th>\n",
       "      <th>max_replies</th>\n",
       "      <th>max_retweets</th>\n",
       "      <th>global_index</th>\n",
       "      <th>nft_id</th>\n",
       "      <th>rarity_score</th>\n",
       "      <th>openrarity_score</th>\n",
       "      <th>openrarity_rank</th>\n",
       "      <th>openrarity_max_rank</th>\n",
       "      <th>last_sale_date</th>\n",
       "      <th>last_sale_price</th>\n",
       "    </tr>\n",
       "  </thead>\n",
       "  <tbody>\n",
       "    <tr>\n",
       "      <th>0</th>\n",
       "      <td>19</td>\n",
       "      <td>1000</td>\n",
       "      <td>2021-04</td>\n",
       "      <td>verified</td>\n",
       "      <td>4</td>\n",
       "      <td>own</td>\n",
       "      <td>500.0</td>\n",
       "      <td>250</td>\n",
       "      <td>False</td>\n",
       "      <td>False</td>\n",
       "      <td>...</td>\n",
       "      <td>30</td>\n",
       "      <td>258</td>\n",
       "      <td>322076</td>\n",
       "      <td>0</td>\n",
       "      <td>48.156807</td>\n",
       "      <td>False</td>\n",
       "      <td>False</td>\n",
       "      <td>False</td>\n",
       "      <td>2022-11</td>\n",
       "      <td>12.508229</td>\n",
       "    </tr>\n",
       "    <tr>\n",
       "      <th>1</th>\n",
       "      <td>19</td>\n",
       "      <td>1000</td>\n",
       "      <td>2021-04</td>\n",
       "      <td>verified</td>\n",
       "      <td>4</td>\n",
       "      <td>own</td>\n",
       "      <td>500.0</td>\n",
       "      <td>250</td>\n",
       "      <td>False</td>\n",
       "      <td>False</td>\n",
       "      <td>...</td>\n",
       "      <td>30</td>\n",
       "      <td>258</td>\n",
       "      <td>322077</td>\n",
       "      <td>1</td>\n",
       "      <td>82.404768</td>\n",
       "      <td>False</td>\n",
       "      <td>False</td>\n",
       "      <td>False</td>\n",
       "      <td>2022-11</td>\n",
       "      <td>0.000800</td>\n",
       "    </tr>\n",
       "    <tr>\n",
       "      <th>2</th>\n",
       "      <td>19</td>\n",
       "      <td>1000</td>\n",
       "      <td>2021-04</td>\n",
       "      <td>verified</td>\n",
       "      <td>4</td>\n",
       "      <td>own</td>\n",
       "      <td>500.0</td>\n",
       "      <td>250</td>\n",
       "      <td>False</td>\n",
       "      <td>False</td>\n",
       "      <td>...</td>\n",
       "      <td>30</td>\n",
       "      <td>258</td>\n",
       "      <td>322078</td>\n",
       "      <td>2</td>\n",
       "      <td>30.983457</td>\n",
       "      <td>False</td>\n",
       "      <td>False</td>\n",
       "      <td>False</td>\n",
       "      <td>2022-11</td>\n",
       "      <td>0.002823</td>\n",
       "    </tr>\n",
       "    <tr>\n",
       "      <th>3</th>\n",
       "      <td>19</td>\n",
       "      <td>1000</td>\n",
       "      <td>2021-04</td>\n",
       "      <td>verified</td>\n",
       "      <td>4</td>\n",
       "      <td>own</td>\n",
       "      <td>500.0</td>\n",
       "      <td>250</td>\n",
       "      <td>False</td>\n",
       "      <td>False</td>\n",
       "      <td>...</td>\n",
       "      <td>30</td>\n",
       "      <td>258</td>\n",
       "      <td>322079</td>\n",
       "      <td>3</td>\n",
       "      <td>62.799472</td>\n",
       "      <td>False</td>\n",
       "      <td>False</td>\n",
       "      <td>False</td>\n",
       "      <td>2021-11</td>\n",
       "      <td>85.009723</td>\n",
       "    </tr>\n",
       "    <tr>\n",
       "      <th>4</th>\n",
       "      <td>19</td>\n",
       "      <td>1000</td>\n",
       "      <td>2021-04</td>\n",
       "      <td>verified</td>\n",
       "      <td>4</td>\n",
       "      <td>own</td>\n",
       "      <td>500.0</td>\n",
       "      <td>250</td>\n",
       "      <td>False</td>\n",
       "      <td>False</td>\n",
       "      <td>...</td>\n",
       "      <td>30</td>\n",
       "      <td>258</td>\n",
       "      <td>322080</td>\n",
       "      <td>4</td>\n",
       "      <td>45.523411</td>\n",
       "      <td>False</td>\n",
       "      <td>False</td>\n",
       "      <td>False</td>\n",
       "      <td>2021-11</td>\n",
       "      <td>0.009392</td>\n",
       "    </tr>\n",
       "  </tbody>\n",
       "</table>\n",
       "<p>5 rows × 31 columns</p>\n",
       "</div>"
      ],
      "text/plain": [
       "   collection_id  total_supply creation_date verification_status  n_of_traits  \\\n",
       "0             19          1000       2021-04            verified            4   \n",
       "1             19          1000       2021-04            verified            4   \n",
       "2             19          1000       2021-04            verified            4   \n",
       "3             19          1000       2021-04            verified            4   \n",
       "4             19          1000       2021-04            verified            4   \n",
       "\n",
       "  contract_type  seller_fees  platform_fees  openrarity_enabled  has_website  \\\n",
       "0           own        500.0            250               False        False   \n",
       "1           own        500.0            250               False        False   \n",
       "2           own        500.0            250               False        False   \n",
       "3           own        500.0            250               False        False   \n",
       "4           own        500.0            250               False        False   \n",
       "\n",
       "   ...  max_replies  max_retweets  global_index  nft_id  rarity_score  \\\n",
       "0  ...           30           258        322076       0     48.156807   \n",
       "1  ...           30           258        322077       1     82.404768   \n",
       "2  ...           30           258        322078       2     30.983457   \n",
       "3  ...           30           258        322079       3     62.799472   \n",
       "4  ...           30           258        322080       4     45.523411   \n",
       "\n",
       "   openrarity_score  openrarity_rank  openrarity_max_rank  last_sale_date  \\\n",
       "0             False            False                False         2022-11   \n",
       "1             False            False                False         2022-11   \n",
       "2             False            False                False         2022-11   \n",
       "3             False            False                False         2021-11   \n",
       "4             False            False                False         2021-11   \n",
       "\n",
       "   last_sale_price  \n",
       "0        12.508229  \n",
       "1         0.000800  \n",
       "2         0.002823  \n",
       "3        85.009723  \n",
       "4         0.009392  \n",
       "\n",
       "[5 rows x 31 columns]"
      ]
     },
     "execution_count": 660,
     "metadata": {},
     "output_type": "execute_result"
    }
   ],
   "source": [
    "train_with_collection.head()"
   ]
  },
  {
   "cell_type": "code",
   "execution_count": null,
   "id": "52d56bb3",
   "metadata": {},
   "outputs": [],
   "source": [
    "test_with_collection=pd.merge(train_with_collection,test_data,on=\"collection_id\")"
   ]
  },
  {
   "cell_type": "code",
   "execution_count": 256,
   "id": "c7cf3478",
   "metadata": {},
   "outputs": [
    {
     "name": "stdout",
     "output_type": "stream",
     "text": [
      "<class 'pandas.core.frame.DataFrame'>\n",
      "Int64Index: 309910 entries, 0 to 309909\n",
      "Data columns (total 31 columns):\n",
      " #   Column               Non-Null Count   Dtype  \n",
      "---  ------               --------------   -----  \n",
      " 0   collection_id        309910 non-null  int64  \n",
      " 1   total_supply         309910 non-null  int64  \n",
      " 2   creation_date        309910 non-null  object \n",
      " 3   verification_status  309910 non-null  object \n",
      " 4   n_of_traits          309910 non-null  int64  \n",
      " 5   contract_type        309910 non-null  object \n",
      " 6   seller_fees          309910 non-null  float64\n",
      " 7   platform_fees        309910 non-null  int64  \n",
      " 8   openrarity_enabled   309910 non-null  bool   \n",
      " 9   has_website          309910 non-null  bool   \n",
      " 10  has_own_twitter      309910 non-null  bool   \n",
      " 11  has_discord          309910 non-null  bool   \n",
      " 12  has_medium           309910 non-null  bool   \n",
      " 13  n_tweets_in_range    309910 non-null  int64  \n",
      " 14  avg_likes            309910 non-null  float64\n",
      " 15  avg_replies          309910 non-null  float64\n",
      " 16  avg_retweets         309910 non-null  float64\n",
      " 17  min_likes            309910 non-null  int64  \n",
      " 18  min_replies          309910 non-null  int64  \n",
      " 19  min_retweets         309910 non-null  int64  \n",
      " 20  max_likes            309910 non-null  int64  \n",
      " 21  max_replies          309910 non-null  int64  \n",
      " 22  max_retweets         309910 non-null  int64  \n",
      " 23  global_index         309910 non-null  int64  \n",
      " 24  nft_id               309910 non-null  int64  \n",
      " 25  rarity_score         309910 non-null  float64\n",
      " 26  openrarity_score     309910 non-null  float64\n",
      " 27  openrarity_rank      309910 non-null  float64\n",
      " 28  openrarity_max_rank  309910 non-null  float64\n",
      " 29  last_sale_date       309910 non-null  object \n",
      " 30  last_sale_price      309910 non-null  float64\n",
      "dtypes: bool(5), float64(9), int64(13), object(4)\n",
      "memory usage: 65.3+ MB\n"
     ]
    }
   ],
   "source": [
    "train_with_collection.info()"
   ]
  },
  {
   "cell_type": "code",
   "execution_count": 41,
   "id": "1cd49317",
   "metadata": {},
   "outputs": [
    {
     "data": {
      "text/html": [
       "<div>\n",
       "<style scoped>\n",
       "    .dataframe tbody tr th:only-of-type {\n",
       "        vertical-align: middle;\n",
       "    }\n",
       "\n",
       "    .dataframe tbody tr th {\n",
       "        vertical-align: top;\n",
       "    }\n",
       "\n",
       "    .dataframe thead th {\n",
       "        text-align: right;\n",
       "    }\n",
       "</style>\n",
       "<table border=\"1\" class=\"dataframe\">\n",
       "  <thead>\n",
       "    <tr style=\"text-align: right;\">\n",
       "      <th></th>\n",
       "      <th>collection_id</th>\n",
       "      <th>total_supply</th>\n",
       "      <th>n_of_traits</th>\n",
       "      <th>seller_fees</th>\n",
       "      <th>platform_fees</th>\n",
       "      <th>n_tweets_in_range</th>\n",
       "      <th>avg_likes</th>\n",
       "      <th>avg_replies</th>\n",
       "      <th>avg_retweets</th>\n",
       "      <th>min_likes</th>\n",
       "      <th>...</th>\n",
       "      <th>max_likes</th>\n",
       "      <th>max_replies</th>\n",
       "      <th>max_retweets</th>\n",
       "      <th>global_index</th>\n",
       "      <th>nft_id</th>\n",
       "      <th>rarity_score</th>\n",
       "      <th>openrarity_score</th>\n",
       "      <th>openrarity_rank</th>\n",
       "      <th>openrarity_max_rank</th>\n",
       "      <th>last_sale_price</th>\n",
       "    </tr>\n",
       "  </thead>\n",
       "  <tbody>\n",
       "    <tr>\n",
       "      <th>count</th>\n",
       "      <td>309910.000000</td>\n",
       "      <td>309910.000000</td>\n",
       "      <td>309910.000000</td>\n",
       "      <td>277217.000000</td>\n",
       "      <td>309910.0</td>\n",
       "      <td>309910.000000</td>\n",
       "      <td>309910.000000</td>\n",
       "      <td>309910.000000</td>\n",
       "      <td>309910.000000</td>\n",
       "      <td>309910.000000</td>\n",
       "      <td>...</td>\n",
       "      <td>309910.000000</td>\n",
       "      <td>309910.000000</td>\n",
       "      <td>309910.000000</td>\n",
       "      <td>309910.000000</td>\n",
       "      <td>309910.000000</td>\n",
       "      <td>309910.000000</td>\n",
       "      <td>309910.000000</td>\n",
       "      <td>309910.000000</td>\n",
       "      <td>309910.000000</td>\n",
       "      <td>3.099100e+05</td>\n",
       "    </tr>\n",
       "    <tr>\n",
       "      <th>mean</th>\n",
       "      <td>30.507160</td>\n",
       "      <td>13402.176838</td>\n",
       "      <td>10.557885</td>\n",
       "      <td>693.828661</td>\n",
       "      <td>250.0</td>\n",
       "      <td>17.166665</td>\n",
       "      <td>80.290716</td>\n",
       "      <td>20.314344</td>\n",
       "      <td>41.940726</td>\n",
       "      <td>12.595537</td>\n",
       "      <td>...</td>\n",
       "      <td>304.933981</td>\n",
       "      <td>107.703885</td>\n",
       "      <td>190.700142</td>\n",
       "      <td>317003.207947</td>\n",
       "      <td>6738.162024</td>\n",
       "      <td>1437.092531</td>\n",
       "      <td>0.983927</td>\n",
       "      <td>5630.164737</td>\n",
       "      <td>11255.829672</td>\n",
       "      <td>2.162269e+00</td>\n",
       "    </tr>\n",
       "    <tr>\n",
       "      <th>std</th>\n",
       "      <td>18.331668</td>\n",
       "      <td>7915.325634</td>\n",
       "      <td>4.878024</td>\n",
       "      <td>263.609541</td>\n",
       "      <td>0.0</td>\n",
       "      <td>27.037390</td>\n",
       "      <td>154.619275</td>\n",
       "      <td>62.247978</td>\n",
       "      <td>83.335786</td>\n",
       "      <td>33.550405</td>\n",
       "      <td>...</td>\n",
       "      <td>898.138000</td>\n",
       "      <td>445.353597</td>\n",
       "      <td>523.418690</td>\n",
       "      <td>173138.765569</td>\n",
       "      <td>5977.542096</td>\n",
       "      <td>4303.585892</td>\n",
       "      <td>0.078458</td>\n",
       "      <td>1942.636517</td>\n",
       "      <td>1759.481774</td>\n",
       "      <td>1.275132e+01</td>\n",
       "    </tr>\n",
       "    <tr>\n",
       "      <th>min</th>\n",
       "      <td>0.000000</td>\n",
       "      <td>1.000000</td>\n",
       "      <td>1.000000</td>\n",
       "      <td>250.000000</td>\n",
       "      <td>250.0</td>\n",
       "      <td>1.000000</td>\n",
       "      <td>0.000000</td>\n",
       "      <td>0.000000</td>\n",
       "      <td>0.000000</td>\n",
       "      <td>0.000000</td>\n",
       "      <td>...</td>\n",
       "      <td>0.000000</td>\n",
       "      <td>0.000000</td>\n",
       "      <td>0.000000</td>\n",
       "      <td>21928.000000</td>\n",
       "      <td>0.000000</td>\n",
       "      <td>1.000000</td>\n",
       "      <td>0.626738</td>\n",
       "      <td>1.000000</td>\n",
       "      <td>5555.000000</td>\n",
       "      <td>6.485360e-08</td>\n",
       "    </tr>\n",
       "    <tr>\n",
       "      <th>25%</th>\n",
       "      <td>13.000000</td>\n",
       "      <td>8888.000000</td>\n",
       "      <td>8.000000</td>\n",
       "      <td>500.000000</td>\n",
       "      <td>250.0</td>\n",
       "      <td>3.000000</td>\n",
       "      <td>2.000000</td>\n",
       "      <td>0.200000</td>\n",
       "      <td>1.153846</td>\n",
       "      <td>0.000000</td>\n",
       "      <td>...</td>\n",
       "      <td>5.000000</td>\n",
       "      <td>1.000000</td>\n",
       "      <td>5.000000</td>\n",
       "      <td>174892.250000</td>\n",
       "      <td>2453.000000</td>\n",
       "      <td>106.587184</td>\n",
       "      <td>0.978289</td>\n",
       "      <td>5630.164737</td>\n",
       "      <td>11255.829672</td>\n",
       "      <td>4.077085e-03</td>\n",
       "    </tr>\n",
       "    <tr>\n",
       "      <th>50%</th>\n",
       "      <td>34.000000</td>\n",
       "      <td>9999.000000</td>\n",
       "      <td>10.000000</td>\n",
       "      <td>750.000000</td>\n",
       "      <td>250.0</td>\n",
       "      <td>11.000000</td>\n",
       "      <td>8.153846</td>\n",
       "      <td>3.450000</td>\n",
       "      <td>8.166667</td>\n",
       "      <td>0.000000</td>\n",
       "      <td>...</td>\n",
       "      <td>30.000000</td>\n",
       "      <td>7.000000</td>\n",
       "      <td>34.000000</td>\n",
       "      <td>341467.500000</td>\n",
       "      <td>5138.000000</td>\n",
       "      <td>170.797030</td>\n",
       "      <td>0.978289</td>\n",
       "      <td>5630.164737</td>\n",
       "      <td>11255.829672</td>\n",
       "      <td>8.103344e-03</td>\n",
       "    </tr>\n",
       "    <tr>\n",
       "      <th>75%</th>\n",
       "      <td>46.000000</td>\n",
       "      <td>15000.000000</td>\n",
       "      <td>12.000000</td>\n",
       "      <td>1000.000000</td>\n",
       "      <td>250.0</td>\n",
       "      <td>19.000000</td>\n",
       "      <td>60.888889</td>\n",
       "      <td>8.500000</td>\n",
       "      <td>55.181818</td>\n",
       "      <td>2.000000</td>\n",
       "      <td>...</td>\n",
       "      <td>202.000000</td>\n",
       "      <td>47.000000</td>\n",
       "      <td>131.000000</td>\n",
       "      <td>493626.750000</td>\n",
       "      <td>8720.750000</td>\n",
       "      <td>289.614129</td>\n",
       "      <td>0.978289</td>\n",
       "      <td>5630.164737</td>\n",
       "      <td>11255.829672</td>\n",
       "      <td>3.252062e-01</td>\n",
       "    </tr>\n",
       "    <tr>\n",
       "      <th>max</th>\n",
       "      <td>60.000000</td>\n",
       "      <td>29899.000000</td>\n",
       "      <td>31.000000</td>\n",
       "      <td>1000.000000</td>\n",
       "      <td>250.0</td>\n",
       "      <td>151.000000</td>\n",
       "      <td>707.875000</td>\n",
       "      <td>353.400000</td>\n",
       "      <td>442.000000</td>\n",
       "      <td>236.000000</td>\n",
       "      <td>...</td>\n",
       "      <td>5079.000000</td>\n",
       "      <td>2601.000000</td>\n",
       "      <td>2990.000000</td>\n",
       "      <td>590227.000000</td>\n",
       "      <td>29898.000000</td>\n",
       "      <td>90354.072248</td>\n",
       "      <td>3.663833</td>\n",
       "      <td>15555.000000</td>\n",
       "      <td>15555.000000</td>\n",
       "      <td>1.024002e+03</td>\n",
       "    </tr>\n",
       "  </tbody>\n",
       "</table>\n",
       "<p>8 rows × 22 columns</p>\n",
       "</div>"
      ],
      "text/plain": [
       "       collection_id   total_supply    n_of_traits    seller_fees  \\\n",
       "count  309910.000000  309910.000000  309910.000000  277217.000000   \n",
       "mean       30.507160   13402.176838      10.557885     693.828661   \n",
       "std        18.331668    7915.325634       4.878024     263.609541   \n",
       "min         0.000000       1.000000       1.000000     250.000000   \n",
       "25%        13.000000    8888.000000       8.000000     500.000000   \n",
       "50%        34.000000    9999.000000      10.000000     750.000000   \n",
       "75%        46.000000   15000.000000      12.000000    1000.000000   \n",
       "max        60.000000   29899.000000      31.000000    1000.000000   \n",
       "\n",
       "       platform_fees  n_tweets_in_range      avg_likes    avg_replies  \\\n",
       "count       309910.0      309910.000000  309910.000000  309910.000000   \n",
       "mean           250.0          17.166665      80.290716      20.314344   \n",
       "std              0.0          27.037390     154.619275      62.247978   \n",
       "min            250.0           1.000000       0.000000       0.000000   \n",
       "25%            250.0           3.000000       2.000000       0.200000   \n",
       "50%            250.0          11.000000       8.153846       3.450000   \n",
       "75%            250.0          19.000000      60.888889       8.500000   \n",
       "max            250.0         151.000000     707.875000     353.400000   \n",
       "\n",
       "        avg_retweets      min_likes  ...      max_likes    max_replies  \\\n",
       "count  309910.000000  309910.000000  ...  309910.000000  309910.000000   \n",
       "mean       41.940726      12.595537  ...     304.933981     107.703885   \n",
       "std        83.335786      33.550405  ...     898.138000     445.353597   \n",
       "min         0.000000       0.000000  ...       0.000000       0.000000   \n",
       "25%         1.153846       0.000000  ...       5.000000       1.000000   \n",
       "50%         8.166667       0.000000  ...      30.000000       7.000000   \n",
       "75%        55.181818       2.000000  ...     202.000000      47.000000   \n",
       "max       442.000000     236.000000  ...    5079.000000    2601.000000   \n",
       "\n",
       "        max_retweets   global_index         nft_id   rarity_score  \\\n",
       "count  309910.000000  309910.000000  309910.000000  309910.000000   \n",
       "mean      190.700142  317003.207947    6738.162024    1437.092531   \n",
       "std       523.418690  173138.765569    5977.542096    4303.585892   \n",
       "min         0.000000   21928.000000       0.000000       1.000000   \n",
       "25%         5.000000  174892.250000    2453.000000     106.587184   \n",
       "50%        34.000000  341467.500000    5138.000000     170.797030   \n",
       "75%       131.000000  493626.750000    8720.750000     289.614129   \n",
       "max      2990.000000  590227.000000   29898.000000   90354.072248   \n",
       "\n",
       "       openrarity_score  openrarity_rank  openrarity_max_rank  last_sale_price  \n",
       "count     309910.000000    309910.000000        309910.000000     3.099100e+05  \n",
       "mean           0.983927      5630.164737         11255.829672     2.162269e+00  \n",
       "std            0.078458      1942.636517          1759.481774     1.275132e+01  \n",
       "min            0.626738         1.000000          5555.000000     6.485360e-08  \n",
       "25%            0.978289      5630.164737         11255.829672     4.077085e-03  \n",
       "50%            0.978289      5630.164737         11255.829672     8.103344e-03  \n",
       "75%            0.978289      5630.164737         11255.829672     3.252062e-01  \n",
       "max            3.663833     15555.000000         15555.000000     1.024002e+03  \n",
       "\n",
       "[8 rows x 22 columns]"
      ]
     },
     "execution_count": 41,
     "metadata": {},
     "output_type": "execute_result"
    }
   ],
   "source": [
    "train_with_collection.describe()"
   ]
  },
  {
   "cell_type": "code",
   "execution_count": 699,
   "id": "a441dfdc",
   "metadata": {},
   "outputs": [],
   "source": [
    "x=Intcolumn.drop([\"last_sale_price\",\"platform_fees\",\"has_website\",\"has_own_twitter\",\"openrarity_enabled\",\"has_discord\",\"has_medium\",\"min_replies\"],axis=1)\n",
    "y=Intcolumn[\"last_sale_price\"]"
   ]
  },
  {
   "cell_type": "code",
   "execution_count": 700,
   "id": "f275803c",
   "metadata": {},
   "outputs": [],
   "source": [
    "X_train,X_test,Y_train,Y_test=train_test_split(x,y,test_size=0.2)"
   ]
  },
  {
   "cell_type": "code",
   "execution_count": 701,
   "id": "d0bc0250",
   "metadata": {},
   "outputs": [
    {
     "data": {
      "text/plain": [
       "LinearRegression()"
      ]
     },
     "execution_count": 701,
     "metadata": {},
     "output_type": "execute_result"
    }
   ],
   "source": [
    "reg=LinearRegression()\n",
    "reg.fit(X_train,Y_train)"
   ]
  },
  {
   "cell_type": "code",
   "execution_count": 702,
   "id": "9c914eb6",
   "metadata": {},
   "outputs": [
    {
     "name": "stdout",
     "output_type": "stream",
     "text": [
      "Accuracy of Linear Regression` is 0.2234846095987698\n"
     ]
    }
   ],
   "source": [
    "print(\"Accuracy of Linear Regression` is {}\".format(reg.score(X_train,Y_train)))"
   ]
  },
  {
   "cell_type": "code",
   "execution_count": 525,
   "id": "11c202b9",
   "metadata": {},
   "outputs": [
    {
     "name": "stdout",
     "output_type": "stream",
     "text": [
      "Accuracy of Linear Regression` is 0.23883331530559215\n"
     ]
    }
   ],
   "source": [
    "print(\"Accuracy of Linear Regression` is {}\".format(reg.score(X_test,Y_test)))"
   ]
  },
  {
   "cell_type": "code",
   "execution_count": 526,
   "id": "7a6eaf6d",
   "metadata": {},
   "outputs": [
    {
     "name": "stdout",
     "output_type": "stream",
     "text": [
      "Accuracy of Decision Tree is 1.0\n"
     ]
    }
   ],
   "source": [
    "model=DecisionTreeRegressor()\n",
    "model.fit(X_train,Y_train)\n",
    "print(\"Accuracy of Decision Tree is {}\".format(model.score(X_train,Y_train)))"
   ]
  },
  {
   "cell_type": "code",
   "execution_count": 527,
   "id": "e3cb50d0",
   "metadata": {},
   "outputs": [
    {
     "name": "stdout",
     "output_type": "stream",
     "text": [
      "Accuracy of Decision Tree is -0.6192780290555182\n"
     ]
    }
   ],
   "source": [
    "print(\"Accuracy of Decision Tree is {}\".format(model.score(X_test,Y_test)))"
   ]
  },
  {
   "cell_type": "code",
   "execution_count": 291,
   "id": "5c2918d1",
   "metadata": {},
   "outputs": [],
   "source": [
    "Intcolumn=train_with_collection.select_dtypes(exclude = ['object',\"bool\"])"
   ]
  },
  {
   "cell_type": "code",
   "execution_count": 293,
   "id": "8ca79342",
   "metadata": {},
   "outputs": [
    {
     "data": {
      "text/plain": [
       "['collection_id',\n",
       " 'total_supply',\n",
       " 'n_of_traits',\n",
       " 'seller_fees',\n",
       " 'platform_fees',\n",
       " 'openrarity_enabled',\n",
       " 'has_website',\n",
       " 'has_own_twitter',\n",
       " 'has_discord',\n",
       " 'has_medium',\n",
       " 'n_tweets_in_range',\n",
       " 'avg_likes',\n",
       " 'avg_replies',\n",
       " 'avg_retweets',\n",
       " 'min_likes',\n",
       " 'min_replies',\n",
       " 'min_retweets',\n",
       " 'max_likes',\n",
       " 'max_replies',\n",
       " 'max_retweets',\n",
       " 'global_index',\n",
       " 'nft_id',\n",
       " 'rarity_score',\n",
       " 'openrarity_score',\n",
       " 'openrarity_rank',\n",
       " 'openrarity_max_rank',\n",
       " 'last_sale_price']"
      ]
     },
     "execution_count": 293,
     "metadata": {},
     "output_type": "execute_result"
    }
   ],
   "source": [
    "Intcolumns=[i for i in Intcolumn.columns]\n",
    "Intcolumns"
   ]
  },
  {
   "cell_type": "code",
   "execution_count": 264,
   "id": "639047a7",
   "metadata": {},
   "outputs": [],
   "source": [
    "col=['collection_id', 'total_supply', 'n_of_traits', 'seller_fees',\n",
    "       'platform_fees', 'n_tweets_in_range', 'avg_likes', 'avg_replies',\n",
    "       'avg_retweets', 'min_likes', 'min_replies', 'min_retweets', 'max_likes',\n",
    "       'max_replies', 'max_retweets', 'global_index', 'nft_id', 'rarity_score',\n",
    "       'openrarity_score', 'openrarity_rank', 'openrarity_max_rank',\n",
    "       'last_sale_price']"
   ]
  },
  {
   "cell_type": "code",
   "execution_count": 295,
   "id": "45b3532e",
   "metadata": {},
   "outputs": [],
   "source": [
    "# for i in Intcolumns:\n",
    "    \n",
    "#     plt.subplot(2,2,2)\n",
    "#     sns.distplot(train_with_collection[i])\n",
    "    "
   ]
  },
  {
   "cell_type": "markdown",
   "id": "1566c919",
   "metadata": {},
   "source": [
    "## Using percentile outlier detection"
   ]
  },
  {
   "cell_type": "code",
   "execution_count": 48,
   "id": "f4453746",
   "metadata": {},
   "outputs": [],
   "source": [
    "upperlimit=train_data[\"rarity_score\"].quantile(0.99)"
   ]
  },
  {
   "cell_type": "code",
   "execution_count": 49,
   "id": "494ca99c",
   "metadata": {},
   "outputs": [],
   "source": [
    "lowerlimit=train_data[\"rarity_score\"].quantile(0.01)"
   ]
  },
  {
   "cell_type": "code",
   "execution_count": 51,
   "id": "0eea10d8",
   "metadata": {},
   "outputs": [
    {
     "data": {
      "text/plain": [
       "19925.969636762355"
      ]
     },
     "execution_count": 51,
     "metadata": {},
     "output_type": "execute_result"
    }
   ],
   "source": [
    "upperlimit"
   ]
  },
  {
   "cell_type": "code",
   "execution_count": 52,
   "id": "646ca6be",
   "metadata": {},
   "outputs": [
    {
     "data": {
      "text/plain": [
       "1.8284615384615384"
      ]
     },
     "execution_count": 52,
     "metadata": {},
     "output_type": "execute_result"
    }
   ],
   "source": [
    "lowerlimit"
   ]
  },
  {
   "cell_type": "code",
   "execution_count": 57,
   "id": "bc47813b",
   "metadata": {},
   "outputs": [],
   "source": [
    "Outlier=train_data[(train_data[\"rarity_score\"]<1.82) | (train_data[\"rarity_score\"]>=19925)]"
   ]
  },
  {
   "cell_type": "code",
   "execution_count": 60,
   "id": "bbbf7b57",
   "metadata": {},
   "outputs": [],
   "source": [
    "tr_data=train_data[(train_data[\"rarity_score\"]>=1.82) & (train_data[\"rarity_score\"]<=19925)]"
   ]
  },
  {
   "cell_type": "code",
   "execution_count": 61,
   "id": "83992366",
   "metadata": {},
   "outputs": [
    {
     "data": {
      "text/html": [
       "<div>\n",
       "<style scoped>\n",
       "    .dataframe tbody tr th:only-of-type {\n",
       "        vertical-align: middle;\n",
       "    }\n",
       "\n",
       "    .dataframe tbody tr th {\n",
       "        vertical-align: top;\n",
       "    }\n",
       "\n",
       "    .dataframe thead th {\n",
       "        text-align: right;\n",
       "    }\n",
       "</style>\n",
       "<table border=\"1\" class=\"dataframe\">\n",
       "  <thead>\n",
       "    <tr style=\"text-align: right;\">\n",
       "      <th></th>\n",
       "      <th>global_index</th>\n",
       "      <th>nft_id</th>\n",
       "      <th>collection_id</th>\n",
       "      <th>rarity_score</th>\n",
       "      <th>openrarity_score</th>\n",
       "      <th>openrarity_rank</th>\n",
       "      <th>openrarity_max_rank</th>\n",
       "      <th>last_sale_price</th>\n",
       "    </tr>\n",
       "  </thead>\n",
       "  <tbody>\n",
       "    <tr>\n",
       "      <th>count</th>\n",
       "      <td>306804.000000</td>\n",
       "      <td>306804.000000</td>\n",
       "      <td>306804.000000</td>\n",
       "      <td>306804.000000</td>\n",
       "      <td>306804.000000</td>\n",
       "      <td>306804.000000</td>\n",
       "      <td>306804.000000</td>\n",
       "      <td>3.068040e+05</td>\n",
       "    </tr>\n",
       "    <tr>\n",
       "      <th>mean</th>\n",
       "      <td>316302.020329</td>\n",
       "      <td>6644.786000</td>\n",
       "      <td>30.451317</td>\n",
       "      <td>1216.257232</td>\n",
       "      <td>0.983925</td>\n",
       "      <td>5630.549717</td>\n",
       "      <td>11255.883098</td>\n",
       "      <td>2.181195e+00</td>\n",
       "    </tr>\n",
       "    <tr>\n",
       "      <th>std</th>\n",
       "      <td>173857.901936</td>\n",
       "      <td>5900.815855</td>\n",
       "      <td>18.414922</td>\n",
       "      <td>3703.235798</td>\n",
       "      <td>0.078481</td>\n",
       "      <td>1951.890519</td>\n",
       "      <td>1768.312132</td>\n",
       "      <td>1.278856e+01</td>\n",
       "    </tr>\n",
       "    <tr>\n",
       "      <th>min</th>\n",
       "      <td>21928.000000</td>\n",
       "      <td>0.000000</td>\n",
       "      <td>0.000000</td>\n",
       "      <td>1.828462</td>\n",
       "      <td>0.626738</td>\n",
       "      <td>1.000000</td>\n",
       "      <td>5555.000000</td>\n",
       "      <td>6.485360e-08</td>\n",
       "    </tr>\n",
       "    <tr>\n",
       "      <th>25%</th>\n",
       "      <td>174120.750000</td>\n",
       "      <td>2433.000000</td>\n",
       "      <td>13.000000</td>\n",
       "      <td>106.011019</td>\n",
       "      <td>0.978289</td>\n",
       "      <td>5630.164737</td>\n",
       "      <td>11255.829672</td>\n",
       "      <td>4.102859e-03</td>\n",
       "    </tr>\n",
       "    <tr>\n",
       "      <th>50%</th>\n",
       "      <td>339946.500000</td>\n",
       "      <td>5088.000000</td>\n",
       "      <td>34.000000</td>\n",
       "      <td>169.791699</td>\n",
       "      <td>0.978289</td>\n",
       "      <td>5630.164737</td>\n",
       "      <td>11255.829672</td>\n",
       "      <td>8.152993e-03</td>\n",
       "    </tr>\n",
       "    <tr>\n",
       "      <th>75%</th>\n",
       "      <td>494403.250000</td>\n",
       "      <td>8625.000000</td>\n",
       "      <td>46.000000</td>\n",
       "      <td>282.578602</td>\n",
       "      <td>0.978289</td>\n",
       "      <td>5630.164737</td>\n",
       "      <td>11255.829672</td>\n",
       "      <td>3.360507e-01</td>\n",
       "    </tr>\n",
       "    <tr>\n",
       "      <th>max</th>\n",
       "      <td>590227.000000</td>\n",
       "      <td>29898.000000</td>\n",
       "      <td>60.000000</td>\n",
       "      <td>19924.689155</td>\n",
       "      <td>3.663833</td>\n",
       "      <td>15555.000000</td>\n",
       "      <td>15555.000000</td>\n",
       "      <td>1.024002e+03</td>\n",
       "    </tr>\n",
       "  </tbody>\n",
       "</table>\n",
       "</div>"
      ],
      "text/plain": [
       "        global_index         nft_id  collection_id   rarity_score  \\\n",
       "count  306804.000000  306804.000000  306804.000000  306804.000000   \n",
       "mean   316302.020329    6644.786000      30.451317    1216.257232   \n",
       "std    173857.901936    5900.815855      18.414922    3703.235798   \n",
       "min     21928.000000       0.000000       0.000000       1.828462   \n",
       "25%    174120.750000    2433.000000      13.000000     106.011019   \n",
       "50%    339946.500000    5088.000000      34.000000     169.791699   \n",
       "75%    494403.250000    8625.000000      46.000000     282.578602   \n",
       "max    590227.000000   29898.000000      60.000000   19924.689155   \n",
       "\n",
       "       openrarity_score  openrarity_rank  openrarity_max_rank  last_sale_price  \n",
       "count     306804.000000    306804.000000        306804.000000     3.068040e+05  \n",
       "mean           0.983925      5630.549717         11255.883098     2.181195e+00  \n",
       "std            0.078481      1951.890519          1768.312132     1.278856e+01  \n",
       "min            0.626738         1.000000          5555.000000     6.485360e-08  \n",
       "25%            0.978289      5630.164737         11255.829672     4.102859e-03  \n",
       "50%            0.978289      5630.164737         11255.829672     8.152993e-03  \n",
       "75%            0.978289      5630.164737         11255.829672     3.360507e-01  \n",
       "max            3.663833     15555.000000         15555.000000     1.024002e+03  "
      ]
     },
     "execution_count": 61,
     "metadata": {},
     "output_type": "execute_result"
    }
   ],
   "source": [
    "tr_data.describe()"
   ]
  },
  {
   "cell_type": "code",
   "execution_count": 80,
   "id": "c1c331f7",
   "metadata": {},
   "outputs": [],
   "source": [
    "train_data[\"rarity_score\"]=np.where(train_data[\"rarity_score\"]>=upperlimit,\n",
    "         upperlimit,\n",
    "         np.where(train_data[\"rarity_score\"]<=lowerlimit,\n",
    "         lowerlimit,\n",
    "         train_data[\"rarity_score\"]))"
   ]
  },
  {
   "cell_type": "code",
   "execution_count": 81,
   "id": "6a3ac3ec",
   "metadata": {},
   "outputs": [
    {
     "data": {
      "text/html": [
       "<div>\n",
       "<style scoped>\n",
       "    .dataframe tbody tr th:only-of-type {\n",
       "        vertical-align: middle;\n",
       "    }\n",
       "\n",
       "    .dataframe tbody tr th {\n",
       "        vertical-align: top;\n",
       "    }\n",
       "\n",
       "    .dataframe thead th {\n",
       "        text-align: right;\n",
       "    }\n",
       "</style>\n",
       "<table border=\"1\" class=\"dataframe\">\n",
       "  <thead>\n",
       "    <tr style=\"text-align: right;\">\n",
       "      <th></th>\n",
       "      <th>global_index</th>\n",
       "      <th>nft_id</th>\n",
       "      <th>collection_id</th>\n",
       "      <th>rarity_score</th>\n",
       "      <th>openrarity_score</th>\n",
       "      <th>openrarity_rank</th>\n",
       "      <th>openrarity_max_rank</th>\n",
       "      <th>last_sale_price</th>\n",
       "    </tr>\n",
       "  </thead>\n",
       "  <tbody>\n",
       "    <tr>\n",
       "      <th>count</th>\n",
       "      <td>309910.000000</td>\n",
       "      <td>309910.000000</td>\n",
       "      <td>309910.000000</td>\n",
       "      <td>309910.000000</td>\n",
       "      <td>309910.000000</td>\n",
       "      <td>309910.000000</td>\n",
       "      <td>309910.000000</td>\n",
       "      <td>3.099100e+05</td>\n",
       "    </tr>\n",
       "    <tr>\n",
       "      <th>mean</th>\n",
       "      <td>317003.207947</td>\n",
       "      <td>6738.162024</td>\n",
       "      <td>30.507160</td>\n",
       "      <td>1403.449468</td>\n",
       "      <td>0.983927</td>\n",
       "      <td>5630.164737</td>\n",
       "      <td>11255.829672</td>\n",
       "      <td>2.162269e+00</td>\n",
       "    </tr>\n",
       "    <tr>\n",
       "      <th>std</th>\n",
       "      <td>173138.765569</td>\n",
       "      <td>5977.542096</td>\n",
       "      <td>18.331668</td>\n",
       "      <td>4128.460193</td>\n",
       "      <td>0.078458</td>\n",
       "      <td>1942.636517</td>\n",
       "      <td>1759.481774</td>\n",
       "      <td>1.275132e+01</td>\n",
       "    </tr>\n",
       "    <tr>\n",
       "      <th>min</th>\n",
       "      <td>21928.000000</td>\n",
       "      <td>0.000000</td>\n",
       "      <td>0.000000</td>\n",
       "      <td>1.828462</td>\n",
       "      <td>0.626738</td>\n",
       "      <td>1.000000</td>\n",
       "      <td>5555.000000</td>\n",
       "      <td>6.485360e-08</td>\n",
       "    </tr>\n",
       "    <tr>\n",
       "      <th>25%</th>\n",
       "      <td>174892.250000</td>\n",
       "      <td>2453.000000</td>\n",
       "      <td>13.000000</td>\n",
       "      <td>106.587184</td>\n",
       "      <td>0.978289</td>\n",
       "      <td>5630.164737</td>\n",
       "      <td>11255.829672</td>\n",
       "      <td>4.077085e-03</td>\n",
       "    </tr>\n",
       "    <tr>\n",
       "      <th>50%</th>\n",
       "      <td>341467.500000</td>\n",
       "      <td>5138.000000</td>\n",
       "      <td>34.000000</td>\n",
       "      <td>170.797030</td>\n",
       "      <td>0.978289</td>\n",
       "      <td>5630.164737</td>\n",
       "      <td>11255.829672</td>\n",
       "      <td>8.103344e-03</td>\n",
       "    </tr>\n",
       "    <tr>\n",
       "      <th>75%</th>\n",
       "      <td>493626.750000</td>\n",
       "      <td>8720.750000</td>\n",
       "      <td>46.000000</td>\n",
       "      <td>289.614129</td>\n",
       "      <td>0.978289</td>\n",
       "      <td>5630.164737</td>\n",
       "      <td>11255.829672</td>\n",
       "      <td>3.252062e-01</td>\n",
       "    </tr>\n",
       "    <tr>\n",
       "      <th>max</th>\n",
       "      <td>590227.000000</td>\n",
       "      <td>29898.000000</td>\n",
       "      <td>60.000000</td>\n",
       "      <td>19925.969637</td>\n",
       "      <td>3.663833</td>\n",
       "      <td>15555.000000</td>\n",
       "      <td>15555.000000</td>\n",
       "      <td>1.024002e+03</td>\n",
       "    </tr>\n",
       "  </tbody>\n",
       "</table>\n",
       "</div>"
      ],
      "text/plain": [
       "        global_index         nft_id  collection_id   rarity_score  \\\n",
       "count  309910.000000  309910.000000  309910.000000  309910.000000   \n",
       "mean   317003.207947    6738.162024      30.507160    1403.449468   \n",
       "std    173138.765569    5977.542096      18.331668    4128.460193   \n",
       "min     21928.000000       0.000000       0.000000       1.828462   \n",
       "25%    174892.250000    2453.000000      13.000000     106.587184   \n",
       "50%    341467.500000    5138.000000      34.000000     170.797030   \n",
       "75%    493626.750000    8720.750000      46.000000     289.614129   \n",
       "max    590227.000000   29898.000000      60.000000   19925.969637   \n",
       "\n",
       "       openrarity_score  openrarity_rank  openrarity_max_rank  last_sale_price  \n",
       "count     309910.000000    309910.000000        309910.000000     3.099100e+05  \n",
       "mean           0.983927      5630.164737         11255.829672     2.162269e+00  \n",
       "std            0.078458      1942.636517          1759.481774     1.275132e+01  \n",
       "min            0.626738         1.000000          5555.000000     6.485360e-08  \n",
       "25%            0.978289      5630.164737         11255.829672     4.077085e-03  \n",
       "50%            0.978289      5630.164737         11255.829672     8.103344e-03  \n",
       "75%            0.978289      5630.164737         11255.829672     3.252062e-01  \n",
       "max            3.663833     15555.000000         15555.000000     1.024002e+03  "
      ]
     },
     "execution_count": 81,
     "metadata": {},
     "output_type": "execute_result"
    }
   ],
   "source": [
    "train_data.describe()"
   ]
  },
  {
   "cell_type": "code",
   "execution_count": 82,
   "id": "8fe57019",
   "metadata": {},
   "outputs": [
    {
     "data": {
      "text/plain": [
       "global_index          -0.096667\n",
       "nft_id                -0.055394\n",
       "collection_id         -0.118710\n",
       "rarity_score          -0.047835\n",
       "openrarity_score       0.024804\n",
       "openrarity_rank       -0.018963\n",
       "openrarity_max_rank   -0.024517\n",
       "last_sale_price        1.000000\n",
       "Name: last_sale_price, dtype: float64"
      ]
     },
     "execution_count": 82,
     "metadata": {},
     "output_type": "execute_result"
    }
   ],
   "source": [
    "train_data.corr()[\"last_sale_price\"]"
   ]
  },
  {
   "cell_type": "code",
   "execution_count": 76,
   "id": "f48f77f2",
   "metadata": {},
   "outputs": [
    {
     "data": {
      "text/plain": [
       "0.9782885441260575"
      ]
     },
     "execution_count": 76,
     "metadata": {},
     "output_type": "execute_result"
    }
   ],
   "source": [
    "train_data[\"openrarity_score\"].median()"
   ]
  },
  {
   "cell_type": "markdown",
   "id": "6a5ae375",
   "metadata": {},
   "source": [
    "## Using Zscore"
   ]
  },
  {
   "cell_type": "code",
   "execution_count": 90,
   "id": "a0561e76",
   "metadata": {},
   "outputs": [],
   "source": [
    "hCore=(train_data[\"openrarity_score\"].mean())+(3*train_data[\"openrarity_score\"].std())"
   ]
  },
  {
   "cell_type": "code",
   "execution_count": 91,
   "id": "fe4a937a",
   "metadata": {},
   "outputs": [],
   "source": [
    "lCore=(train_data[\"openrarity_score\"].mean())-(3*train_data[\"openrarity_score\"].std())"
   ]
  },
  {
   "cell_type": "code",
   "execution_count": 92,
   "id": "d38f5054",
   "metadata": {},
   "outputs": [
    {
     "data": {
      "text/html": [
       "<div>\n",
       "<style scoped>\n",
       "    .dataframe tbody tr th:only-of-type {\n",
       "        vertical-align: middle;\n",
       "    }\n",
       "\n",
       "    .dataframe tbody tr th {\n",
       "        vertical-align: top;\n",
       "    }\n",
       "\n",
       "    .dataframe thead th {\n",
       "        text-align: right;\n",
       "    }\n",
       "</style>\n",
       "<table border=\"1\" class=\"dataframe\">\n",
       "  <thead>\n",
       "    <tr style=\"text-align: right;\">\n",
       "      <th></th>\n",
       "      <th>global_index</th>\n",
       "      <th>nft_id</th>\n",
       "      <th>collection_id</th>\n",
       "      <th>rarity_score</th>\n",
       "      <th>openrarity_score</th>\n",
       "      <th>openrarity_rank</th>\n",
       "      <th>openrarity_max_rank</th>\n",
       "      <th>last_sale_date</th>\n",
       "      <th>last_sale_price</th>\n",
       "    </tr>\n",
       "  </thead>\n",
       "  <tbody>\n",
       "    <tr>\n",
       "      <th>9022</th>\n",
       "      <td>41642</td>\n",
       "      <td>133</td>\n",
       "      <td>54</td>\n",
       "      <td>2501.108750</td>\n",
       "      <td>1.220960</td>\n",
       "      <td>61.0</td>\n",
       "      <td>9928.0</td>\n",
       "      <td>2021-11</td>\n",
       "      <td>0.352916</td>\n",
       "    </tr>\n",
       "    <tr>\n",
       "      <th>17078</th>\n",
       "      <td>49768</td>\n",
       "      <td>8189</td>\n",
       "      <td>54</td>\n",
       "      <td>4676.375316</td>\n",
       "      <td>1.212887</td>\n",
       "      <td>62.0</td>\n",
       "      <td>9928.0</td>\n",
       "      <td>2022-02</td>\n",
       "      <td>0.008918</td>\n",
       "    </tr>\n",
       "    <tr>\n",
       "      <th>30340</th>\n",
       "      <td>63030</td>\n",
       "      <td>0</td>\n",
       "      <td>58</td>\n",
       "      <td>68.641489</td>\n",
       "      <td>1.345539</td>\n",
       "      <td>819.0</td>\n",
       "      <td>15555.0</td>\n",
       "      <td>2022-08</td>\n",
       "      <td>0.003816</td>\n",
       "    </tr>\n",
       "    <tr>\n",
       "      <th>30361</th>\n",
       "      <td>63051</td>\n",
       "      <td>21</td>\n",
       "      <td>58</td>\n",
       "      <td>85.747762</td>\n",
       "      <td>1.262861</td>\n",
       "      <td>1161.0</td>\n",
       "      <td>15555.0</td>\n",
       "      <td>2022-04</td>\n",
       "      <td>1.099719</td>\n",
       "    </tr>\n",
       "    <tr>\n",
       "      <th>30363</th>\n",
       "      <td>63053</td>\n",
       "      <td>23</td>\n",
       "      <td>58</td>\n",
       "      <td>80.445471</td>\n",
       "      <td>1.401301</td>\n",
       "      <td>226.0</td>\n",
       "      <td>15555.0</td>\n",
       "      <td>2022-04</td>\n",
       "      <td>0.694138</td>\n",
       "    </tr>\n",
       "    <tr>\n",
       "      <th>...</th>\n",
       "      <td>...</td>\n",
       "      <td>...</td>\n",
       "      <td>...</td>\n",
       "      <td>...</td>\n",
       "      <td>...</td>\n",
       "      <td>...</td>\n",
       "      <td>...</td>\n",
       "      <td>...</td>\n",
       "      <td>...</td>\n",
       "    </tr>\n",
       "    <tr>\n",
       "      <th>290859</th>\n",
       "      <td>552614</td>\n",
       "      <td>5504</td>\n",
       "      <td>34</td>\n",
       "      <td>294.850455</td>\n",
       "      <td>1.387957</td>\n",
       "      <td>105.0</td>\n",
       "      <td>5555.0</td>\n",
       "      <td>2022-05</td>\n",
       "      <td>3.502394</td>\n",
       "    </tr>\n",
       "    <tr>\n",
       "      <th>290872</th>\n",
       "      <td>552627</td>\n",
       "      <td>5517</td>\n",
       "      <td>34</td>\n",
       "      <td>220.823603</td>\n",
       "      <td>1.243080</td>\n",
       "      <td>255.0</td>\n",
       "      <td>5555.0</td>\n",
       "      <td>2022-02</td>\n",
       "      <td>7.509396</td>\n",
       "    </tr>\n",
       "    <tr>\n",
       "      <th>290873</th>\n",
       "      <td>552628</td>\n",
       "      <td>5518</td>\n",
       "      <td>34</td>\n",
       "      <td>209.349108</td>\n",
       "      <td>1.265054</td>\n",
       "      <td>212.0</td>\n",
       "      <td>5555.0</td>\n",
       "      <td>2022-02</td>\n",
       "      <td>7.393807</td>\n",
       "    </tr>\n",
       "    <tr>\n",
       "      <th>290884</th>\n",
       "      <td>552639</td>\n",
       "      <td>5529</td>\n",
       "      <td>34</td>\n",
       "      <td>188.428538</td>\n",
       "      <td>1.232073</td>\n",
       "      <td>288.0</td>\n",
       "      <td>5555.0</td>\n",
       "      <td>2022-02</td>\n",
       "      <td>6.006676</td>\n",
       "    </tr>\n",
       "    <tr>\n",
       "      <th>290894</th>\n",
       "      <td>552649</td>\n",
       "      <td>5539</td>\n",
       "      <td>34</td>\n",
       "      <td>5634.357143</td>\n",
       "      <td>1.973398</td>\n",
       "      <td>26.0</td>\n",
       "      <td>5555.0</td>\n",
       "      <td>2022-02</td>\n",
       "      <td>18.003856</td>\n",
       "    </tr>\n",
       "  </tbody>\n",
       "</table>\n",
       "<p>7498 rows × 9 columns</p>\n",
       "</div>"
      ],
      "text/plain": [
       "        global_index  nft_id  collection_id  rarity_score  openrarity_score  \\\n",
       "9022           41642     133             54   2501.108750          1.220960   \n",
       "17078          49768    8189             54   4676.375316          1.212887   \n",
       "30340          63030       0             58     68.641489          1.345539   \n",
       "30361          63051      21             58     85.747762          1.262861   \n",
       "30363          63053      23             58     80.445471          1.401301   \n",
       "...              ...     ...            ...           ...               ...   \n",
       "290859        552614    5504             34    294.850455          1.387957   \n",
       "290872        552627    5517             34    220.823603          1.243080   \n",
       "290873        552628    5518             34    209.349108          1.265054   \n",
       "290884        552639    5529             34    188.428538          1.232073   \n",
       "290894        552649    5539             34   5634.357143          1.973398   \n",
       "\n",
       "        openrarity_rank  openrarity_max_rank last_sale_date  last_sale_price  \n",
       "9022               61.0               9928.0        2021-11         0.352916  \n",
       "17078              62.0               9928.0        2022-02         0.008918  \n",
       "30340             819.0              15555.0        2022-08         0.003816  \n",
       "30361            1161.0              15555.0        2022-04         1.099719  \n",
       "30363             226.0              15555.0        2022-04         0.694138  \n",
       "...                 ...                  ...            ...              ...  \n",
       "290859            105.0               5555.0        2022-05         3.502394  \n",
       "290872            255.0               5555.0        2022-02         7.509396  \n",
       "290873            212.0               5555.0        2022-02         7.393807  \n",
       "290884            288.0               5555.0        2022-02         6.006676  \n",
       "290894             26.0               5555.0        2022-02        18.003856  \n",
       "\n",
       "[7498 rows x 9 columns]"
      ]
     },
     "execution_count": 92,
     "metadata": {},
     "output_type": "execute_result"
    }
   ],
   "source": [
    "train_data[(train_data[\"openrarity_score\"]>1.21)|(train_data[\"openrarity_score\"]<0.74)]"
   ]
  },
  {
   "cell_type": "code",
   "execution_count": 96,
   "id": "cf9ef6a7",
   "metadata": {},
   "outputs": [],
   "source": [
    "train_data[\"openrarity_score\"]=np.where(train_data[\"openrarity_score\"]>=hCore,\n",
    "         hCore,\n",
    "         np.where(train_data[\"openrarity_score\"]<=lCore,\n",
    "         lCore,\n",
    "         train_data[\"openrarity_score\"]))"
   ]
  },
  {
   "cell_type": "code",
   "execution_count": 98,
   "id": "1615c9ea",
   "metadata": {},
   "outputs": [
    {
     "data": {
      "text/plain": [
       "global_index          -0.096667\n",
       "nft_id                -0.055394\n",
       "collection_id         -0.118710\n",
       "rarity_score          -0.047835\n",
       "openrarity_score       0.004893\n",
       "openrarity_rank       -0.018963\n",
       "openrarity_max_rank   -0.024517\n",
       "last_sale_price        1.000000\n",
       "Name: last_sale_price, dtype: float64"
      ]
     },
     "execution_count": 98,
     "metadata": {},
     "output_type": "execute_result"
    }
   ],
   "source": [
    "train_data.corr()[\"last_sale_price\"]"
   ]
  },
  {
   "cell_type": "code",
   "execution_count": 104,
   "id": "3cc04273",
   "metadata": {},
   "outputs": [
    {
     "data": {
      "text/html": [
       "<div>\n",
       "<style scoped>\n",
       "    .dataframe tbody tr th:only-of-type {\n",
       "        vertical-align: middle;\n",
       "    }\n",
       "\n",
       "    .dataframe tbody tr th {\n",
       "        vertical-align: top;\n",
       "    }\n",
       "\n",
       "    .dataframe thead th {\n",
       "        text-align: right;\n",
       "    }\n",
       "</style>\n",
       "<table border=\"1\" class=\"dataframe\">\n",
       "  <thead>\n",
       "    <tr style=\"text-align: right;\">\n",
       "      <th></th>\n",
       "      <th>global_index</th>\n",
       "      <th>nft_id</th>\n",
       "      <th>collection_id</th>\n",
       "      <th>rarity_score</th>\n",
       "      <th>openrarity_score</th>\n",
       "      <th>openrarity_rank</th>\n",
       "      <th>openrarity_max_rank</th>\n",
       "      <th>last_sale_price</th>\n",
       "    </tr>\n",
       "  </thead>\n",
       "  <tbody>\n",
       "    <tr>\n",
       "      <th>count</th>\n",
       "      <td>309910.000000</td>\n",
       "      <td>309910.000000</td>\n",
       "      <td>309910.000000</td>\n",
       "      <td>309910.000000</td>\n",
       "      <td>309910.000000</td>\n",
       "      <td>309910.000000</td>\n",
       "      <td>309910.000000</td>\n",
       "      <td>3.099100e+05</td>\n",
       "    </tr>\n",
       "    <tr>\n",
       "      <th>mean</th>\n",
       "      <td>317003.207947</td>\n",
       "      <td>6738.162024</td>\n",
       "      <td>30.507160</td>\n",
       "      <td>1403.449468</td>\n",
       "      <td>0.981171</td>\n",
       "      <td>5630.164737</td>\n",
       "      <td>11255.829672</td>\n",
       "      <td>2.162269e+00</td>\n",
       "    </tr>\n",
       "    <tr>\n",
       "      <th>std</th>\n",
       "      <td>173138.765569</td>\n",
       "      <td>5977.542096</td>\n",
       "      <td>18.331668</td>\n",
       "      <td>4128.460193</td>\n",
       "      <td>0.060451</td>\n",
       "      <td>1942.636517</td>\n",
       "      <td>1759.481774</td>\n",
       "      <td>1.275132e+01</td>\n",
       "    </tr>\n",
       "    <tr>\n",
       "      <th>min</th>\n",
       "      <td>21928.000000</td>\n",
       "      <td>0.000000</td>\n",
       "      <td>0.000000</td>\n",
       "      <td>1.828462</td>\n",
       "      <td>0.748552</td>\n",
       "      <td>1.000000</td>\n",
       "      <td>5555.000000</td>\n",
       "      <td>6.485360e-08</td>\n",
       "    </tr>\n",
       "    <tr>\n",
       "      <th>25%</th>\n",
       "      <td>174892.250000</td>\n",
       "      <td>2453.000000</td>\n",
       "      <td>13.000000</td>\n",
       "      <td>106.587184</td>\n",
       "      <td>0.978289</td>\n",
       "      <td>5630.164737</td>\n",
       "      <td>11255.829672</td>\n",
       "      <td>4.077085e-03</td>\n",
       "    </tr>\n",
       "    <tr>\n",
       "      <th>50%</th>\n",
       "      <td>341467.500000</td>\n",
       "      <td>5138.000000</td>\n",
       "      <td>34.000000</td>\n",
       "      <td>170.797030</td>\n",
       "      <td>0.978289</td>\n",
       "      <td>5630.164737</td>\n",
       "      <td>11255.829672</td>\n",
       "      <td>8.103344e-03</td>\n",
       "    </tr>\n",
       "    <tr>\n",
       "      <th>75%</th>\n",
       "      <td>493626.750000</td>\n",
       "      <td>8720.750000</td>\n",
       "      <td>46.000000</td>\n",
       "      <td>289.614129</td>\n",
       "      <td>0.978289</td>\n",
       "      <td>5630.164737</td>\n",
       "      <td>11255.829672</td>\n",
       "      <td>3.252062e-01</td>\n",
       "    </tr>\n",
       "    <tr>\n",
       "      <th>max</th>\n",
       "      <td>590227.000000</td>\n",
       "      <td>29898.000000</td>\n",
       "      <td>60.000000</td>\n",
       "      <td>19925.969637</td>\n",
       "      <td>1.219302</td>\n",
       "      <td>15555.000000</td>\n",
       "      <td>15555.000000</td>\n",
       "      <td>1.024002e+03</td>\n",
       "    </tr>\n",
       "  </tbody>\n",
       "</table>\n",
       "</div>"
      ],
      "text/plain": [
       "        global_index         nft_id  collection_id   rarity_score  \\\n",
       "count  309910.000000  309910.000000  309910.000000  309910.000000   \n",
       "mean   317003.207947    6738.162024      30.507160    1403.449468   \n",
       "std    173138.765569    5977.542096      18.331668    4128.460193   \n",
       "min     21928.000000       0.000000       0.000000       1.828462   \n",
       "25%    174892.250000    2453.000000      13.000000     106.587184   \n",
       "50%    341467.500000    5138.000000      34.000000     170.797030   \n",
       "75%    493626.750000    8720.750000      46.000000     289.614129   \n",
       "max    590227.000000   29898.000000      60.000000   19925.969637   \n",
       "\n",
       "       openrarity_score  openrarity_rank  openrarity_max_rank  last_sale_price  \n",
       "count     309910.000000    309910.000000        309910.000000     3.099100e+05  \n",
       "mean           0.981171      5630.164737         11255.829672     2.162269e+00  \n",
       "std            0.060451      1942.636517          1759.481774     1.275132e+01  \n",
       "min            0.748552         1.000000          5555.000000     6.485360e-08  \n",
       "25%            0.978289      5630.164737         11255.829672     4.077085e-03  \n",
       "50%            0.978289      5630.164737         11255.829672     8.103344e-03  \n",
       "75%            0.978289      5630.164737         11255.829672     3.252062e-01  \n",
       "max            1.219302     15555.000000         15555.000000     1.024002e+03  "
      ]
     },
     "execution_count": 104,
     "metadata": {},
     "output_type": "execute_result"
    }
   ],
   "source": [
    "train_data.describe()"
   ]
  },
  {
   "cell_type": "code",
   "execution_count": 106,
   "id": "b7387d7b",
   "metadata": {},
   "outputs": [
    {
     "name": "stderr",
     "output_type": "stream",
     "text": [
      "/home/administrator/anaconda3/lib/python3.8/site-packages/seaborn/distributions.py:2557: FutureWarning: `distplot` is a deprecated function and will be removed in a future version. Please adapt your code to use either `displot` (a figure-level function with similar flexibility) or `histplot` (an axes-level function for histograms).\n",
      "  warnings.warn(msg, FutureWarning)\n"
     ]
    },
    {
     "data": {
      "text/plain": [
       "<AxesSubplot:xlabel='nft_id', ylabel='Density'>"
      ]
     },
     "execution_count": 106,
     "metadata": {},
     "output_type": "execute_result"
    },
    {
     "data": {
      "image/png": "[encoded data removed]",
      "text/plain": [
       "<Figure size 432x288 with 1 Axes>"
      ]
     },
     "metadata": {
      "needs_background": "light"
     },
     "output_type": "display_data"
    }
   ],
   "source": [
    "sns.distplot(train_data[\"nft_id\"])"
   ]
  },
  {
   "cell_type": "code",
   "execution_count": 107,
   "id": "273507af",
   "metadata": {},
   "outputs": [],
   "source": [
    "ul=train_data[\"nft_id\"].quantile(0.99)"
   ]
  },
  {
   "cell_type": "code",
   "execution_count": 114,
   "id": "18167d8c",
   "metadata": {},
   "outputs": [
    {
     "data": {
      "text/plain": [
       "93.0"
      ]
     },
     "execution_count": 114,
     "metadata": {},
     "output_type": "execute_result"
    }
   ],
   "source": [
    "ll=train_data[\"nft_id\"].quantile(0.01)\n",
    "ll"
   ]
  },
  {
   "cell_type": "code",
   "execution_count": 113,
   "id": "f53183a4",
   "metadata": {},
   "outputs": [
    {
     "data": {
      "text/plain": [
       "0        34\n",
       "37       33\n",
       "21       33\n",
       "35       33\n",
       "25       33\n",
       "         ..\n",
       "27252     1\n",
       "29303     1\n",
       "27256     1\n",
       "29307     1\n",
       "28670     1\n",
       "Name: nft_id, Length: 3193, dtype: int64"
      ]
     },
     "execution_count": 113,
     "metadata": {},
     "output_type": "execute_result"
    }
   ],
   "source": [
    "Outlier1=train_data[(train_data[\"nft_id\"]<ll) | (train_data[\"nft_id\"]>=ul)]\n",
    "Outlier1[\"nft_id\"].value_counts()"
   ]
  },
  {
   "cell_type": "code",
   "execution_count": 268,
   "id": "80f19ab3",
   "metadata": {},
   "outputs": [
    {
     "data": {
      "text/html": [
       "<div>\n",
       "<style scoped>\n",
       "    .dataframe tbody tr th:only-of-type {\n",
       "        vertical-align: middle;\n",
       "    }\n",
       "\n",
       "    .dataframe tbody tr th {\n",
       "        vertical-align: top;\n",
       "    }\n",
       "\n",
       "    .dataframe thead th {\n",
       "        text-align: right;\n",
       "    }\n",
       "</style>\n",
       "<table border=\"1\" class=\"dataframe\">\n",
       "  <thead>\n",
       "    <tr style=\"text-align: right;\">\n",
       "      <th></th>\n",
       "      <th>collection_id</th>\n",
       "      <th>total_supply</th>\n",
       "      <th>n_of_traits</th>\n",
       "      <th>seller_fees</th>\n",
       "      <th>platform_fees</th>\n",
       "      <th>n_tweets_in_range</th>\n",
       "      <th>avg_likes</th>\n",
       "      <th>avg_replies</th>\n",
       "      <th>avg_retweets</th>\n",
       "      <th>min_likes</th>\n",
       "      <th>...</th>\n",
       "      <th>max_likes</th>\n",
       "      <th>max_replies</th>\n",
       "      <th>max_retweets</th>\n",
       "      <th>global_index</th>\n",
       "      <th>nft_id</th>\n",
       "      <th>rarity_score</th>\n",
       "      <th>openrarity_score</th>\n",
       "      <th>openrarity_rank</th>\n",
       "      <th>openrarity_max_rank</th>\n",
       "      <th>last_sale_price</th>\n",
       "    </tr>\n",
       "  </thead>\n",
       "  <tbody>\n",
       "    <tr>\n",
       "      <th>count</th>\n",
       "      <td>309910.000000</td>\n",
       "      <td>309910.000000</td>\n",
       "      <td>309910.000000</td>\n",
       "      <td>309910.000000</td>\n",
       "      <td>309910.0</td>\n",
       "      <td>309910.000000</td>\n",
       "      <td>309910.000000</td>\n",
       "      <td>309910.000000</td>\n",
       "      <td>309910.000000</td>\n",
       "      <td>309910.000000</td>\n",
       "      <td>...</td>\n",
       "      <td>309910.000000</td>\n",
       "      <td>309910.000000</td>\n",
       "      <td>309910.000000</td>\n",
       "      <td>309910.000000</td>\n",
       "      <td>309910.000000</td>\n",
       "      <td>309910.000000</td>\n",
       "      <td>309910.000000</td>\n",
       "      <td>309910.000000</td>\n",
       "      <td>309910.000000</td>\n",
       "      <td>3.099100e+05</td>\n",
       "    </tr>\n",
       "    <tr>\n",
       "      <th>mean</th>\n",
       "      <td>30.507160</td>\n",
       "      <td>13402.176838</td>\n",
       "      <td>10.557885</td>\n",
       "      <td>699.754284</td>\n",
       "      <td>250.0</td>\n",
       "      <td>17.166665</td>\n",
       "      <td>80.290716</td>\n",
       "      <td>20.314344</td>\n",
       "      <td>41.940726</td>\n",
       "      <td>12.595537</td>\n",
       "      <td>...</td>\n",
       "      <td>304.933981</td>\n",
       "      <td>107.703885</td>\n",
       "      <td>190.700142</td>\n",
       "      <td>317003.207947</td>\n",
       "      <td>6738.162024</td>\n",
       "      <td>1437.092531</td>\n",
       "      <td>0.983927</td>\n",
       "      <td>5630.164737</td>\n",
       "      <td>11255.829672</td>\n",
       "      <td>2.162269e+00</td>\n",
       "    </tr>\n",
       "    <tr>\n",
       "      <th>std</th>\n",
       "      <td>18.331668</td>\n",
       "      <td>7915.325634</td>\n",
       "      <td>4.878024</td>\n",
       "      <td>249.914130</td>\n",
       "      <td>0.0</td>\n",
       "      <td>27.037390</td>\n",
       "      <td>154.619275</td>\n",
       "      <td>62.247978</td>\n",
       "      <td>83.335786</td>\n",
       "      <td>33.550405</td>\n",
       "      <td>...</td>\n",
       "      <td>898.138000</td>\n",
       "      <td>445.353597</td>\n",
       "      <td>523.418690</td>\n",
       "      <td>173138.765569</td>\n",
       "      <td>5977.542096</td>\n",
       "      <td>4303.585892</td>\n",
       "      <td>0.078458</td>\n",
       "      <td>1942.636517</td>\n",
       "      <td>1759.481774</td>\n",
       "      <td>1.275132e+01</td>\n",
       "    </tr>\n",
       "    <tr>\n",
       "      <th>min</th>\n",
       "      <td>0.000000</td>\n",
       "      <td>1.000000</td>\n",
       "      <td>1.000000</td>\n",
       "      <td>250.000000</td>\n",
       "      <td>250.0</td>\n",
       "      <td>1.000000</td>\n",
       "      <td>0.000000</td>\n",
       "      <td>0.000000</td>\n",
       "      <td>0.000000</td>\n",
       "      <td>0.000000</td>\n",
       "      <td>...</td>\n",
       "      <td>0.000000</td>\n",
       "      <td>0.000000</td>\n",
       "      <td>0.000000</td>\n",
       "      <td>21928.000000</td>\n",
       "      <td>0.000000</td>\n",
       "      <td>1.000000</td>\n",
       "      <td>0.626738</td>\n",
       "      <td>1.000000</td>\n",
       "      <td>5555.000000</td>\n",
       "      <td>6.485360e-08</td>\n",
       "    </tr>\n",
       "    <tr>\n",
       "      <th>25%</th>\n",
       "      <td>13.000000</td>\n",
       "      <td>8888.000000</td>\n",
       "      <td>8.000000</td>\n",
       "      <td>500.000000</td>\n",
       "      <td>250.0</td>\n",
       "      <td>3.000000</td>\n",
       "      <td>2.000000</td>\n",
       "      <td>0.200000</td>\n",
       "      <td>1.153846</td>\n",
       "      <td>0.000000</td>\n",
       "      <td>...</td>\n",
       "      <td>5.000000</td>\n",
       "      <td>1.000000</td>\n",
       "      <td>5.000000</td>\n",
       "      <td>174892.250000</td>\n",
       "      <td>2453.000000</td>\n",
       "      <td>106.587184</td>\n",
       "      <td>0.978289</td>\n",
       "      <td>5630.164737</td>\n",
       "      <td>11255.829672</td>\n",
       "      <td>4.077085e-03</td>\n",
       "    </tr>\n",
       "    <tr>\n",
       "      <th>50%</th>\n",
       "      <td>34.000000</td>\n",
       "      <td>9999.000000</td>\n",
       "      <td>10.000000</td>\n",
       "      <td>750.000000</td>\n",
       "      <td>250.0</td>\n",
       "      <td>11.000000</td>\n",
       "      <td>8.153846</td>\n",
       "      <td>3.450000</td>\n",
       "      <td>8.166667</td>\n",
       "      <td>0.000000</td>\n",
       "      <td>...</td>\n",
       "      <td>30.000000</td>\n",
       "      <td>7.000000</td>\n",
       "      <td>34.000000</td>\n",
       "      <td>341467.500000</td>\n",
       "      <td>5138.000000</td>\n",
       "      <td>170.797030</td>\n",
       "      <td>0.978289</td>\n",
       "      <td>5630.164737</td>\n",
       "      <td>11255.829672</td>\n",
       "      <td>8.103344e-03</td>\n",
       "    </tr>\n",
       "    <tr>\n",
       "      <th>75%</th>\n",
       "      <td>46.000000</td>\n",
       "      <td>15000.000000</td>\n",
       "      <td>12.000000</td>\n",
       "      <td>900.000000</td>\n",
       "      <td>250.0</td>\n",
       "      <td>19.000000</td>\n",
       "      <td>60.888889</td>\n",
       "      <td>8.500000</td>\n",
       "      <td>55.181818</td>\n",
       "      <td>2.000000</td>\n",
       "      <td>...</td>\n",
       "      <td>202.000000</td>\n",
       "      <td>47.000000</td>\n",
       "      <td>131.000000</td>\n",
       "      <td>493626.750000</td>\n",
       "      <td>8720.750000</td>\n",
       "      <td>289.614129</td>\n",
       "      <td>0.978289</td>\n",
       "      <td>5630.164737</td>\n",
       "      <td>11255.829672</td>\n",
       "      <td>3.252062e-01</td>\n",
       "    </tr>\n",
       "    <tr>\n",
       "      <th>max</th>\n",
       "      <td>60.000000</td>\n",
       "      <td>29899.000000</td>\n",
       "      <td>31.000000</td>\n",
       "      <td>1000.000000</td>\n",
       "      <td>250.0</td>\n",
       "      <td>151.000000</td>\n",
       "      <td>707.875000</td>\n",
       "      <td>353.400000</td>\n",
       "      <td>442.000000</td>\n",
       "      <td>236.000000</td>\n",
       "      <td>...</td>\n",
       "      <td>5079.000000</td>\n",
       "      <td>2601.000000</td>\n",
       "      <td>2990.000000</td>\n",
       "      <td>590227.000000</td>\n",
       "      <td>29898.000000</td>\n",
       "      <td>90354.072248</td>\n",
       "      <td>3.663833</td>\n",
       "      <td>15555.000000</td>\n",
       "      <td>15555.000000</td>\n",
       "      <td>1.024002e+03</td>\n",
       "    </tr>\n",
       "  </tbody>\n",
       "</table>\n",
       "<p>8 rows × 22 columns</p>\n",
       "</div>"
      ],
      "text/plain": [
       "       collection_id   total_supply    n_of_traits    seller_fees  \\\n",
       "count  309910.000000  309910.000000  309910.000000  309910.000000   \n",
       "mean       30.507160   13402.176838      10.557885     699.754284   \n",
       "std        18.331668    7915.325634       4.878024     249.914130   \n",
       "min         0.000000       1.000000       1.000000     250.000000   \n",
       "25%        13.000000    8888.000000       8.000000     500.000000   \n",
       "50%        34.000000    9999.000000      10.000000     750.000000   \n",
       "75%        46.000000   15000.000000      12.000000     900.000000   \n",
       "max        60.000000   29899.000000      31.000000    1000.000000   \n",
       "\n",
       "       platform_fees  n_tweets_in_range      avg_likes    avg_replies  \\\n",
       "count       309910.0      309910.000000  309910.000000  309910.000000   \n",
       "mean           250.0          17.166665      80.290716      20.314344   \n",
       "std              0.0          27.037390     154.619275      62.247978   \n",
       "min            250.0           1.000000       0.000000       0.000000   \n",
       "25%            250.0           3.000000       2.000000       0.200000   \n",
       "50%            250.0          11.000000       8.153846       3.450000   \n",
       "75%            250.0          19.000000      60.888889       8.500000   \n",
       "max            250.0         151.000000     707.875000     353.400000   \n",
       "\n",
       "        avg_retweets      min_likes  ...      max_likes    max_replies  \\\n",
       "count  309910.000000  309910.000000  ...  309910.000000  309910.000000   \n",
       "mean       41.940726      12.595537  ...     304.933981     107.703885   \n",
       "std        83.335786      33.550405  ...     898.138000     445.353597   \n",
       "min         0.000000       0.000000  ...       0.000000       0.000000   \n",
       "25%         1.153846       0.000000  ...       5.000000       1.000000   \n",
       "50%         8.166667       0.000000  ...      30.000000       7.000000   \n",
       "75%        55.181818       2.000000  ...     202.000000      47.000000   \n",
       "max       442.000000     236.000000  ...    5079.000000    2601.000000   \n",
       "\n",
       "        max_retweets   global_index         nft_id   rarity_score  \\\n",
       "count  309910.000000  309910.000000  309910.000000  309910.000000   \n",
       "mean      190.700142  317003.207947    6738.162024    1437.092531   \n",
       "std       523.418690  173138.765569    5977.542096    4303.585892   \n",
       "min         0.000000   21928.000000       0.000000       1.000000   \n",
       "25%         5.000000  174892.250000    2453.000000     106.587184   \n",
       "50%        34.000000  341467.500000    5138.000000     170.797030   \n",
       "75%       131.000000  493626.750000    8720.750000     289.614129   \n",
       "max      2990.000000  590227.000000   29898.000000   90354.072248   \n",
       "\n",
       "       openrarity_score  openrarity_rank  openrarity_max_rank  last_sale_price  \n",
       "count     309910.000000    309910.000000        309910.000000     3.099100e+05  \n",
       "mean           0.983927      5630.164737         11255.829672     2.162269e+00  \n",
       "std            0.078458      1942.636517          1759.481774     1.275132e+01  \n",
       "min            0.626738         1.000000          5555.000000     6.485360e-08  \n",
       "25%            0.978289      5630.164737         11255.829672     4.077085e-03  \n",
       "50%            0.978289      5630.164737         11255.829672     8.103344e-03  \n",
       "75%            0.978289      5630.164737         11255.829672     3.252062e-01  \n",
       "max            3.663833     15555.000000         15555.000000     1.024002e+03  \n",
       "\n",
       "[8 rows x 22 columns]"
      ]
     },
     "execution_count": 268,
     "metadata": {},
     "output_type": "execute_result"
    }
   ],
   "source": [
    "train_with_collection.describe()"
   ]
  },
  {
   "cell_type": "code",
   "execution_count": 703,
   "id": "a9726ee3",
   "metadata": {},
   "outputs": [
    {
     "data": {
      "text/plain": [
       "collection_id         -0.118710\n",
       "total_supply          -0.081918\n",
       "n_of_traits           -0.107547\n",
       "seller_fees           -0.217513\n",
       "platform_fees               NaN\n",
       "openrarity_enabled    -0.018842\n",
       "has_website                 NaN\n",
       "has_own_twitter             NaN\n",
       "has_discord            0.108122\n",
       "has_medium            -0.033832\n",
       "n_tweets_in_range     -0.033210\n",
       "avg_likes              0.044742\n",
       "avg_replies            0.001231\n",
       "avg_retweets           0.131632\n",
       "min_likes              0.021865\n",
       "min_replies            0.052180\n",
       "min_retweets           0.267012\n",
       "max_likes              0.014106\n",
       "max_replies           -0.012231\n",
       "max_retweets           0.081139\n",
       "global_index          -0.096667\n",
       "nft_id                -0.055394\n",
       "rarity_score          -0.046505\n",
       "openrarity_score      -0.013778\n",
       "openrarity_rank       -0.026534\n",
       "openrarity_max_rank   -0.025981\n",
       "last_sale_price        1.000000\n",
       "Name: last_sale_price, dtype: float64"
      ]
     },
     "execution_count": 703,
     "metadata": {},
     "output_type": "execute_result"
    }
   ],
   "source": [
    "train_with_collection.corr()[\"last_sale_price\"]"
   ]
  },
  {
   "cell_type": "code",
   "execution_count": null,
   "id": "54afe064",
   "metadata": {},
   "outputs": [],
   "source": [
    "for i in Intcolumns:\n",
    "#     print(i)\n",
    "    \n",
    "    ul=train_with_collection[i].quantile(0.99)\n",
    "    ll=train_with_collection[i].quantile(0.01)\n",
    "    train_with_collection[i]=np.where(train_with_collection[i]>=ul,ul,np.where(train_with_collection[i]<=ll,ll,train_with_collection[i]))\n",
    "    "
   ]
  },
  {
   "cell_type": "code",
   "execution_count": 206,
   "id": "3239bae2",
   "metadata": {},
   "outputs": [],
   "source": [
    "i=\"openrarity_rank\"\n",
    "ll25=train_with_collection[i].quantile(0.25)\n",
    "ul75=train_with_collection[i].quantile(0.75)\n",
    "iqr=ul75-ll25\n",
    "ul=ul75+(1.5*iqr)\n",
    "ll=ll25-(1.5*iqr)\n",
    "train_with_collection[i]=np.where(train_with_collection[i]>=ul,ul,np.where(train_with_collection[i]<=ll,ll,train_with_collection[i]))"
   ]
  },
  {
   "cell_type": "code",
   "execution_count": 207,
   "id": "09a324de",
   "metadata": {},
   "outputs": [
    {
     "data": {
      "text/plain": [
       "count    3.099100e+05\n",
       "mean     5.630165e+03\n",
       "std      1.509855e-08\n",
       "min      5.630165e+03\n",
       "25%      5.630165e+03\n",
       "50%      5.630165e+03\n",
       "75%      5.630165e+03\n",
       "max      5.630165e+03\n",
       "Name: openrarity_rank, dtype: float64"
      ]
     },
     "execution_count": 207,
     "metadata": {},
     "output_type": "execute_result"
    }
   ],
   "source": [
    "train_with_collection.describe()[\"openrarity_rank\"]"
   ]
  },
  {
   "cell_type": "code",
   "execution_count": 194,
   "id": "62a5da94",
   "metadata": {},
   "outputs": [
    {
     "data": {
      "text/plain": [
       "320.0"
      ]
     },
     "execution_count": 194,
     "metadata": {},
     "output_type": "execute_result"
    }
   ],
   "source": [
    "ul"
   ]
  },
  {
   "cell_type": "code",
   "execution_count": 270,
   "id": "85ed8e25",
   "metadata": {},
   "outputs": [],
   "source": [
    "boolcolumn=train_with_collection.select_dtypes(exclude = ['object',\"int64\",\"float64\"])"
   ]
  },
  {
   "cell_type": "code",
   "execution_count": 282,
   "id": "109d3f82",
   "metadata": {},
   "outputs": [],
   "source": [
    "bool1=[i for i in boolcolumn.columns]"
   ]
  },
  {
   "cell_type": "code",
   "execution_count": 283,
   "id": "749a643c",
   "metadata": {},
   "outputs": [
    {
     "data": {
      "text/plain": [
       "['openrarity_enabled',\n",
       " 'has_website',\n",
       " 'has_own_twitter',\n",
       " 'has_discord',\n",
       " 'has_medium']"
      ]
     },
     "execution_count": 283,
     "metadata": {},
     "output_type": "execute_result"
    }
   ],
   "source": [
    "bool1"
   ]
  },
  {
   "cell_type": "code",
   "execution_count": 286,
   "id": "0249ee5a",
   "metadata": {},
   "outputs": [],
   "source": [
    "for i in bool1:\n",
    "    train_with_collection[i]=np.where(train_with_collection[i].values==True,1,np.where(train_with_collection[i].values==False,0,train_with_collection[i]))\n",
    "    "
   ]
  },
  {
   "cell_type": "code",
   "execution_count": 287,
   "id": "bdc53aa9",
   "metadata": {},
   "outputs": [
    {
     "data": {
      "text/html": [
       "<div>\n",
       "<style scoped>\n",
       "    .dataframe tbody tr th:only-of-type {\n",
       "        vertical-align: middle;\n",
       "    }\n",
       "\n",
       "    .dataframe tbody tr th {\n",
       "        vertical-align: top;\n",
       "    }\n",
       "\n",
       "    .dataframe thead th {\n",
       "        text-align: right;\n",
       "    }\n",
       "</style>\n",
       "<table border=\"1\" class=\"dataframe\">\n",
       "  <thead>\n",
       "    <tr style=\"text-align: right;\">\n",
       "      <th></th>\n",
       "      <th>collection_id</th>\n",
       "      <th>total_supply</th>\n",
       "      <th>creation_date</th>\n",
       "      <th>verification_status</th>\n",
       "      <th>n_of_traits</th>\n",
       "      <th>contract_type</th>\n",
       "      <th>seller_fees</th>\n",
       "      <th>platform_fees</th>\n",
       "      <th>openrarity_enabled</th>\n",
       "      <th>has_website</th>\n",
       "      <th>...</th>\n",
       "      <th>max_replies</th>\n",
       "      <th>max_retweets</th>\n",
       "      <th>global_index</th>\n",
       "      <th>nft_id</th>\n",
       "      <th>rarity_score</th>\n",
       "      <th>openrarity_score</th>\n",
       "      <th>openrarity_rank</th>\n",
       "      <th>openrarity_max_rank</th>\n",
       "      <th>last_sale_date</th>\n",
       "      <th>last_sale_price</th>\n",
       "    </tr>\n",
       "  </thead>\n",
       "  <tbody>\n",
       "    <tr>\n",
       "      <th>0</th>\n",
       "      <td>19</td>\n",
       "      <td>1000</td>\n",
       "      <td>2021-04</td>\n",
       "      <td>verified</td>\n",
       "      <td>4</td>\n",
       "      <td>own</td>\n",
       "      <td>500.0</td>\n",
       "      <td>250</td>\n",
       "      <td>0</td>\n",
       "      <td>0</td>\n",
       "      <td>...</td>\n",
       "      <td>30</td>\n",
       "      <td>258</td>\n",
       "      <td>322076</td>\n",
       "      <td>0</td>\n",
       "      <td>48.156807</td>\n",
       "      <td>0.978289</td>\n",
       "      <td>5630.164737</td>\n",
       "      <td>11255.829672</td>\n",
       "      <td>2022-11</td>\n",
       "      <td>12.508229</td>\n",
       "    </tr>\n",
       "    <tr>\n",
       "      <th>1</th>\n",
       "      <td>19</td>\n",
       "      <td>1000</td>\n",
       "      <td>2021-04</td>\n",
       "      <td>verified</td>\n",
       "      <td>4</td>\n",
       "      <td>own</td>\n",
       "      <td>500.0</td>\n",
       "      <td>250</td>\n",
       "      <td>0</td>\n",
       "      <td>0</td>\n",
       "      <td>...</td>\n",
       "      <td>30</td>\n",
       "      <td>258</td>\n",
       "      <td>322077</td>\n",
       "      <td>1</td>\n",
       "      <td>82.404768</td>\n",
       "      <td>0.978289</td>\n",
       "      <td>5630.164737</td>\n",
       "      <td>11255.829672</td>\n",
       "      <td>2022-11</td>\n",
       "      <td>0.000800</td>\n",
       "    </tr>\n",
       "    <tr>\n",
       "      <th>2</th>\n",
       "      <td>19</td>\n",
       "      <td>1000</td>\n",
       "      <td>2021-04</td>\n",
       "      <td>verified</td>\n",
       "      <td>4</td>\n",
       "      <td>own</td>\n",
       "      <td>500.0</td>\n",
       "      <td>250</td>\n",
       "      <td>0</td>\n",
       "      <td>0</td>\n",
       "      <td>...</td>\n",
       "      <td>30</td>\n",
       "      <td>258</td>\n",
       "      <td>322078</td>\n",
       "      <td>2</td>\n",
       "      <td>30.983457</td>\n",
       "      <td>0.978289</td>\n",
       "      <td>5630.164737</td>\n",
       "      <td>11255.829672</td>\n",
       "      <td>2022-11</td>\n",
       "      <td>0.002823</td>\n",
       "    </tr>\n",
       "    <tr>\n",
       "      <th>3</th>\n",
       "      <td>19</td>\n",
       "      <td>1000</td>\n",
       "      <td>2021-04</td>\n",
       "      <td>verified</td>\n",
       "      <td>4</td>\n",
       "      <td>own</td>\n",
       "      <td>500.0</td>\n",
       "      <td>250</td>\n",
       "      <td>0</td>\n",
       "      <td>0</td>\n",
       "      <td>...</td>\n",
       "      <td>30</td>\n",
       "      <td>258</td>\n",
       "      <td>322079</td>\n",
       "      <td>3</td>\n",
       "      <td>62.799472</td>\n",
       "      <td>0.978289</td>\n",
       "      <td>5630.164737</td>\n",
       "      <td>11255.829672</td>\n",
       "      <td>2021-11</td>\n",
       "      <td>85.009723</td>\n",
       "    </tr>\n",
       "    <tr>\n",
       "      <th>4</th>\n",
       "      <td>19</td>\n",
       "      <td>1000</td>\n",
       "      <td>2021-04</td>\n",
       "      <td>verified</td>\n",
       "      <td>4</td>\n",
       "      <td>own</td>\n",
       "      <td>500.0</td>\n",
       "      <td>250</td>\n",
       "      <td>0</td>\n",
       "      <td>0</td>\n",
       "      <td>...</td>\n",
       "      <td>30</td>\n",
       "      <td>258</td>\n",
       "      <td>322080</td>\n",
       "      <td>4</td>\n",
       "      <td>45.523411</td>\n",
       "      <td>0.978289</td>\n",
       "      <td>5630.164737</td>\n",
       "      <td>11255.829672</td>\n",
       "      <td>2021-11</td>\n",
       "      <td>0.009392</td>\n",
       "    </tr>\n",
       "    <tr>\n",
       "      <th>...</th>\n",
       "      <td>...</td>\n",
       "      <td>...</td>\n",
       "      <td>...</td>\n",
       "      <td>...</td>\n",
       "      <td>...</td>\n",
       "      <td>...</td>\n",
       "      <td>...</td>\n",
       "      <td>...</td>\n",
       "      <td>...</td>\n",
       "      <td>...</td>\n",
       "      <td>...</td>\n",
       "      <td>...</td>\n",
       "      <td>...</td>\n",
       "      <td>...</td>\n",
       "      <td>...</td>\n",
       "      <td>...</td>\n",
       "      <td>...</td>\n",
       "      <td>...</td>\n",
       "      <td>...</td>\n",
       "      <td>...</td>\n",
       "      <td>...</td>\n",
       "    </tr>\n",
       "    <tr>\n",
       "      <th>309905</th>\n",
       "      <td>0</td>\n",
       "      <td>6501</td>\n",
       "      <td>2022-04</td>\n",
       "      <td>verified</td>\n",
       "      <td>31</td>\n",
       "      <td>own</td>\n",
       "      <td>500.0</td>\n",
       "      <td>250</td>\n",
       "      <td>0</td>\n",
       "      <td>0</td>\n",
       "      <td>...</td>\n",
       "      <td>14</td>\n",
       "      <td>76</td>\n",
       "      <td>63025</td>\n",
       "      <td>6496</td>\n",
       "      <td>701.371138</td>\n",
       "      <td>0.978289</td>\n",
       "      <td>5630.164737</td>\n",
       "      <td>11255.829672</td>\n",
       "      <td>2022-08</td>\n",
       "      <td>0.000362</td>\n",
       "    </tr>\n",
       "    <tr>\n",
       "      <th>309906</th>\n",
       "      <td>0</td>\n",
       "      <td>6501</td>\n",
       "      <td>2022-04</td>\n",
       "      <td>verified</td>\n",
       "      <td>31</td>\n",
       "      <td>own</td>\n",
       "      <td>500.0</td>\n",
       "      <td>250</td>\n",
       "      <td>0</td>\n",
       "      <td>0</td>\n",
       "      <td>...</td>\n",
       "      <td>14</td>\n",
       "      <td>76</td>\n",
       "      <td>63026</td>\n",
       "      <td>6497</td>\n",
       "      <td>346.851413</td>\n",
       "      <td>0.978289</td>\n",
       "      <td>5630.164737</td>\n",
       "      <td>11255.829672</td>\n",
       "      <td>2022-08</td>\n",
       "      <td>0.002101</td>\n",
       "    </tr>\n",
       "    <tr>\n",
       "      <th>309907</th>\n",
       "      <td>0</td>\n",
       "      <td>6501</td>\n",
       "      <td>2022-04</td>\n",
       "      <td>verified</td>\n",
       "      <td>31</td>\n",
       "      <td>own</td>\n",
       "      <td>500.0</td>\n",
       "      <td>250</td>\n",
       "      <td>0</td>\n",
       "      <td>0</td>\n",
       "      <td>...</td>\n",
       "      <td>14</td>\n",
       "      <td>76</td>\n",
       "      <td>63027</td>\n",
       "      <td>6498</td>\n",
       "      <td>302.000756</td>\n",
       "      <td>0.978289</td>\n",
       "      <td>5630.164737</td>\n",
       "      <td>11255.829672</td>\n",
       "      <td>2022-08</td>\n",
       "      <td>0.005883</td>\n",
       "    </tr>\n",
       "    <tr>\n",
       "      <th>309908</th>\n",
       "      <td>0</td>\n",
       "      <td>6501</td>\n",
       "      <td>2022-04</td>\n",
       "      <td>verified</td>\n",
       "      <td>31</td>\n",
       "      <td>own</td>\n",
       "      <td>500.0</td>\n",
       "      <td>250</td>\n",
       "      <td>0</td>\n",
       "      <td>0</td>\n",
       "      <td>...</td>\n",
       "      <td>14</td>\n",
       "      <td>76</td>\n",
       "      <td>63028</td>\n",
       "      <td>6499</td>\n",
       "      <td>276.210173</td>\n",
       "      <td>0.978289</td>\n",
       "      <td>5630.164737</td>\n",
       "      <td>11255.829672</td>\n",
       "      <td>2022-08</td>\n",
       "      <td>0.009228</td>\n",
       "    </tr>\n",
       "    <tr>\n",
       "      <th>309909</th>\n",
       "      <td>0</td>\n",
       "      <td>6501</td>\n",
       "      <td>2022-04</td>\n",
       "      <td>verified</td>\n",
       "      <td>31</td>\n",
       "      <td>own</td>\n",
       "      <td>500.0</td>\n",
       "      <td>250</td>\n",
       "      <td>0</td>\n",
       "      <td>0</td>\n",
       "      <td>...</td>\n",
       "      <td>14</td>\n",
       "      <td>76</td>\n",
       "      <td>63029</td>\n",
       "      <td>6500</td>\n",
       "      <td>216.644177</td>\n",
       "      <td>0.978289</td>\n",
       "      <td>5630.164737</td>\n",
       "      <td>11255.829672</td>\n",
       "      <td>2022-08</td>\n",
       "      <td>0.000699</td>\n",
       "    </tr>\n",
       "  </tbody>\n",
       "</table>\n",
       "<p>309910 rows × 31 columns</p>\n",
       "</div>"
      ],
      "text/plain": [
       "        collection_id  total_supply creation_date verification_status  \\\n",
       "0                  19          1000       2021-04            verified   \n",
       "1                  19          1000       2021-04            verified   \n",
       "2                  19          1000       2021-04            verified   \n",
       "3                  19          1000       2021-04            verified   \n",
       "4                  19          1000       2021-04            verified   \n",
       "...               ...           ...           ...                 ...   \n",
       "309905              0          6501       2022-04            verified   \n",
       "309906              0          6501       2022-04            verified   \n",
       "309907              0          6501       2022-04            verified   \n",
       "309908              0          6501       2022-04            verified   \n",
       "309909              0          6501       2022-04            verified   \n",
       "\n",
       "        n_of_traits contract_type  seller_fees  platform_fees  \\\n",
       "0                 4           own        500.0            250   \n",
       "1                 4           own        500.0            250   \n",
       "2                 4           own        500.0            250   \n",
       "3                 4           own        500.0            250   \n",
       "4                 4           own        500.0            250   \n",
       "...             ...           ...          ...            ...   \n",
       "309905           31           own        500.0            250   \n",
       "309906           31           own        500.0            250   \n",
       "309907           31           own        500.0            250   \n",
       "309908           31           own        500.0            250   \n",
       "309909           31           own        500.0            250   \n",
       "\n",
       "        openrarity_enabled  has_website  ...  max_replies  max_retweets  \\\n",
       "0                        0            0  ...           30           258   \n",
       "1                        0            0  ...           30           258   \n",
       "2                        0            0  ...           30           258   \n",
       "3                        0            0  ...           30           258   \n",
       "4                        0            0  ...           30           258   \n",
       "...                    ...          ...  ...          ...           ...   \n",
       "309905                   0            0  ...           14            76   \n",
       "309906                   0            0  ...           14            76   \n",
       "309907                   0            0  ...           14            76   \n",
       "309908                   0            0  ...           14            76   \n",
       "309909                   0            0  ...           14            76   \n",
       "\n",
       "        global_index  nft_id  rarity_score  openrarity_score  openrarity_rank  \\\n",
       "0             322076       0     48.156807          0.978289      5630.164737   \n",
       "1             322077       1     82.404768          0.978289      5630.164737   \n",
       "2             322078       2     30.983457          0.978289      5630.164737   \n",
       "3             322079       3     62.799472          0.978289      5630.164737   \n",
       "4             322080       4     45.523411          0.978289      5630.164737   \n",
       "...              ...     ...           ...               ...              ...   \n",
       "309905         63025    6496    701.371138          0.978289      5630.164737   \n",
       "309906         63026    6497    346.851413          0.978289      5630.164737   \n",
       "309907         63027    6498    302.000756          0.978289      5630.164737   \n",
       "309908         63028    6499    276.210173          0.978289      5630.164737   \n",
       "309909         63029    6500    216.644177          0.978289      5630.164737   \n",
       "\n",
       "        openrarity_max_rank  last_sale_date  last_sale_price  \n",
       "0              11255.829672         2022-11        12.508229  \n",
       "1              11255.829672         2022-11         0.000800  \n",
       "2              11255.829672         2022-11         0.002823  \n",
       "3              11255.829672         2021-11        85.009723  \n",
       "4              11255.829672         2021-11         0.009392  \n",
       "...                     ...             ...              ...  \n",
       "309905         11255.829672         2022-08         0.000362  \n",
       "309906         11255.829672         2022-08         0.002101  \n",
       "309907         11255.829672         2022-08         0.005883  \n",
       "309908         11255.829672         2022-08         0.009228  \n",
       "309909         11255.829672         2022-08         0.000699  \n",
       "\n",
       "[309910 rows x 31 columns]"
      ]
     },
     "execution_count": 287,
     "metadata": {},
     "output_type": "execute_result"
    }
   ],
   "source": [
    "train_with_collection"
   ]
  },
  {
   "cell_type": "code",
   "execution_count": 288,
   "id": "cb1178a7",
   "metadata": {},
   "outputs": [
    {
     "data": {
      "text/html": [
       "<div>\n",
       "<style scoped>\n",
       "    .dataframe tbody tr th:only-of-type {\n",
       "        vertical-align: middle;\n",
       "    }\n",
       "\n",
       "    .dataframe tbody tr th {\n",
       "        vertical-align: top;\n",
       "    }\n",
       "\n",
       "    .dataframe thead th {\n",
       "        text-align: right;\n",
       "    }\n",
       "</style>\n",
       "<table border=\"1\" class=\"dataframe\">\n",
       "  <thead>\n",
       "    <tr style=\"text-align: right;\">\n",
       "      <th></th>\n",
       "      <th>collection_id</th>\n",
       "      <th>total_supply</th>\n",
       "      <th>n_of_traits</th>\n",
       "      <th>seller_fees</th>\n",
       "      <th>platform_fees</th>\n",
       "      <th>openrarity_enabled</th>\n",
       "      <th>has_website</th>\n",
       "      <th>has_own_twitter</th>\n",
       "      <th>has_discord</th>\n",
       "      <th>has_medium</th>\n",
       "      <th>...</th>\n",
       "      <th>max_likes</th>\n",
       "      <th>max_replies</th>\n",
       "      <th>max_retweets</th>\n",
       "      <th>global_index</th>\n",
       "      <th>nft_id</th>\n",
       "      <th>rarity_score</th>\n",
       "      <th>openrarity_score</th>\n",
       "      <th>openrarity_rank</th>\n",
       "      <th>openrarity_max_rank</th>\n",
       "      <th>last_sale_price</th>\n",
       "    </tr>\n",
       "  </thead>\n",
       "  <tbody>\n",
       "    <tr>\n",
       "      <th>count</th>\n",
       "      <td>309910.000000</td>\n",
       "      <td>309910.000000</td>\n",
       "      <td>309910.000000</td>\n",
       "      <td>309910.000000</td>\n",
       "      <td>309910.0</td>\n",
       "      <td>309910.000000</td>\n",
       "      <td>309910.0</td>\n",
       "      <td>309910.0</td>\n",
       "      <td>309910.000000</td>\n",
       "      <td>309910.000000</td>\n",
       "      <td>...</td>\n",
       "      <td>309910.000000</td>\n",
       "      <td>309910.000000</td>\n",
       "      <td>309910.000000</td>\n",
       "      <td>309910.000000</td>\n",
       "      <td>309910.000000</td>\n",
       "      <td>309910.000000</td>\n",
       "      <td>309910.000000</td>\n",
       "      <td>309910.000000</td>\n",
       "      <td>309910.000000</td>\n",
       "      <td>3.099100e+05</td>\n",
       "    </tr>\n",
       "    <tr>\n",
       "      <th>mean</th>\n",
       "      <td>30.507160</td>\n",
       "      <td>13402.176838</td>\n",
       "      <td>10.557885</td>\n",
       "      <td>699.754284</td>\n",
       "      <td>250.0</td>\n",
       "      <td>0.259688</td>\n",
       "      <td>0.0</td>\n",
       "      <td>1.0</td>\n",
       "      <td>0.709942</td>\n",
       "      <td>0.100381</td>\n",
       "      <td>...</td>\n",
       "      <td>304.933981</td>\n",
       "      <td>107.703885</td>\n",
       "      <td>190.700142</td>\n",
       "      <td>317003.207947</td>\n",
       "      <td>6738.162024</td>\n",
       "      <td>1437.092531</td>\n",
       "      <td>0.983927</td>\n",
       "      <td>5630.164737</td>\n",
       "      <td>11255.829672</td>\n",
       "      <td>2.162269e+00</td>\n",
       "    </tr>\n",
       "    <tr>\n",
       "      <th>std</th>\n",
       "      <td>18.331668</td>\n",
       "      <td>7915.325634</td>\n",
       "      <td>4.878024</td>\n",
       "      <td>249.914130</td>\n",
       "      <td>0.0</td>\n",
       "      <td>0.438464</td>\n",
       "      <td>0.0</td>\n",
       "      <td>0.0</td>\n",
       "      <td>0.453790</td>\n",
       "      <td>0.300507</td>\n",
       "      <td>...</td>\n",
       "      <td>898.138000</td>\n",
       "      <td>445.353597</td>\n",
       "      <td>523.418690</td>\n",
       "      <td>173138.765569</td>\n",
       "      <td>5977.542096</td>\n",
       "      <td>4303.585892</td>\n",
       "      <td>0.078458</td>\n",
       "      <td>1942.636517</td>\n",
       "      <td>1759.481774</td>\n",
       "      <td>1.275132e+01</td>\n",
       "    </tr>\n",
       "    <tr>\n",
       "      <th>min</th>\n",
       "      <td>0.000000</td>\n",
       "      <td>1.000000</td>\n",
       "      <td>1.000000</td>\n",
       "      <td>250.000000</td>\n",
       "      <td>250.0</td>\n",
       "      <td>0.000000</td>\n",
       "      <td>0.0</td>\n",
       "      <td>1.0</td>\n",
       "      <td>0.000000</td>\n",
       "      <td>0.000000</td>\n",
       "      <td>...</td>\n",
       "      <td>0.000000</td>\n",
       "      <td>0.000000</td>\n",
       "      <td>0.000000</td>\n",
       "      <td>21928.000000</td>\n",
       "      <td>0.000000</td>\n",
       "      <td>1.000000</td>\n",
       "      <td>0.626738</td>\n",
       "      <td>1.000000</td>\n",
       "      <td>5555.000000</td>\n",
       "      <td>6.485360e-08</td>\n",
       "    </tr>\n",
       "    <tr>\n",
       "      <th>25%</th>\n",
       "      <td>13.000000</td>\n",
       "      <td>8888.000000</td>\n",
       "      <td>8.000000</td>\n",
       "      <td>500.000000</td>\n",
       "      <td>250.0</td>\n",
       "      <td>0.000000</td>\n",
       "      <td>0.0</td>\n",
       "      <td>1.0</td>\n",
       "      <td>0.000000</td>\n",
       "      <td>0.000000</td>\n",
       "      <td>...</td>\n",
       "      <td>5.000000</td>\n",
       "      <td>1.000000</td>\n",
       "      <td>5.000000</td>\n",
       "      <td>174892.250000</td>\n",
       "      <td>2453.000000</td>\n",
       "      <td>106.587184</td>\n",
       "      <td>0.978289</td>\n",
       "      <td>5630.164737</td>\n",
       "      <td>11255.829672</td>\n",
       "      <td>4.077085e-03</td>\n",
       "    </tr>\n",
       "    <tr>\n",
       "      <th>50%</th>\n",
       "      <td>34.000000</td>\n",
       "      <td>9999.000000</td>\n",
       "      <td>10.000000</td>\n",
       "      <td>750.000000</td>\n",
       "      <td>250.0</td>\n",
       "      <td>0.000000</td>\n",
       "      <td>0.0</td>\n",
       "      <td>1.0</td>\n",
       "      <td>1.000000</td>\n",
       "      <td>0.000000</td>\n",
       "      <td>...</td>\n",
       "      <td>30.000000</td>\n",
       "      <td>7.000000</td>\n",
       "      <td>34.000000</td>\n",
       "      <td>341467.500000</td>\n",
       "      <td>5138.000000</td>\n",
       "      <td>170.797030</td>\n",
       "      <td>0.978289</td>\n",
       "      <td>5630.164737</td>\n",
       "      <td>11255.829672</td>\n",
       "      <td>8.103344e-03</td>\n",
       "    </tr>\n",
       "    <tr>\n",
       "      <th>75%</th>\n",
       "      <td>46.000000</td>\n",
       "      <td>15000.000000</td>\n",
       "      <td>12.000000</td>\n",
       "      <td>900.000000</td>\n",
       "      <td>250.0</td>\n",
       "      <td>1.000000</td>\n",
       "      <td>0.0</td>\n",
       "      <td>1.0</td>\n",
       "      <td>1.000000</td>\n",
       "      <td>0.000000</td>\n",
       "      <td>...</td>\n",
       "      <td>202.000000</td>\n",
       "      <td>47.000000</td>\n",
       "      <td>131.000000</td>\n",
       "      <td>493626.750000</td>\n",
       "      <td>8720.750000</td>\n",
       "      <td>289.614129</td>\n",
       "      <td>0.978289</td>\n",
       "      <td>5630.164737</td>\n",
       "      <td>11255.829672</td>\n",
       "      <td>3.252062e-01</td>\n",
       "    </tr>\n",
       "    <tr>\n",
       "      <th>max</th>\n",
       "      <td>60.000000</td>\n",
       "      <td>29899.000000</td>\n",
       "      <td>31.000000</td>\n",
       "      <td>1000.000000</td>\n",
       "      <td>250.0</td>\n",
       "      <td>1.000000</td>\n",
       "      <td>0.0</td>\n",
       "      <td>1.0</td>\n",
       "      <td>1.000000</td>\n",
       "      <td>1.000000</td>\n",
       "      <td>...</td>\n",
       "      <td>5079.000000</td>\n",
       "      <td>2601.000000</td>\n",
       "      <td>2990.000000</td>\n",
       "      <td>590227.000000</td>\n",
       "      <td>29898.000000</td>\n",
       "      <td>90354.072248</td>\n",
       "      <td>3.663833</td>\n",
       "      <td>15555.000000</td>\n",
       "      <td>15555.000000</td>\n",
       "      <td>1.024002e+03</td>\n",
       "    </tr>\n",
       "  </tbody>\n",
       "</table>\n",
       "<p>8 rows × 27 columns</p>\n",
       "</div>"
      ],
      "text/plain": [
       "       collection_id   total_supply    n_of_traits    seller_fees  \\\n",
       "count  309910.000000  309910.000000  309910.000000  309910.000000   \n",
       "mean       30.507160   13402.176838      10.557885     699.754284   \n",
       "std        18.331668    7915.325634       4.878024     249.914130   \n",
       "min         0.000000       1.000000       1.000000     250.000000   \n",
       "25%        13.000000    8888.000000       8.000000     500.000000   \n",
       "50%        34.000000    9999.000000      10.000000     750.000000   \n",
       "75%        46.000000   15000.000000      12.000000     900.000000   \n",
       "max        60.000000   29899.000000      31.000000    1000.000000   \n",
       "\n",
       "       platform_fees  openrarity_enabled  has_website  has_own_twitter  \\\n",
       "count       309910.0       309910.000000     309910.0         309910.0   \n",
       "mean           250.0            0.259688          0.0              1.0   \n",
       "std              0.0            0.438464          0.0              0.0   \n",
       "min            250.0            0.000000          0.0              1.0   \n",
       "25%            250.0            0.000000          0.0              1.0   \n",
       "50%            250.0            0.000000          0.0              1.0   \n",
       "75%            250.0            1.000000          0.0              1.0   \n",
       "max            250.0            1.000000          0.0              1.0   \n",
       "\n",
       "         has_discord     has_medium  ...      max_likes    max_replies  \\\n",
       "count  309910.000000  309910.000000  ...  309910.000000  309910.000000   \n",
       "mean        0.709942       0.100381  ...     304.933981     107.703885   \n",
       "std         0.453790       0.300507  ...     898.138000     445.353597   \n",
       "min         0.000000       0.000000  ...       0.000000       0.000000   \n",
       "25%         0.000000       0.000000  ...       5.000000       1.000000   \n",
       "50%         1.000000       0.000000  ...      30.000000       7.000000   \n",
       "75%         1.000000       0.000000  ...     202.000000      47.000000   \n",
       "max         1.000000       1.000000  ...    5079.000000    2601.000000   \n",
       "\n",
       "        max_retweets   global_index         nft_id   rarity_score  \\\n",
       "count  309910.000000  309910.000000  309910.000000  309910.000000   \n",
       "mean      190.700142  317003.207947    6738.162024    1437.092531   \n",
       "std       523.418690  173138.765569    5977.542096    4303.585892   \n",
       "min         0.000000   21928.000000       0.000000       1.000000   \n",
       "25%         5.000000  174892.250000    2453.000000     106.587184   \n",
       "50%        34.000000  341467.500000    5138.000000     170.797030   \n",
       "75%       131.000000  493626.750000    8720.750000     289.614129   \n",
       "max      2990.000000  590227.000000   29898.000000   90354.072248   \n",
       "\n",
       "       openrarity_score  openrarity_rank  openrarity_max_rank  last_sale_price  \n",
       "count     309910.000000    309910.000000        309910.000000     3.099100e+05  \n",
       "mean           0.983927      5630.164737         11255.829672     2.162269e+00  \n",
       "std            0.078458      1942.636517          1759.481774     1.275132e+01  \n",
       "min            0.626738         1.000000          5555.000000     6.485360e-08  \n",
       "25%            0.978289      5630.164737         11255.829672     4.077085e-03  \n",
       "50%            0.978289      5630.164737         11255.829672     8.103344e-03  \n",
       "75%            0.978289      5630.164737         11255.829672     3.252062e-01  \n",
       "max            3.663833     15555.000000         15555.000000     1.024002e+03  \n",
       "\n",
       "[8 rows x 27 columns]"
      ]
     },
     "execution_count": 288,
     "metadata": {},
     "output_type": "execute_result"
    }
   ],
   "source": [
    "train_with_collection.describe()"
   ]
  },
  {
   "cell_type": "code",
   "execution_count": 290,
   "id": "1f539fb1",
   "metadata": {},
   "outputs": [
    {
     "data": {
      "text/plain": [
       "collection_id         -0.118710\n",
       "total_supply          -0.081918\n",
       "n_of_traits           -0.107547\n",
       "seller_fees           -0.217513\n",
       "platform_fees               NaN\n",
       "openrarity_enabled    -0.018842\n",
       "has_website                 NaN\n",
       "has_own_twitter             NaN\n",
       "has_discord            0.108122\n",
       "has_medium            -0.033832\n",
       "n_tweets_in_range     -0.033210\n",
       "avg_likes              0.044742\n",
       "avg_replies            0.001231\n",
       "avg_retweets           0.131632\n",
       "min_likes              0.021865\n",
       "min_replies            0.052180\n",
       "min_retweets           0.267012\n",
       "max_likes              0.014106\n",
       "max_replies           -0.012231\n",
       "max_retweets           0.081139\n",
       "global_index          -0.096667\n",
       "nft_id                -0.055394\n",
       "rarity_score          -0.046505\n",
       "openrarity_score       0.024804\n",
       "openrarity_rank       -0.018963\n",
       "openrarity_max_rank   -0.024517\n",
       "last_sale_price        1.000000\n",
       "Name: last_sale_price, dtype: float64"
      ]
     },
     "execution_count": 290,
     "metadata": {},
     "output_type": "execute_result"
    }
   ],
   "source": [
    "train_with_collection.corr()[\"last_sale_price\"]"
   ]
  },
  {
   "cell_type": "code",
   "execution_count": 321,
   "id": "ca991026",
   "metadata": {},
   "outputs": [
    {
     "data": {
      "text/html": [
       "<div>\n",
       "<style scoped>\n",
       "    .dataframe tbody tr th:only-of-type {\n",
       "        vertical-align: middle;\n",
       "    }\n",
       "\n",
       "    .dataframe tbody tr th {\n",
       "        vertical-align: top;\n",
       "    }\n",
       "\n",
       "    .dataframe thead th {\n",
       "        text-align: right;\n",
       "    }\n",
       "</style>\n",
       "<table border=\"1\" class=\"dataframe\">\n",
       "  <thead>\n",
       "    <tr style=\"text-align: right;\">\n",
       "      <th></th>\n",
       "      <th>collection_id</th>\n",
       "      <th>total_supply</th>\n",
       "      <th>n_of_traits</th>\n",
       "      <th>seller_fees</th>\n",
       "      <th>platform_fees</th>\n",
       "      <th>openrarity_enabled</th>\n",
       "      <th>has_website</th>\n",
       "      <th>has_own_twitter</th>\n",
       "      <th>has_discord</th>\n",
       "      <th>has_medium</th>\n",
       "      <th>...</th>\n",
       "      <th>max_likes</th>\n",
       "      <th>max_replies</th>\n",
       "      <th>max_retweets</th>\n",
       "      <th>global_index</th>\n",
       "      <th>nft_id</th>\n",
       "      <th>rarity_score</th>\n",
       "      <th>openrarity_score</th>\n",
       "      <th>openrarity_rank</th>\n",
       "      <th>openrarity_max_rank</th>\n",
       "      <th>last_sale_price</th>\n",
       "    </tr>\n",
       "  </thead>\n",
       "  <tbody>\n",
       "    <tr>\n",
       "      <th>0</th>\n",
       "      <td>19</td>\n",
       "      <td>1000</td>\n",
       "      <td>4</td>\n",
       "      <td>500.0</td>\n",
       "      <td>250</td>\n",
       "      <td>0</td>\n",
       "      <td>0</td>\n",
       "      <td>1</td>\n",
       "      <td>1</td>\n",
       "      <td>1</td>\n",
       "      <td>...</td>\n",
       "      <td>239</td>\n",
       "      <td>30</td>\n",
       "      <td>258</td>\n",
       "      <td>322076</td>\n",
       "      <td>0</td>\n",
       "      <td>48.156807</td>\n",
       "      <td>0.978289</td>\n",
       "      <td>5630.164737</td>\n",
       "      <td>11255.829672</td>\n",
       "      <td>12.508229</td>\n",
       "    </tr>\n",
       "    <tr>\n",
       "      <th>1</th>\n",
       "      <td>19</td>\n",
       "      <td>1000</td>\n",
       "      <td>4</td>\n",
       "      <td>500.0</td>\n",
       "      <td>250</td>\n",
       "      <td>0</td>\n",
       "      <td>0</td>\n",
       "      <td>1</td>\n",
       "      <td>1</td>\n",
       "      <td>1</td>\n",
       "      <td>...</td>\n",
       "      <td>239</td>\n",
       "      <td>30</td>\n",
       "      <td>258</td>\n",
       "      <td>322077</td>\n",
       "      <td>1</td>\n",
       "      <td>82.404768</td>\n",
       "      <td>0.978289</td>\n",
       "      <td>5630.164737</td>\n",
       "      <td>11255.829672</td>\n",
       "      <td>0.000800</td>\n",
       "    </tr>\n",
       "    <tr>\n",
       "      <th>2</th>\n",
       "      <td>19</td>\n",
       "      <td>1000</td>\n",
       "      <td>4</td>\n",
       "      <td>500.0</td>\n",
       "      <td>250</td>\n",
       "      <td>0</td>\n",
       "      <td>0</td>\n",
       "      <td>1</td>\n",
       "      <td>1</td>\n",
       "      <td>1</td>\n",
       "      <td>...</td>\n",
       "      <td>239</td>\n",
       "      <td>30</td>\n",
       "      <td>258</td>\n",
       "      <td>322078</td>\n",
       "      <td>2</td>\n",
       "      <td>30.983457</td>\n",
       "      <td>0.978289</td>\n",
       "      <td>5630.164737</td>\n",
       "      <td>11255.829672</td>\n",
       "      <td>0.002823</td>\n",
       "    </tr>\n",
       "    <tr>\n",
       "      <th>3</th>\n",
       "      <td>19</td>\n",
       "      <td>1000</td>\n",
       "      <td>4</td>\n",
       "      <td>500.0</td>\n",
       "      <td>250</td>\n",
       "      <td>0</td>\n",
       "      <td>0</td>\n",
       "      <td>1</td>\n",
       "      <td>1</td>\n",
       "      <td>1</td>\n",
       "      <td>...</td>\n",
       "      <td>239</td>\n",
       "      <td>30</td>\n",
       "      <td>258</td>\n",
       "      <td>322079</td>\n",
       "      <td>3</td>\n",
       "      <td>62.799472</td>\n",
       "      <td>0.978289</td>\n",
       "      <td>5630.164737</td>\n",
       "      <td>11255.829672</td>\n",
       "      <td>85.009723</td>\n",
       "    </tr>\n",
       "    <tr>\n",
       "      <th>4</th>\n",
       "      <td>19</td>\n",
       "      <td>1000</td>\n",
       "      <td>4</td>\n",
       "      <td>500.0</td>\n",
       "      <td>250</td>\n",
       "      <td>0</td>\n",
       "      <td>0</td>\n",
       "      <td>1</td>\n",
       "      <td>1</td>\n",
       "      <td>1</td>\n",
       "      <td>...</td>\n",
       "      <td>239</td>\n",
       "      <td>30</td>\n",
       "      <td>258</td>\n",
       "      <td>322080</td>\n",
       "      <td>4</td>\n",
       "      <td>45.523411</td>\n",
       "      <td>0.978289</td>\n",
       "      <td>5630.164737</td>\n",
       "      <td>11255.829672</td>\n",
       "      <td>0.009392</td>\n",
       "    </tr>\n",
       "    <tr>\n",
       "      <th>...</th>\n",
       "      <td>...</td>\n",
       "      <td>...</td>\n",
       "      <td>...</td>\n",
       "      <td>...</td>\n",
       "      <td>...</td>\n",
       "      <td>...</td>\n",
       "      <td>...</td>\n",
       "      <td>...</td>\n",
       "      <td>...</td>\n",
       "      <td>...</td>\n",
       "      <td>...</td>\n",
       "      <td>...</td>\n",
       "      <td>...</td>\n",
       "      <td>...</td>\n",
       "      <td>...</td>\n",
       "      <td>...</td>\n",
       "      <td>...</td>\n",
       "      <td>...</td>\n",
       "      <td>...</td>\n",
       "      <td>...</td>\n",
       "      <td>...</td>\n",
       "    </tr>\n",
       "    <tr>\n",
       "      <th>309905</th>\n",
       "      <td>0</td>\n",
       "      <td>6501</td>\n",
       "      <td>31</td>\n",
       "      <td>500.0</td>\n",
       "      <td>250</td>\n",
       "      <td>0</td>\n",
       "      <td>0</td>\n",
       "      <td>1</td>\n",
       "      <td>1</td>\n",
       "      <td>1</td>\n",
       "      <td>...</td>\n",
       "      <td>243</td>\n",
       "      <td>14</td>\n",
       "      <td>76</td>\n",
       "      <td>63025</td>\n",
       "      <td>6496</td>\n",
       "      <td>701.371138</td>\n",
       "      <td>0.978289</td>\n",
       "      <td>5630.164737</td>\n",
       "      <td>11255.829672</td>\n",
       "      <td>0.000362</td>\n",
       "    </tr>\n",
       "    <tr>\n",
       "      <th>309906</th>\n",
       "      <td>0</td>\n",
       "      <td>6501</td>\n",
       "      <td>31</td>\n",
       "      <td>500.0</td>\n",
       "      <td>250</td>\n",
       "      <td>0</td>\n",
       "      <td>0</td>\n",
       "      <td>1</td>\n",
       "      <td>1</td>\n",
       "      <td>1</td>\n",
       "      <td>...</td>\n",
       "      <td>243</td>\n",
       "      <td>14</td>\n",
       "      <td>76</td>\n",
       "      <td>63026</td>\n",
       "      <td>6497</td>\n",
       "      <td>346.851413</td>\n",
       "      <td>0.978289</td>\n",
       "      <td>5630.164737</td>\n",
       "      <td>11255.829672</td>\n",
       "      <td>0.002101</td>\n",
       "    </tr>\n",
       "    <tr>\n",
       "      <th>309907</th>\n",
       "      <td>0</td>\n",
       "      <td>6501</td>\n",
       "      <td>31</td>\n",
       "      <td>500.0</td>\n",
       "      <td>250</td>\n",
       "      <td>0</td>\n",
       "      <td>0</td>\n",
       "      <td>1</td>\n",
       "      <td>1</td>\n",
       "      <td>1</td>\n",
       "      <td>...</td>\n",
       "      <td>243</td>\n",
       "      <td>14</td>\n",
       "      <td>76</td>\n",
       "      <td>63027</td>\n",
       "      <td>6498</td>\n",
       "      <td>302.000756</td>\n",
       "      <td>0.978289</td>\n",
       "      <td>5630.164737</td>\n",
       "      <td>11255.829672</td>\n",
       "      <td>0.005883</td>\n",
       "    </tr>\n",
       "    <tr>\n",
       "      <th>309908</th>\n",
       "      <td>0</td>\n",
       "      <td>6501</td>\n",
       "      <td>31</td>\n",
       "      <td>500.0</td>\n",
       "      <td>250</td>\n",
       "      <td>0</td>\n",
       "      <td>0</td>\n",
       "      <td>1</td>\n",
       "      <td>1</td>\n",
       "      <td>1</td>\n",
       "      <td>...</td>\n",
       "      <td>243</td>\n",
       "      <td>14</td>\n",
       "      <td>76</td>\n",
       "      <td>63028</td>\n",
       "      <td>6499</td>\n",
       "      <td>276.210173</td>\n",
       "      <td>0.978289</td>\n",
       "      <td>5630.164737</td>\n",
       "      <td>11255.829672</td>\n",
       "      <td>0.009228</td>\n",
       "    </tr>\n",
       "    <tr>\n",
       "      <th>309909</th>\n",
       "      <td>0</td>\n",
       "      <td>6501</td>\n",
       "      <td>31</td>\n",
       "      <td>500.0</td>\n",
       "      <td>250</td>\n",
       "      <td>0</td>\n",
       "      <td>0</td>\n",
       "      <td>1</td>\n",
       "      <td>1</td>\n",
       "      <td>1</td>\n",
       "      <td>...</td>\n",
       "      <td>243</td>\n",
       "      <td>14</td>\n",
       "      <td>76</td>\n",
       "      <td>63029</td>\n",
       "      <td>6500</td>\n",
       "      <td>216.644177</td>\n",
       "      <td>0.978289</td>\n",
       "      <td>5630.164737</td>\n",
       "      <td>11255.829672</td>\n",
       "      <td>0.000699</td>\n",
       "    </tr>\n",
       "  </tbody>\n",
       "</table>\n",
       "<p>309910 rows × 27 columns</p>\n",
       "</div>"
      ],
      "text/plain": [
       "        collection_id  total_supply  n_of_traits  seller_fees  platform_fees  \\\n",
       "0                  19          1000            4        500.0            250   \n",
       "1                  19          1000            4        500.0            250   \n",
       "2                  19          1000            4        500.0            250   \n",
       "3                  19          1000            4        500.0            250   \n",
       "4                  19          1000            4        500.0            250   \n",
       "...               ...           ...          ...          ...            ...   \n",
       "309905              0          6501           31        500.0            250   \n",
       "309906              0          6501           31        500.0            250   \n",
       "309907              0          6501           31        500.0            250   \n",
       "309908              0          6501           31        500.0            250   \n",
       "309909              0          6501           31        500.0            250   \n",
       "\n",
       "        openrarity_enabled  has_website  has_own_twitter  has_discord  \\\n",
       "0                        0            0                1            1   \n",
       "1                        0            0                1            1   \n",
       "2                        0            0                1            1   \n",
       "3                        0            0                1            1   \n",
       "4                        0            0                1            1   \n",
       "...                    ...          ...              ...          ...   \n",
       "309905                   0            0                1            1   \n",
       "309906                   0            0                1            1   \n",
       "309907                   0            0                1            1   \n",
       "309908                   0            0                1            1   \n",
       "309909                   0            0                1            1   \n",
       "\n",
       "        has_medium  ...  max_likes  max_replies  max_retweets  global_index  \\\n",
       "0                1  ...        239           30           258        322076   \n",
       "1                1  ...        239           30           258        322077   \n",
       "2                1  ...        239           30           258        322078   \n",
       "3                1  ...        239           30           258        322079   \n",
       "4                1  ...        239           30           258        322080   \n",
       "...            ...  ...        ...          ...           ...           ...   \n",
       "309905           1  ...        243           14            76         63025   \n",
       "309906           1  ...        243           14            76         63026   \n",
       "309907           1  ...        243           14            76         63027   \n",
       "309908           1  ...        243           14            76         63028   \n",
       "309909           1  ...        243           14            76         63029   \n",
       "\n",
       "        nft_id  rarity_score  openrarity_score  openrarity_rank  \\\n",
       "0            0     48.156807          0.978289      5630.164737   \n",
       "1            1     82.404768          0.978289      5630.164737   \n",
       "2            2     30.983457          0.978289      5630.164737   \n",
       "3            3     62.799472          0.978289      5630.164737   \n",
       "4            4     45.523411          0.978289      5630.164737   \n",
       "...        ...           ...               ...              ...   \n",
       "309905    6496    701.371138          0.978289      5630.164737   \n",
       "309906    6497    346.851413          0.978289      5630.164737   \n",
       "309907    6498    302.000756          0.978289      5630.164737   \n",
       "309908    6499    276.210173          0.978289      5630.164737   \n",
       "309909    6500    216.644177          0.978289      5630.164737   \n",
       "\n",
       "        openrarity_max_rank  last_sale_price  \n",
       "0              11255.829672        12.508229  \n",
       "1              11255.829672         0.000800  \n",
       "2              11255.829672         0.002823  \n",
       "3              11255.829672        85.009723  \n",
       "4              11255.829672         0.009392  \n",
       "...                     ...              ...  \n",
       "309905         11255.829672         0.000362  \n",
       "309906         11255.829672         0.002101  \n",
       "309907         11255.829672         0.005883  \n",
       "309908         11255.829672         0.009228  \n",
       "309909         11255.829672         0.000699  \n",
       "\n",
       "[309910 rows x 27 columns]"
      ]
     },
     "execution_count": 321,
     "metadata": {},
     "output_type": "execute_result"
    }
   ],
   "source": [
    "Intcolumn"
   ]
  },
  {
   "cell_type": "code",
   "execution_count": 320,
   "id": "b6c18a48",
   "metadata": {},
   "outputs": [
    {
     "data": {
      "text/plain": [
       "verified    179370\n",
       "approved    130540\n",
       "Name: verification_status, dtype: int64"
      ]
     },
     "execution_count": 320,
     "metadata": {},
     "output_type": "execute_result"
    }
   ],
   "source": [
    "train_with_collection[\"verification_status\"].value_counts()"
   ]
  },
  {
   "cell_type": "code",
   "execution_count": 493,
   "id": "04c29a08",
   "metadata": {},
   "outputs": [
    {
     "name": "stderr",
     "output_type": "stream",
     "text": [
      "<ipython-input-493-8ee818822b75>:1: SettingWithCopyWarning: \n",
      "A value is trying to be set on a copy of a slice from a DataFrame.\n",
      "Try using .loc[row_indexer,col_indexer] = value instead\n",
      "\n",
      "See the caveats in the documentation: https://pandas.pydata.org/pandas-docs/stable/user_guide/indexing.html#returning-a-view-versus-a-copy\n",
      "  Intcolumn[\"n_of_traits\"]=train_with_collection[\"n_of_traits\"]\n"
     ]
    }
   ],
   "source": [
    "tr[\"n_of_traits\"]=train_with_collection[\"n_of_traits\"]"
   ]
  },
  {
   "cell_type": "code",
   "execution_count": 494,
   "id": "2a1cfadf",
   "metadata": {},
   "outputs": [
    {
     "name": "stderr",
     "output_type": "stream",
     "text": [
      "/home/administrator/anaconda3/lib/python3.8/site-packages/seaborn/distributions.py:2557: FutureWarning: `distplot` is a deprecated function and will be removed in a future version. Please adapt your code to use either `displot` (a figure-level function with similar flexibility) or `histplot` (an axes-level function for histograms).\n",
      "  warnings.warn(msg, FutureWarning)\n"
     ]
    },
    {
     "data": {
      "text/plain": [
       "<AxesSubplot:xlabel='n_of_traits', ylabel='Density'>"
      ]
     },
     "execution_count": 494,
     "metadata": {},
     "output_type": "execute_result"
    },
    {
     "data": {
      "image/png": "[encoded data removed]",
      "text/plain": [
       "<Figure size 432x288 with 1 Axes>"
      ]
     },
     "metadata": {
      "needs_background": "light"
     },
     "output_type": "display_data"
    }
   ],
   "source": [
    "sns.distplot(Intcolumn[\"n_of_traits\"])"
   ]
  },
  {
   "cell_type": "code",
   "execution_count": 495,
   "id": "f4afb60d",
   "metadata": {},
   "outputs": [
    {
     "data": {
      "text/plain": [
       "count    309910.000000\n",
       "mean         10.557885\n",
       "std           4.878024\n",
       "min           1.000000\n",
       "25%           8.000000\n",
       "50%          10.000000\n",
       "75%          12.000000\n",
       "max          31.000000\n",
       "Name: n_of_traits, dtype: float64"
      ]
     },
     "execution_count": 495,
     "metadata": {},
     "output_type": "execute_result"
    }
   ],
   "source": [
    "Intcolumn[\"n_of_traits\"].describe()"
   ]
  },
  {
   "cell_type": "code",
   "execution_count": 496,
   "id": "c29d5d2e",
   "metadata": {},
   "outputs": [
    {
     "name": "stderr",
     "output_type": "stream",
     "text": [
      "/home/administrator/anaconda3/lib/python3.8/site-packages/seaborn/_decorators.py:36: FutureWarning: Pass the following variable as a keyword arg: x. From version 0.12, the only valid positional argument will be `data`, and passing other arguments without an explicit keyword will result in an error or misinterpretation.\n",
      "  warnings.warn(\n"
     ]
    },
    {
     "data": {
      "text/plain": [
       "<AxesSubplot:xlabel='n_of_traits'>"
      ]
     },
     "execution_count": 496,
     "metadata": {},
     "output_type": "execute_result"
    },
    {
     "data": {
      "image/png": "[encoded data removed]",
      "text/plain": [
       "<Figure size 432x288 with 1 Axes>"
      ]
     },
     "metadata": {
      "needs_background": "light"
     },
     "output_type": "display_data"
    }
   ],
   "source": [
    "sns.boxplot(Intcolumn[\"n_of_traits\"])"
   ]
  },
  {
   "cell_type": "code",
   "execution_count": 497,
   "id": "49428e09",
   "metadata": {},
   "outputs": [],
   "source": [
    "hCore=(Intcolumn[\"n_of_traits\"].mean())+(3*Intcolumn[\"n_of_traits\"].std())\n",
    "lCore=(Intcolumn[\"n_of_traits\"].mean())-(3*Intcolumn[\"n_of_traits\"].std())"
   ]
  },
  {
   "cell_type": "code",
   "execution_count": 498,
   "id": "5a286c27",
   "metadata": {},
   "outputs": [
    {
     "data": {
      "text/html": [
       "<div>\n",
       "<style scoped>\n",
       "    .dataframe tbody tr th:only-of-type {\n",
       "        vertical-align: middle;\n",
       "    }\n",
       "\n",
       "    .dataframe tbody tr th {\n",
       "        vertical-align: top;\n",
       "    }\n",
       "\n",
       "    .dataframe thead th {\n",
       "        text-align: right;\n",
       "    }\n",
       "</style>\n",
       "<table border=\"1\" class=\"dataframe\">\n",
       "  <thead>\n",
       "    <tr style=\"text-align: right;\">\n",
       "      <th></th>\n",
       "      <th>collection_id</th>\n",
       "      <th>total_supply</th>\n",
       "      <th>n_of_traits</th>\n",
       "      <th>seller_fees</th>\n",
       "      <th>platform_fees</th>\n",
       "      <th>openrarity_enabled</th>\n",
       "      <th>has_website</th>\n",
       "      <th>has_own_twitter</th>\n",
       "      <th>has_discord</th>\n",
       "      <th>has_medium</th>\n",
       "      <th>...</th>\n",
       "      <th>max_likes</th>\n",
       "      <th>max_replies</th>\n",
       "      <th>max_retweets</th>\n",
       "      <th>global_index</th>\n",
       "      <th>nft_id</th>\n",
       "      <th>rarity_score</th>\n",
       "      <th>openrarity_score</th>\n",
       "      <th>openrarity_rank</th>\n",
       "      <th>openrarity_max_rank</th>\n",
       "      <th>last_sale_price</th>\n",
       "    </tr>\n",
       "  </thead>\n",
       "  <tbody>\n",
       "    <tr>\n",
       "      <th>140259</th>\n",
       "      <td>25</td>\n",
       "      <td>4000</td>\n",
       "      <td>27</td>\n",
       "      <td>750.0</td>\n",
       "      <td>250</td>\n",
       "      <td>0</td>\n",
       "      <td>0</td>\n",
       "      <td>1</td>\n",
       "      <td>1</td>\n",
       "      <td>0</td>\n",
       "      <td>...</td>\n",
       "      <td>193.0</td>\n",
       "      <td>27.0</td>\n",
       "      <td>320.0</td>\n",
       "      <td>396298</td>\n",
       "      <td>0.0</td>\n",
       "      <td>346.601987</td>\n",
       "      <td>0.978289</td>\n",
       "      <td>5630.164737</td>\n",
       "      <td>11255.829672</td>\n",
       "      <td>0.013957</td>\n",
       "    </tr>\n",
       "    <tr>\n",
       "      <th>140260</th>\n",
       "      <td>25</td>\n",
       "      <td>4000</td>\n",
       "      <td>27</td>\n",
       "      <td>750.0</td>\n",
       "      <td>250</td>\n",
       "      <td>0</td>\n",
       "      <td>0</td>\n",
       "      <td>1</td>\n",
       "      <td>1</td>\n",
       "      <td>0</td>\n",
       "      <td>...</td>\n",
       "      <td>193.0</td>\n",
       "      <td>27.0</td>\n",
       "      <td>320.0</td>\n",
       "      <td>396299</td>\n",
       "      <td>1.0</td>\n",
       "      <td>324.322058</td>\n",
       "      <td>0.978289</td>\n",
       "      <td>5630.164737</td>\n",
       "      <td>11255.829672</td>\n",
       "      <td>0.038350</td>\n",
       "    </tr>\n",
       "    <tr>\n",
       "      <th>140261</th>\n",
       "      <td>25</td>\n",
       "      <td>4000</td>\n",
       "      <td>27</td>\n",
       "      <td>750.0</td>\n",
       "      <td>250</td>\n",
       "      <td>0</td>\n",
       "      <td>0</td>\n",
       "      <td>1</td>\n",
       "      <td>1</td>\n",
       "      <td>0</td>\n",
       "      <td>...</td>\n",
       "      <td>193.0</td>\n",
       "      <td>27.0</td>\n",
       "      <td>320.0</td>\n",
       "      <td>396300</td>\n",
       "      <td>2.0</td>\n",
       "      <td>332.897583</td>\n",
       "      <td>0.978289</td>\n",
       "      <td>5630.164737</td>\n",
       "      <td>11255.829672</td>\n",
       "      <td>0.007151</td>\n",
       "    </tr>\n",
       "    <tr>\n",
       "      <th>140262</th>\n",
       "      <td>25</td>\n",
       "      <td>4000</td>\n",
       "      <td>27</td>\n",
       "      <td>750.0</td>\n",
       "      <td>250</td>\n",
       "      <td>0</td>\n",
       "      <td>0</td>\n",
       "      <td>1</td>\n",
       "      <td>1</td>\n",
       "      <td>0</td>\n",
       "      <td>...</td>\n",
       "      <td>193.0</td>\n",
       "      <td>27.0</td>\n",
       "      <td>320.0</td>\n",
       "      <td>396301</td>\n",
       "      <td>3.0</td>\n",
       "      <td>418.509135</td>\n",
       "      <td>0.978289</td>\n",
       "      <td>5630.164737</td>\n",
       "      <td>11255.829672</td>\n",
       "      <td>0.033071</td>\n",
       "    </tr>\n",
       "    <tr>\n",
       "      <th>140263</th>\n",
       "      <td>25</td>\n",
       "      <td>4000</td>\n",
       "      <td>27</td>\n",
       "      <td>750.0</td>\n",
       "      <td>250</td>\n",
       "      <td>0</td>\n",
       "      <td>0</td>\n",
       "      <td>1</td>\n",
       "      <td>1</td>\n",
       "      <td>0</td>\n",
       "      <td>...</td>\n",
       "      <td>193.0</td>\n",
       "      <td>27.0</td>\n",
       "      <td>320.0</td>\n",
       "      <td>396302</td>\n",
       "      <td>4.0</td>\n",
       "      <td>324.561496</td>\n",
       "      <td>0.978289</td>\n",
       "      <td>5630.164737</td>\n",
       "      <td>11255.829672</td>\n",
       "      <td>0.003144</td>\n",
       "    </tr>\n",
       "    <tr>\n",
       "      <th>...</th>\n",
       "      <td>...</td>\n",
       "      <td>...</td>\n",
       "      <td>...</td>\n",
       "      <td>...</td>\n",
       "      <td>...</td>\n",
       "      <td>...</td>\n",
       "      <td>...</td>\n",
       "      <td>...</td>\n",
       "      <td>...</td>\n",
       "      <td>...</td>\n",
       "      <td>...</td>\n",
       "      <td>...</td>\n",
       "      <td>...</td>\n",
       "      <td>...</td>\n",
       "      <td>...</td>\n",
       "      <td>...</td>\n",
       "      <td>...</td>\n",
       "      <td>...</td>\n",
       "      <td>...</td>\n",
       "      <td>...</td>\n",
       "      <td>...</td>\n",
       "    </tr>\n",
       "    <tr>\n",
       "      <th>309905</th>\n",
       "      <td>0</td>\n",
       "      <td>6501</td>\n",
       "      <td>31</td>\n",
       "      <td>500.0</td>\n",
       "      <td>250</td>\n",
       "      <td>0</td>\n",
       "      <td>0</td>\n",
       "      <td>1</td>\n",
       "      <td>1</td>\n",
       "      <td>1</td>\n",
       "      <td>...</td>\n",
       "      <td>243.0</td>\n",
       "      <td>14.0</td>\n",
       "      <td>76.0</td>\n",
       "      <td>63025</td>\n",
       "      <td>6496.0</td>\n",
       "      <td>564.154545</td>\n",
       "      <td>0.978289</td>\n",
       "      <td>5630.164737</td>\n",
       "      <td>11255.829672</td>\n",
       "      <td>0.000362</td>\n",
       "    </tr>\n",
       "    <tr>\n",
       "      <th>309906</th>\n",
       "      <td>0</td>\n",
       "      <td>6501</td>\n",
       "      <td>31</td>\n",
       "      <td>500.0</td>\n",
       "      <td>250</td>\n",
       "      <td>0</td>\n",
       "      <td>0</td>\n",
       "      <td>1</td>\n",
       "      <td>1</td>\n",
       "      <td>1</td>\n",
       "      <td>...</td>\n",
       "      <td>243.0</td>\n",
       "      <td>14.0</td>\n",
       "      <td>76.0</td>\n",
       "      <td>63026</td>\n",
       "      <td>6497.0</td>\n",
       "      <td>346.851413</td>\n",
       "      <td>0.978289</td>\n",
       "      <td>5630.164737</td>\n",
       "      <td>11255.829672</td>\n",
       "      <td>0.002101</td>\n",
       "    </tr>\n",
       "    <tr>\n",
       "      <th>309907</th>\n",
       "      <td>0</td>\n",
       "      <td>6501</td>\n",
       "      <td>31</td>\n",
       "      <td>500.0</td>\n",
       "      <td>250</td>\n",
       "      <td>0</td>\n",
       "      <td>0</td>\n",
       "      <td>1</td>\n",
       "      <td>1</td>\n",
       "      <td>1</td>\n",
       "      <td>...</td>\n",
       "      <td>243.0</td>\n",
       "      <td>14.0</td>\n",
       "      <td>76.0</td>\n",
       "      <td>63027</td>\n",
       "      <td>6498.0</td>\n",
       "      <td>302.000756</td>\n",
       "      <td>0.978289</td>\n",
       "      <td>5630.164737</td>\n",
       "      <td>11255.829672</td>\n",
       "      <td>0.005883</td>\n",
       "    </tr>\n",
       "    <tr>\n",
       "      <th>309908</th>\n",
       "      <td>0</td>\n",
       "      <td>6501</td>\n",
       "      <td>31</td>\n",
       "      <td>500.0</td>\n",
       "      <td>250</td>\n",
       "      <td>0</td>\n",
       "      <td>0</td>\n",
       "      <td>1</td>\n",
       "      <td>1</td>\n",
       "      <td>1</td>\n",
       "      <td>...</td>\n",
       "      <td>243.0</td>\n",
       "      <td>14.0</td>\n",
       "      <td>76.0</td>\n",
       "      <td>63028</td>\n",
       "      <td>6499.0</td>\n",
       "      <td>276.210173</td>\n",
       "      <td>0.978289</td>\n",
       "      <td>5630.164737</td>\n",
       "      <td>11255.829672</td>\n",
       "      <td>0.009228</td>\n",
       "    </tr>\n",
       "    <tr>\n",
       "      <th>309909</th>\n",
       "      <td>0</td>\n",
       "      <td>6501</td>\n",
       "      <td>31</td>\n",
       "      <td>500.0</td>\n",
       "      <td>250</td>\n",
       "      <td>0</td>\n",
       "      <td>0</td>\n",
       "      <td>1</td>\n",
       "      <td>1</td>\n",
       "      <td>1</td>\n",
       "      <td>...</td>\n",
       "      <td>243.0</td>\n",
       "      <td>14.0</td>\n",
       "      <td>76.0</td>\n",
       "      <td>63029</td>\n",
       "      <td>6500.0</td>\n",
       "      <td>216.644177</td>\n",
       "      <td>0.978289</td>\n",
       "      <td>5630.164737</td>\n",
       "      <td>11255.829672</td>\n",
       "      <td>0.000699</td>\n",
       "    </tr>\n",
       "  </tbody>\n",
       "</table>\n",
       "<p>10498 rows × 27 columns</p>\n",
       "</div>"
      ],
      "text/plain": [
       "        collection_id  total_supply  n_of_traits  seller_fees  platform_fees  \\\n",
       "140259             25          4000           27        750.0            250   \n",
       "140260             25          4000           27        750.0            250   \n",
       "140261             25          4000           27        750.0            250   \n",
       "140262             25          4000           27        750.0            250   \n",
       "140263             25          4000           27        750.0            250   \n",
       "...               ...           ...          ...          ...            ...   \n",
       "309905              0          6501           31        500.0            250   \n",
       "309906              0          6501           31        500.0            250   \n",
       "309907              0          6501           31        500.0            250   \n",
       "309908              0          6501           31        500.0            250   \n",
       "309909              0          6501           31        500.0            250   \n",
       "\n",
       "        openrarity_enabled  has_website  has_own_twitter  has_discord  \\\n",
       "140259                   0            0                1            1   \n",
       "140260                   0            0                1            1   \n",
       "140261                   0            0                1            1   \n",
       "140262                   0            0                1            1   \n",
       "140263                   0            0                1            1   \n",
       "...                    ...          ...              ...          ...   \n",
       "309905                   0            0                1            1   \n",
       "309906                   0            0                1            1   \n",
       "309907                   0            0                1            1   \n",
       "309908                   0            0                1            1   \n",
       "309909                   0            0                1            1   \n",
       "\n",
       "        has_medium  ...  max_likes  max_replies  max_retweets  global_index  \\\n",
       "140259           0  ...      193.0         27.0         320.0        396298   \n",
       "140260           0  ...      193.0         27.0         320.0        396299   \n",
       "140261           0  ...      193.0         27.0         320.0        396300   \n",
       "140262           0  ...      193.0         27.0         320.0        396301   \n",
       "140263           0  ...      193.0         27.0         320.0        396302   \n",
       "...            ...  ...        ...          ...           ...           ...   \n",
       "309905           1  ...      243.0         14.0          76.0         63025   \n",
       "309906           1  ...      243.0         14.0          76.0         63026   \n",
       "309907           1  ...      243.0         14.0          76.0         63027   \n",
       "309908           1  ...      243.0         14.0          76.0         63028   \n",
       "309909           1  ...      243.0         14.0          76.0         63029   \n",
       "\n",
       "        nft_id  rarity_score  openrarity_score  openrarity_rank  \\\n",
       "140259     0.0    346.601987          0.978289      5630.164737   \n",
       "140260     1.0    324.322058          0.978289      5630.164737   \n",
       "140261     2.0    332.897583          0.978289      5630.164737   \n",
       "140262     3.0    418.509135          0.978289      5630.164737   \n",
       "140263     4.0    324.561496          0.978289      5630.164737   \n",
       "...        ...           ...               ...              ...   \n",
       "309905  6496.0    564.154545          0.978289      5630.164737   \n",
       "309906  6497.0    346.851413          0.978289      5630.164737   \n",
       "309907  6498.0    302.000756          0.978289      5630.164737   \n",
       "309908  6499.0    276.210173          0.978289      5630.164737   \n",
       "309909  6500.0    216.644177          0.978289      5630.164737   \n",
       "\n",
       "        openrarity_max_rank  last_sale_price  \n",
       "140259         11255.829672         0.013957  \n",
       "140260         11255.829672         0.038350  \n",
       "140261         11255.829672         0.007151  \n",
       "140262         11255.829672         0.033071  \n",
       "140263         11255.829672         0.003144  \n",
       "...                     ...              ...  \n",
       "309905         11255.829672         0.000362  \n",
       "309906         11255.829672         0.002101  \n",
       "309907         11255.829672         0.005883  \n",
       "309908         11255.829672         0.009228  \n",
       "309909         11255.829672         0.000699  \n",
       "\n",
       "[10498 rows x 27 columns]"
      ]
     },
     "execution_count": 498,
     "metadata": {},
     "output_type": "execute_result"
    }
   ],
   "source": [
    "Intcolumn[(Intcolumn[\"n_of_traits\"]>hCore)|(Intcolumn[\"n_of_traits\"]<lCore)]"
   ]
  },
  {
   "cell_type": "code",
   "execution_count": 499,
   "id": "38aac81a",
   "metadata": {},
   "outputs": [
    {
     "name": "stderr",
     "output_type": "stream",
     "text": [
      "<ipython-input-499-cbf3b6f6ca26>:1: SettingWithCopyWarning: \n",
      "A value is trying to be set on a copy of a slice from a DataFrame.\n",
      "Try using .loc[row_indexer,col_indexer] = value instead\n",
      "\n",
      "See the caveats in the documentation: https://pandas.pydata.org/pandas-docs/stable/user_guide/indexing.html#returning-a-view-versus-a-copy\n",
      "  Intcolumn[\"n_of_traits\"]=np.where(Intcolumn[\"n_of_traits\"]>=hCore,\n"
     ]
    }
   ],
   "source": [
    "Intcolumn[\"n_of_traits\"]=np.where(Intcolumn[\"n_of_traits\"]>=hCore,\n",
    "         hCore,\n",
    "         np.where(Intcolumn[\"n_of_traits\"]<=lCore,\n",
    "         lCore,\n",
    "         Intcolumn[\"n_of_traits\"]))"
   ]
  },
  {
   "cell_type": "code",
   "execution_count": 337,
   "id": "9982c097",
   "metadata": {},
   "outputs": [
    {
     "data": {
      "text/html": [
       "<div>\n",
       "<style scoped>\n",
       "    .dataframe tbody tr th:only-of-type {\n",
       "        vertical-align: middle;\n",
       "    }\n",
       "\n",
       "    .dataframe tbody tr th {\n",
       "        vertical-align: top;\n",
       "    }\n",
       "\n",
       "    .dataframe thead th {\n",
       "        text-align: right;\n",
       "    }\n",
       "</style>\n",
       "<table border=\"1\" class=\"dataframe\">\n",
       "  <thead>\n",
       "    <tr style=\"text-align: right;\">\n",
       "      <th></th>\n",
       "      <th>collection_id</th>\n",
       "      <th>total_supply</th>\n",
       "      <th>n_of_traits</th>\n",
       "      <th>seller_fees</th>\n",
       "      <th>platform_fees</th>\n",
       "      <th>openrarity_enabled</th>\n",
       "      <th>has_website</th>\n",
       "      <th>has_own_twitter</th>\n",
       "      <th>has_discord</th>\n",
       "      <th>has_medium</th>\n",
       "      <th>...</th>\n",
       "      <th>max_likes</th>\n",
       "      <th>max_replies</th>\n",
       "      <th>max_retweets</th>\n",
       "      <th>global_index</th>\n",
       "      <th>nft_id</th>\n",
       "      <th>rarity_score</th>\n",
       "      <th>openrarity_score</th>\n",
       "      <th>openrarity_rank</th>\n",
       "      <th>openrarity_max_rank</th>\n",
       "      <th>last_sale_price</th>\n",
       "    </tr>\n",
       "  </thead>\n",
       "  <tbody>\n",
       "    <tr>\n",
       "      <th>count</th>\n",
       "      <td>309910.000000</td>\n",
       "      <td>309910.000000</td>\n",
       "      <td>309910.000000</td>\n",
       "      <td>309910.000000</td>\n",
       "      <td>309910.0</td>\n",
       "      <td>309910.000000</td>\n",
       "      <td>309910.0</td>\n",
       "      <td>309910.0</td>\n",
       "      <td>309910.000000</td>\n",
       "      <td>309910.000000</td>\n",
       "      <td>...</td>\n",
       "      <td>309910.000000</td>\n",
       "      <td>309910.000000</td>\n",
       "      <td>309910.000000</td>\n",
       "      <td>309910.000000</td>\n",
       "      <td>309910.000000</td>\n",
       "      <td>309910.000000</td>\n",
       "      <td>309910.000000</td>\n",
       "      <td>309910.000000</td>\n",
       "      <td>309910.000000</td>\n",
       "      <td>3.099100e+05</td>\n",
       "    </tr>\n",
       "    <tr>\n",
       "      <th>mean</th>\n",
       "      <td>30.507160</td>\n",
       "      <td>13402.176838</td>\n",
       "      <td>10.128816</td>\n",
       "      <td>699.754284</td>\n",
       "      <td>250.0</td>\n",
       "      <td>0.259688</td>\n",
       "      <td>0.0</td>\n",
       "      <td>1.0</td>\n",
       "      <td>0.709942</td>\n",
       "      <td>0.100381</td>\n",
       "      <td>...</td>\n",
       "      <td>304.933981</td>\n",
       "      <td>107.703885</td>\n",
       "      <td>190.700142</td>\n",
       "      <td>317003.207947</td>\n",
       "      <td>6738.162024</td>\n",
       "      <td>1437.092531</td>\n",
       "      <td>0.983927</td>\n",
       "      <td>5630.164737</td>\n",
       "      <td>11255.829672</td>\n",
       "      <td>2.162269e+00</td>\n",
       "    </tr>\n",
       "    <tr>\n",
       "      <th>std</th>\n",
       "      <td>18.331668</td>\n",
       "      <td>7915.325634</td>\n",
       "      <td>2.840445</td>\n",
       "      <td>249.914130</td>\n",
       "      <td>0.0</td>\n",
       "      <td>0.438464</td>\n",
       "      <td>0.0</td>\n",
       "      <td>0.0</td>\n",
       "      <td>0.453790</td>\n",
       "      <td>0.300507</td>\n",
       "      <td>...</td>\n",
       "      <td>898.138000</td>\n",
       "      <td>445.353597</td>\n",
       "      <td>523.418690</td>\n",
       "      <td>173138.765569</td>\n",
       "      <td>5977.542096</td>\n",
       "      <td>4303.585892</td>\n",
       "      <td>0.078458</td>\n",
       "      <td>1942.636517</td>\n",
       "      <td>1759.481774</td>\n",
       "      <td>1.275132e+01</td>\n",
       "    </tr>\n",
       "    <tr>\n",
       "      <th>min</th>\n",
       "      <td>0.000000</td>\n",
       "      <td>1.000000</td>\n",
       "      <td>5.679861</td>\n",
       "      <td>250.000000</td>\n",
       "      <td>250.0</td>\n",
       "      <td>0.000000</td>\n",
       "      <td>0.0</td>\n",
       "      <td>1.0</td>\n",
       "      <td>0.000000</td>\n",
       "      <td>0.000000</td>\n",
       "      <td>...</td>\n",
       "      <td>0.000000</td>\n",
       "      <td>0.000000</td>\n",
       "      <td>0.000000</td>\n",
       "      <td>21928.000000</td>\n",
       "      <td>0.000000</td>\n",
       "      <td>1.000000</td>\n",
       "      <td>0.626738</td>\n",
       "      <td>1.000000</td>\n",
       "      <td>5555.000000</td>\n",
       "      <td>6.485360e-08</td>\n",
       "    </tr>\n",
       "    <tr>\n",
       "      <th>25%</th>\n",
       "      <td>13.000000</td>\n",
       "      <td>8888.000000</td>\n",
       "      <td>8.000000</td>\n",
       "      <td>500.000000</td>\n",
       "      <td>250.0</td>\n",
       "      <td>0.000000</td>\n",
       "      <td>0.0</td>\n",
       "      <td>1.0</td>\n",
       "      <td>0.000000</td>\n",
       "      <td>0.000000</td>\n",
       "      <td>...</td>\n",
       "      <td>5.000000</td>\n",
       "      <td>1.000000</td>\n",
       "      <td>5.000000</td>\n",
       "      <td>174892.250000</td>\n",
       "      <td>2453.000000</td>\n",
       "      <td>106.587184</td>\n",
       "      <td>0.978289</td>\n",
       "      <td>5630.164737</td>\n",
       "      <td>11255.829672</td>\n",
       "      <td>4.077085e-03</td>\n",
       "    </tr>\n",
       "    <tr>\n",
       "      <th>50%</th>\n",
       "      <td>34.000000</td>\n",
       "      <td>9999.000000</td>\n",
       "      <td>10.000000</td>\n",
       "      <td>750.000000</td>\n",
       "      <td>250.0</td>\n",
       "      <td>0.000000</td>\n",
       "      <td>0.0</td>\n",
       "      <td>1.0</td>\n",
       "      <td>1.000000</td>\n",
       "      <td>0.000000</td>\n",
       "      <td>...</td>\n",
       "      <td>30.000000</td>\n",
       "      <td>7.000000</td>\n",
       "      <td>34.000000</td>\n",
       "      <td>341467.500000</td>\n",
       "      <td>5138.000000</td>\n",
       "      <td>170.797030</td>\n",
       "      <td>0.978289</td>\n",
       "      <td>5630.164737</td>\n",
       "      <td>11255.829672</td>\n",
       "      <td>8.103344e-03</td>\n",
       "    </tr>\n",
       "    <tr>\n",
       "      <th>75%</th>\n",
       "      <td>46.000000</td>\n",
       "      <td>15000.000000</td>\n",
       "      <td>12.000000</td>\n",
       "      <td>900.000000</td>\n",
       "      <td>250.0</td>\n",
       "      <td>1.000000</td>\n",
       "      <td>0.0</td>\n",
       "      <td>1.0</td>\n",
       "      <td>1.000000</td>\n",
       "      <td>0.000000</td>\n",
       "      <td>...</td>\n",
       "      <td>202.000000</td>\n",
       "      <td>47.000000</td>\n",
       "      <td>131.000000</td>\n",
       "      <td>493626.750000</td>\n",
       "      <td>8720.750000</td>\n",
       "      <td>289.614129</td>\n",
       "      <td>0.978289</td>\n",
       "      <td>5630.164737</td>\n",
       "      <td>11255.829672</td>\n",
       "      <td>3.252062e-01</td>\n",
       "    </tr>\n",
       "    <tr>\n",
       "      <th>max</th>\n",
       "      <td>60.000000</td>\n",
       "      <td>29899.000000</td>\n",
       "      <td>15.435908</td>\n",
       "      <td>1000.000000</td>\n",
       "      <td>250.0</td>\n",
       "      <td>1.000000</td>\n",
       "      <td>0.0</td>\n",
       "      <td>1.0</td>\n",
       "      <td>1.000000</td>\n",
       "      <td>1.000000</td>\n",
       "      <td>...</td>\n",
       "      <td>5079.000000</td>\n",
       "      <td>2601.000000</td>\n",
       "      <td>2990.000000</td>\n",
       "      <td>590227.000000</td>\n",
       "      <td>29898.000000</td>\n",
       "      <td>90354.072248</td>\n",
       "      <td>3.663833</td>\n",
       "      <td>15555.000000</td>\n",
       "      <td>15555.000000</td>\n",
       "      <td>1.024002e+03</td>\n",
       "    </tr>\n",
       "  </tbody>\n",
       "</table>\n",
       "<p>8 rows × 27 columns</p>\n",
       "</div>"
      ],
      "text/plain": [
       "       collection_id   total_supply    n_of_traits    seller_fees  \\\n",
       "count  309910.000000  309910.000000  309910.000000  309910.000000   \n",
       "mean       30.507160   13402.176838      10.128816     699.754284   \n",
       "std        18.331668    7915.325634       2.840445     249.914130   \n",
       "min         0.000000       1.000000       5.679861     250.000000   \n",
       "25%        13.000000    8888.000000       8.000000     500.000000   \n",
       "50%        34.000000    9999.000000      10.000000     750.000000   \n",
       "75%        46.000000   15000.000000      12.000000     900.000000   \n",
       "max        60.000000   29899.000000      15.435908    1000.000000   \n",
       "\n",
       "       platform_fees  openrarity_enabled  has_website  has_own_twitter  \\\n",
       "count       309910.0       309910.000000     309910.0         309910.0   \n",
       "mean           250.0            0.259688          0.0              1.0   \n",
       "std              0.0            0.438464          0.0              0.0   \n",
       "min            250.0            0.000000          0.0              1.0   \n",
       "25%            250.0            0.000000          0.0              1.0   \n",
       "50%            250.0            0.000000          0.0              1.0   \n",
       "75%            250.0            1.000000          0.0              1.0   \n",
       "max            250.0            1.000000          0.0              1.0   \n",
       "\n",
       "         has_discord     has_medium  ...      max_likes    max_replies  \\\n",
       "count  309910.000000  309910.000000  ...  309910.000000  309910.000000   \n",
       "mean        0.709942       0.100381  ...     304.933981     107.703885   \n",
       "std         0.453790       0.300507  ...     898.138000     445.353597   \n",
       "min         0.000000       0.000000  ...       0.000000       0.000000   \n",
       "25%         0.000000       0.000000  ...       5.000000       1.000000   \n",
       "50%         1.000000       0.000000  ...      30.000000       7.000000   \n",
       "75%         1.000000       0.000000  ...     202.000000      47.000000   \n",
       "max         1.000000       1.000000  ...    5079.000000    2601.000000   \n",
       "\n",
       "        max_retweets   global_index         nft_id   rarity_score  \\\n",
       "count  309910.000000  309910.000000  309910.000000  309910.000000   \n",
       "mean      190.700142  317003.207947    6738.162024    1437.092531   \n",
       "std       523.418690  173138.765569    5977.542096    4303.585892   \n",
       "min         0.000000   21928.000000       0.000000       1.000000   \n",
       "25%         5.000000  174892.250000    2453.000000     106.587184   \n",
       "50%        34.000000  341467.500000    5138.000000     170.797030   \n",
       "75%       131.000000  493626.750000    8720.750000     289.614129   \n",
       "max      2990.000000  590227.000000   29898.000000   90354.072248   \n",
       "\n",
       "       openrarity_score  openrarity_rank  openrarity_max_rank  last_sale_price  \n",
       "count     309910.000000    309910.000000        309910.000000     3.099100e+05  \n",
       "mean           0.983927      5630.164737         11255.829672     2.162269e+00  \n",
       "std            0.078458      1942.636517          1759.481774     1.275132e+01  \n",
       "min            0.626738         1.000000          5555.000000     6.485360e-08  \n",
       "25%            0.978289      5630.164737         11255.829672     4.077085e-03  \n",
       "50%            0.978289      5630.164737         11255.829672     8.103344e-03  \n",
       "75%            0.978289      5630.164737         11255.829672     3.252062e-01  \n",
       "max            3.663833     15555.000000         15555.000000     1.024002e+03  \n",
       "\n",
       "[8 rows x 27 columns]"
      ]
     },
     "execution_count": 337,
     "metadata": {},
     "output_type": "execute_result"
    }
   ],
   "source": [
    "Intcolumn.describe()"
   ]
  },
  {
   "cell_type": "code",
   "execution_count": 344,
   "id": "01073356",
   "metadata": {},
   "outputs": [
    {
     "data": {
      "text/plain": [
       "collection_id         -0.118710\n",
       "total_supply          -0.081918\n",
       "n_of_traits           -0.152726\n",
       "seller_fees           -0.217513\n",
       "platform_fees               NaN\n",
       "openrarity_enabled    -0.018842\n",
       "has_website                 NaN\n",
       "has_own_twitter             NaN\n",
       "has_discord            0.108122\n",
       "has_medium            -0.033832\n",
       "n_tweets_in_range     -0.033210\n",
       "avg_likes              0.044742\n",
       "avg_replies            0.001231\n",
       "avg_retweets           0.131632\n",
       "min_likes              0.021865\n",
       "min_replies            0.052180\n",
       "min_retweets           0.267012\n",
       "max_likes              0.014106\n",
       "max_replies           -0.012231\n",
       "max_retweets           0.081139\n",
       "global_index          -0.096667\n",
       "nft_id                -0.055394\n",
       "rarity_score          -0.046505\n",
       "openrarity_score       0.024804\n",
       "openrarity_rank       -0.018963\n",
       "openrarity_max_rank   -0.024517\n",
       "last_sale_price        1.000000\n",
       "Name: last_sale_price, dtype: float64"
      ]
     },
     "execution_count": 344,
     "metadata": {},
     "output_type": "execute_result"
    }
   ],
   "source": [
    "Intcolumn.corr()[\"last_sale_price\"]"
   ]
  },
  {
   "cell_type": "code",
   "execution_count": 346,
   "id": "ea232cbe",
   "metadata": {},
   "outputs": [
    {
     "name": "stderr",
     "output_type": "stream",
     "text": [
      "/home/administrator/anaconda3/lib/python3.8/site-packages/seaborn/distributions.py:2557: FutureWarning: `distplot` is a deprecated function and will be removed in a future version. Please adapt your code to use either `displot` (a figure-level function with similar flexibility) or `histplot` (an axes-level function for histograms).\n",
      "  warnings.warn(msg, FutureWarning)\n"
     ]
    },
    {
     "data": {
      "text/plain": [
       "<AxesSubplot:xlabel='seller_fees', ylabel='Density'>"
      ]
     },
     "execution_count": 346,
     "metadata": {},
     "output_type": "execute_result"
    },
    {
     "data": {
      "image/png": "[encoded data removed]",
      "text/plain": [
       "<Figure size 432x288 with 1 Axes>"
      ]
     },
     "metadata": {
      "needs_background": "light"
     },
     "output_type": "display_data"
    }
   ],
   "source": [
    "sns.distplot(Intcolumn[\"seller_fees\"])"
   ]
  },
  {
   "cell_type": "code",
   "execution_count": 347,
   "id": "1ee1b69b",
   "metadata": {},
   "outputs": [
    {
     "data": {
      "text/plain": [
       "count    309910.000000\n",
       "mean        699.754284\n",
       "std         249.914130\n",
       "min         250.000000\n",
       "25%         500.000000\n",
       "50%         750.000000\n",
       "75%         900.000000\n",
       "max        1000.000000\n",
       "Name: seller_fees, dtype: float64"
      ]
     },
     "execution_count": 347,
     "metadata": {},
     "output_type": "execute_result"
    }
   ],
   "source": [
    "Intcolumn[\"seller_fees\"].describe()"
   ]
  },
  {
   "cell_type": "code",
   "execution_count": 348,
   "id": "c9f26f66",
   "metadata": {},
   "outputs": [
    {
     "name": "stderr",
     "output_type": "stream",
     "text": [
      "/home/administrator/anaconda3/lib/python3.8/site-packages/seaborn/_decorators.py:36: FutureWarning: Pass the following variable as a keyword arg: x. From version 0.12, the only valid positional argument will be `data`, and passing other arguments without an explicit keyword will result in an error or misinterpretation.\n",
      "  warnings.warn(\n"
     ]
    },
    {
     "data": {
      "text/plain": [
       "<AxesSubplot:xlabel='seller_fees'>"
      ]
     },
     "execution_count": 348,
     "metadata": {},
     "output_type": "execute_result"
    },
    {
     "data": {
      "image/png": "[encoded data removed]",
      "text/plain": [
       "<Figure size 432x288 with 1 Axes>"
      ]
     },
     "metadata": {
      "needs_background": "light"
     },
     "output_type": "display_data"
    }
   ],
   "source": [
    "sns.boxplot(Intcolumn[\"seller_fees\"])"
   ]
  },
  {
   "cell_type": "code",
   "execution_count": 356,
   "id": "1d9b3f17",
   "metadata": {},
   "outputs": [
    {
     "name": "stderr",
     "output_type": "stream",
     "text": [
      "/home/administrator/anaconda3/lib/python3.8/site-packages/seaborn/distributions.py:2557: FutureWarning: `distplot` is a deprecated function and will be removed in a future version. Please adapt your code to use either `displot` (a figure-level function with similar flexibility) or `histplot` (an axes-level function for histograms).\n",
      "  warnings.warn(msg, FutureWarning)\n"
     ]
    },
    {
     "data": {
      "text/plain": [
       "<AxesSubplot:xlabel='openrarity_enabled', ylabel='Density'>"
      ]
     },
     "execution_count": 356,
     "metadata": {},
     "output_type": "execute_result"
    },
    {
     "data": {
      "image/png": "[encoded data removed]",
      "text/plain": [
       "<Figure size 432x288 with 1 Axes>"
      ]
     },
     "metadata": {
      "needs_background": "light"
     },
     "output_type": "display_data"
    }
   ],
   "source": [
    "sns.distplot(Intcolumn[\"openrarity_enabled\"])"
   ]
  },
  {
   "cell_type": "code",
   "execution_count": 357,
   "id": "a8b16bcf",
   "metadata": {},
   "outputs": [
    {
     "data": {
      "text/plain": [
       "count    309910.000000\n",
       "mean          0.259688\n",
       "std           0.438464\n",
       "min           0.000000\n",
       "25%           0.000000\n",
       "50%           0.000000\n",
       "75%           1.000000\n",
       "max           1.000000\n",
       "Name: openrarity_enabled, dtype: float64"
      ]
     },
     "execution_count": 357,
     "metadata": {},
     "output_type": "execute_result"
    }
   ],
   "source": [
    "Intcolumn[\"openrarity_enabled\"].describe()"
   ]
  },
  {
   "cell_type": "code",
   "execution_count": 363,
   "id": "061fb1b4",
   "metadata": {},
   "outputs": [
    {
     "data": {
      "text/plain": [
       "count    309910.000000\n",
       "mean          0.709942\n",
       "std           0.453790\n",
       "min           0.000000\n",
       "25%           0.000000\n",
       "50%           1.000000\n",
       "75%           1.000000\n",
       "max           1.000000\n",
       "Name: has_discord, dtype: float64"
      ]
     },
     "execution_count": 363,
     "metadata": {},
     "output_type": "execute_result"
    }
   ],
   "source": [
    "Intcolumn[\"has_discord\"].describe()"
   ]
  },
  {
   "cell_type": "code",
   "execution_count": 364,
   "id": "44bb1645",
   "metadata": {},
   "outputs": [
    {
     "name": "stderr",
     "output_type": "stream",
     "text": [
      "/home/administrator/anaconda3/lib/python3.8/site-packages/seaborn/distributions.py:2557: FutureWarning: `distplot` is a deprecated function and will be removed in a future version. Please adapt your code to use either `displot` (a figure-level function with similar flexibility) or `histplot` (an axes-level function for histograms).\n",
      "  warnings.warn(msg, FutureWarning)\n"
     ]
    },
    {
     "data": {
      "text/plain": [
       "<AxesSubplot:xlabel='has_discord', ylabel='Density'>"
      ]
     },
     "execution_count": 364,
     "metadata": {},
     "output_type": "execute_result"
    },
    {
     "data": {
      "image/png": "[encoded data removed]",
      "text/plain": [
       "<Figure size 432x288 with 1 Axes>"
      ]
     },
     "metadata": {
      "needs_background": "light"
     },
     "output_type": "display_data"
    }
   ],
   "source": [
    "sns.distplot(Intcolumn[\"has_discord\"])"
   ]
  },
  {
   "cell_type": "code",
   "execution_count": 375,
   "id": "bd8592c2",
   "metadata": {},
   "outputs": [
    {
     "data": {
      "text/plain": [
       "count    309910.000000\n",
       "mean         17.166665\n",
       "std          27.037390\n",
       "min           1.000000\n",
       "25%           3.000000\n",
       "50%          11.000000\n",
       "75%          19.000000\n",
       "max         151.000000\n",
       "Name: n_tweets_in_range, dtype: float64"
      ]
     },
     "execution_count": 375,
     "metadata": {},
     "output_type": "execute_result"
    }
   ],
   "source": [
    "Intcolumn[\"n_tweets_in_range\"].describe()"
   ]
  },
  {
   "cell_type": "code",
   "execution_count": 384,
   "id": "4420d3bd",
   "metadata": {},
   "outputs": [
    {
     "name": "stderr",
     "output_type": "stream",
     "text": [
      "/home/administrator/anaconda3/lib/python3.8/site-packages/seaborn/distributions.py:2557: FutureWarning: `distplot` is a deprecated function and will be removed in a future version. Please adapt your code to use either `displot` (a figure-level function with similar flexibility) or `histplot` (an axes-level function for histograms).\n",
      "  warnings.warn(msg, FutureWarning)\n"
     ]
    },
    {
     "data": {
      "text/plain": [
       "<AxesSubplot:xlabel='n_tweets_in_range', ylabel='Density'>"
      ]
     },
     "execution_count": 384,
     "metadata": {},
     "output_type": "execute_result"
    },
    {
     "data": {
      "image/png": "[encoded data removed]",
      "text/plain": [
       "<Figure size 432x288 with 1 Axes>"
      ]
     },
     "metadata": {
      "needs_background": "light"
     },
     "output_type": "display_data"
    }
   ],
   "source": [
    "sns.distplot(Intcolumn[\"n_tweets_in_range\"])"
   ]
  },
  {
   "cell_type": "code",
   "execution_count": 383,
   "id": "edbf92bf",
   "metadata": {},
   "outputs": [
    {
     "name": "stderr",
     "output_type": "stream",
     "text": [
      "/home/administrator/anaconda3/lib/python3.8/site-packages/seaborn/_decorators.py:36: FutureWarning: Pass the following variable as a keyword arg: x. From version 0.12, the only valid positional argument will be `data`, and passing other arguments without an explicit keyword will result in an error or misinterpretation.\n",
      "  warnings.warn(\n"
     ]
    },
    {
     "data": {
      "text/plain": [
       "<AxesSubplot:xlabel='n_tweets_in_range'>"
      ]
     },
     "execution_count": 383,
     "metadata": {},
     "output_type": "execute_result"
    },
    {
     "data": {
      "image/png": "[encoded data removed]",
      "text/plain": [
       "<Figure size 432x288 with 1 Axes>"
      ]
     },
     "metadata": {
      "needs_background": "light"
     },
     "output_type": "display_data"
    }
   ],
   "source": [
    "sns.boxplot(Intcolumn[\"n_tweets_in_range\"])"
   ]
  },
  {
   "cell_type": "code",
   "execution_count": 381,
   "id": "734a178a",
   "metadata": {},
   "outputs": [
    {
     "name": "stderr",
     "output_type": "stream",
     "text": [
      "<ipython-input-381-09016387a45d>:7: SettingWithCopyWarning: \n",
      "A value is trying to be set on a copy of a slice from a DataFrame.\n",
      "Try using .loc[row_indexer,col_indexer] = value instead\n",
      "\n",
      "See the caveats in the documentation: https://pandas.pydata.org/pandas-docs/stable/user_guide/indexing.html#returning-a-view-versus-a-copy\n",
      "  Intcolumn[i]=np.where(Intcolumn[i]>=ul,ul,np.where(Intcolumn[i]<=ll,ll,Intcolumn[i]))\n"
     ]
    }
   ],
   "source": [
    "i=\"n_tweets_in_range\"\n",
    "ll25=Intcolumn[i].quantile(0.25)\n",
    "ul75=Intcolumn[i].quantile(0.75)\n",
    "iqr=ul75-ll25\n",
    "ul=ul75+(1.5*iqr)\n",
    "ll=ll25-(1.5*iqr)\n",
    "Intcolumn[i]=np.where(Intcolumn[i]>=ul,ul,np.where(Intcolumn[i]<=ll,ll,Intcolumn[i]))"
   ]
  },
  {
   "cell_type": "code",
   "execution_count": 382,
   "id": "14c4fd24",
   "metadata": {},
   "outputs": [
    {
     "data": {
      "text/plain": [
       "43.0"
      ]
     },
     "execution_count": 382,
     "metadata": {},
     "output_type": "execute_result"
    }
   ],
   "source": [
    "ul"
   ]
  },
  {
   "cell_type": "code",
   "execution_count": 390,
   "id": "13aa728e",
   "metadata": {},
   "outputs": [
    {
     "name": "stderr",
     "output_type": "stream",
     "text": [
      "/home/administrator/anaconda3/lib/python3.8/site-packages/seaborn/distributions.py:2557: FutureWarning: `distplot` is a deprecated function and will be removed in a future version. Please adapt your code to use either `displot` (a figure-level function with similar flexibility) or `histplot` (an axes-level function for histograms).\n",
      "  warnings.warn(msg, FutureWarning)\n"
     ]
    },
    {
     "data": {
      "text/plain": [
       "<AxesSubplot:xlabel='avg_likes', ylabel='Density'>"
      ]
     },
     "execution_count": 390,
     "metadata": {},
     "output_type": "execute_result"
    },
    {
     "data": {
      "image/png": "[encoded data removed]",
      "text/plain": [
       "<Figure size 432x288 with 1 Axes>"
      ]
     },
     "metadata": {
      "needs_background": "light"
     },
     "output_type": "display_data"
    }
   ],
   "source": [
    "sns.distplot(Intcolumn[\"avg_likes\"])"
   ]
  },
  {
   "cell_type": "code",
   "execution_count": 391,
   "id": "6ee21712",
   "metadata": {},
   "outputs": [
    {
     "data": {
      "text/plain": [
       "count    309910.000000\n",
       "mean         80.290716\n",
       "std         154.619275\n",
       "min           0.000000\n",
       "25%           2.000000\n",
       "50%           8.153846\n",
       "75%          60.888889\n",
       "max         707.875000\n",
       "Name: avg_likes, dtype: float64"
      ]
     },
     "execution_count": 391,
     "metadata": {},
     "output_type": "execute_result"
    }
   ],
   "source": [
    "Intcolumn[\"avg_likes\"].describe()"
   ]
  },
  {
   "cell_type": "code",
   "execution_count": 392,
   "id": "f6ca743a",
   "metadata": {},
   "outputs": [
    {
     "name": "stderr",
     "output_type": "stream",
     "text": [
      "/home/administrator/anaconda3/lib/python3.8/site-packages/seaborn/_decorators.py:36: FutureWarning: Pass the following variable as a keyword arg: x. From version 0.12, the only valid positional argument will be `data`, and passing other arguments without an explicit keyword will result in an error or misinterpretation.\n",
      "  warnings.warn(\n"
     ]
    },
    {
     "data": {
      "text/plain": [
       "<AxesSubplot:xlabel='avg_likes'>"
      ]
     },
     "execution_count": 392,
     "metadata": {},
     "output_type": "execute_result"
    },
    {
     "data": {
      "image/png": "[encoded data removed]",
      "text/plain": [
       "<Figure size 432x288 with 1 Axes>"
      ]
     },
     "metadata": {
      "needs_background": "light"
     },
     "output_type": "display_data"
    }
   ],
   "source": [
    "sns.boxplot(Intcolumn[\"avg_likes\"])"
   ]
  },
  {
   "cell_type": "code",
   "execution_count": 393,
   "id": "10c19712",
   "metadata": {},
   "outputs": [
    {
     "name": "stderr",
     "output_type": "stream",
     "text": [
      "<ipython-input-393-1fcfa8540381>:7: SettingWithCopyWarning: \n",
      "A value is trying to be set on a copy of a slice from a DataFrame.\n",
      "Try using .loc[row_indexer,col_indexer] = value instead\n",
      "\n",
      "See the caveats in the documentation: https://pandas.pydata.org/pandas-docs/stable/user_guide/indexing.html#returning-a-view-versus-a-copy\n",
      "  Intcolumn[i]=np.where(Intcolumn[i]>=ul,ul,np.where(Intcolumn[i]<=ll,ll,Intcolumn[i]))\n"
     ]
    }
   ],
   "source": [
    "i=\"avg_likes\"\n",
    "ll25=Intcolumn[i].quantile(0.25)\n",
    "ul75=Intcolumn[i].quantile(0.75)\n",
    "iqr=ul75-ll25\n",
    "ul=ul75+(1.5*iqr)\n",
    "ll=ll25-(1.5*iqr)\n",
    "Intcolumn[i]=np.where(Intcolumn[i]>=ul,ul,np.where(Intcolumn[i]<=ll,ll,Intcolumn[i]))"
   ]
  },
  {
   "cell_type": "code",
   "execution_count": 394,
   "id": "504a4844",
   "metadata": {},
   "outputs": [
    {
     "name": "stderr",
     "output_type": "stream",
     "text": [
      "/home/administrator/anaconda3/lib/python3.8/site-packages/seaborn/_decorators.py:36: FutureWarning: Pass the following variable as a keyword arg: x. From version 0.12, the only valid positional argument will be `data`, and passing other arguments without an explicit keyword will result in an error or misinterpretation.\n",
      "  warnings.warn(\n"
     ]
    },
    {
     "data": {
      "text/plain": [
       "<AxesSubplot:xlabel='avg_likes'>"
      ]
     },
     "execution_count": 394,
     "metadata": {},
     "output_type": "execute_result"
    },
    {
     "data": {
      "image/png": "[encoded data removed]",
      "text/plain": [
       "<Figure size 432x288 with 1 Axes>"
      ]
     },
     "metadata": {
      "needs_background": "light"
     },
     "output_type": "display_data"
    }
   ],
   "source": [
    "sns.boxplot(Intcolumn[\"avg_likes\"])"
   ]
  },
  {
   "cell_type": "code",
   "execution_count": 400,
   "id": "c3c6db3e",
   "metadata": {},
   "outputs": [
    {
     "data": {
      "text/plain": [
       "count    309910.000000\n",
       "mean         20.314344\n",
       "std          62.247978\n",
       "min           0.000000\n",
       "25%           0.200000\n",
       "50%           3.450000\n",
       "75%           8.500000\n",
       "max         353.400000\n",
       "Name: avg_replies, dtype: float64"
      ]
     },
     "execution_count": 400,
     "metadata": {},
     "output_type": "execute_result"
    }
   ],
   "source": [
    "Intcolumn[\"avg_replies\"].describe()"
   ]
  },
  {
   "cell_type": "code",
   "execution_count": 401,
   "id": "7dc38bb4",
   "metadata": {},
   "outputs": [
    {
     "name": "stderr",
     "output_type": "stream",
     "text": [
      "/home/administrator/anaconda3/lib/python3.8/site-packages/seaborn/_decorators.py:36: FutureWarning: Pass the following variable as a keyword arg: x. From version 0.12, the only valid positional argument will be `data`, and passing other arguments without an explicit keyword will result in an error or misinterpretation.\n",
      "  warnings.warn(\n"
     ]
    },
    {
     "data": {
      "text/plain": [
       "<AxesSubplot:xlabel='avg_replies'>"
      ]
     },
     "execution_count": 401,
     "metadata": {},
     "output_type": "execute_result"
    },
    {
     "data": {
      "image/png": "[encoded data removed]",
      "text/plain": [
       "<Figure size 432x288 with 1 Axes>"
      ]
     },
     "metadata": {
      "needs_background": "light"
     },
     "output_type": "display_data"
    }
   ],
   "source": [
    "sns.boxplot(Intcolumn[\"avg_replies\"])"
   ]
  },
  {
   "cell_type": "code",
   "execution_count": 402,
   "id": "dadc451c",
   "metadata": {},
   "outputs": [
    {
     "name": "stderr",
     "output_type": "stream",
     "text": [
      "<ipython-input-402-002c433a576b>:7: SettingWithCopyWarning: \n",
      "A value is trying to be set on a copy of a slice from a DataFrame.\n",
      "Try using .loc[row_indexer,col_indexer] = value instead\n",
      "\n",
      "See the caveats in the documentation: https://pandas.pydata.org/pandas-docs/stable/user_guide/indexing.html#returning-a-view-versus-a-copy\n",
      "  Intcolumn[i]=np.where(Intcolumn[i]>=ul,ul,np.where(Intcolumn[i]<=ll,ll,Intcolumn[i]))\n"
     ]
    }
   ],
   "source": [
    "i=\"avg_replies\"\n",
    "ll25=Intcolumn[i].quantile(0.25)\n",
    "ul75=Intcolumn[i].quantile(0.75)\n",
    "iqr=ul75-ll25\n",
    "ul=ul75+(1.5*iqr)\n",
    "ll=ll25-(1.5*iqr)\n",
    "Intcolumn[i]=np.where(Intcolumn[i]>=ul,ul,np.where(Intcolumn[i]<=ll,ll,Intcolumn[i]))"
   ]
  },
  {
   "cell_type": "code",
   "execution_count": 408,
   "id": "f3ca831a",
   "metadata": {},
   "outputs": [
    {
     "data": {
      "text/plain": [
       "count    309910.000000\n",
       "mean         41.940726\n",
       "std          83.335786\n",
       "min           0.000000\n",
       "25%           1.153846\n",
       "50%           8.166667\n",
       "75%          55.181818\n",
       "max         442.000000\n",
       "Name: avg_retweets, dtype: float64"
      ]
     },
     "execution_count": 408,
     "metadata": {},
     "output_type": "execute_result"
    }
   ],
   "source": [
    "Intcolumn[\"avg_retweets\"].describe()"
   ]
  },
  {
   "cell_type": "code",
   "execution_count": 409,
   "id": "f7e22a0e",
   "metadata": {},
   "outputs": [
    {
     "name": "stderr",
     "output_type": "stream",
     "text": [
      "/home/administrator/anaconda3/lib/python3.8/site-packages/seaborn/_decorators.py:36: FutureWarning: Pass the following variable as a keyword arg: x. From version 0.12, the only valid positional argument will be `data`, and passing other arguments without an explicit keyword will result in an error or misinterpretation.\n",
      "  warnings.warn(\n"
     ]
    },
    {
     "data": {
      "text/plain": [
       "<AxesSubplot:xlabel='avg_retweets'>"
      ]
     },
     "execution_count": 409,
     "metadata": {},
     "output_type": "execute_result"
    },
    {
     "data": {
      "image/png": "[encoded data removed]",
      "text/plain": [
       "<Figure size 432x288 with 1 Axes>"
      ]
     },
     "metadata": {
      "needs_background": "light"
     },
     "output_type": "display_data"
    }
   ],
   "source": [
    "sns.boxplot(Intcolumn[\"avg_retweets\"])"
   ]
  },
  {
   "cell_type": "code",
   "execution_count": 410,
   "id": "9f65abd5",
   "metadata": {},
   "outputs": [
    {
     "name": "stderr",
     "output_type": "stream",
     "text": [
      "<ipython-input-410-8bfdaabb715d>:7: SettingWithCopyWarning: \n",
      "A value is trying to be set on a copy of a slice from a DataFrame.\n",
      "Try using .loc[row_indexer,col_indexer] = value instead\n",
      "\n",
      "See the caveats in the documentation: https://pandas.pydata.org/pandas-docs/stable/user_guide/indexing.html#returning-a-view-versus-a-copy\n",
      "  Intcolumn[i]=np.where(Intcolumn[i]>=ul,ul,np.where(Intcolumn[i]<=ll,ll,Intcolumn[i]))\n"
     ]
    }
   ],
   "source": [
    "i=\"avg_retweets\"\n",
    "ll25=Intcolumn[i].quantile(0.25)\n",
    "ul75=Intcolumn[i].quantile(0.75)\n",
    "iqr=ul75-ll25\n",
    "ul=ul75+(1.5*iqr)\n",
    "ll=ll25-(1.5*iqr)\n",
    "Intcolumn[i]=np.where(Intcolumn[i]>=ul,ul,np.where(Intcolumn[i]<=ll,ll,Intcolumn[i]))"
   ]
  },
  {
   "cell_type": "code",
   "execution_count": 416,
   "id": "c3c7e692",
   "metadata": {},
   "outputs": [
    {
     "data": {
      "text/plain": [
       "136.2237762237762"
      ]
     },
     "execution_count": 416,
     "metadata": {},
     "output_type": "execute_result"
    }
   ],
   "source": [
    "ul"
   ]
  },
  {
   "cell_type": "code",
   "execution_count": 417,
   "id": "fe2afd59",
   "metadata": {},
   "outputs": [
    {
     "data": {
      "text/plain": [
       "count    309910.000000\n",
       "mean         12.595537\n",
       "std          33.550405\n",
       "min           0.000000\n",
       "25%           0.000000\n",
       "50%           0.000000\n",
       "75%           2.000000\n",
       "max         236.000000\n",
       "Name: min_likes, dtype: float64"
      ]
     },
     "execution_count": 417,
     "metadata": {},
     "output_type": "execute_result"
    }
   ],
   "source": [
    "Intcolumn[\"min_likes\"].describe()"
   ]
  },
  {
   "cell_type": "code",
   "execution_count": 418,
   "id": "70c2368a",
   "metadata": {},
   "outputs": [
    {
     "name": "stderr",
     "output_type": "stream",
     "text": [
      "/home/administrator/anaconda3/lib/python3.8/site-packages/seaborn/_decorators.py:36: FutureWarning: Pass the following variable as a keyword arg: x. From version 0.12, the only valid positional argument will be `data`, and passing other arguments without an explicit keyword will result in an error or misinterpretation.\n",
      "  warnings.warn(\n"
     ]
    },
    {
     "data": {
      "text/plain": [
       "<AxesSubplot:xlabel='min_likes'>"
      ]
     },
     "execution_count": 418,
     "metadata": {},
     "output_type": "execute_result"
    },
    {
     "data": {
      "image/png": "[encoded data removed]",
      "text/plain": [
       "<Figure size 432x288 with 1 Axes>"
      ]
     },
     "metadata": {
      "needs_background": "light"
     },
     "output_type": "display_data"
    }
   ],
   "source": [
    "sns.boxplot(Intcolumn[\"min_likes\"])"
   ]
  },
  {
   "cell_type": "code",
   "execution_count": 419,
   "id": "65819f87",
   "metadata": {},
   "outputs": [
    {
     "name": "stderr",
     "output_type": "stream",
     "text": [
      "<ipython-input-419-504118f59654>:7: SettingWithCopyWarning: \n",
      "A value is trying to be set on a copy of a slice from a DataFrame.\n",
      "Try using .loc[row_indexer,col_indexer] = value instead\n",
      "\n",
      "See the caveats in the documentation: https://pandas.pydata.org/pandas-docs/stable/user_guide/indexing.html#returning-a-view-versus-a-copy\n",
      "  Intcolumn[i]=np.where(Intcolumn[i]>=ul,ul,np.where(Intcolumn[i]<=ll,ll,Intcolumn[i]))\n"
     ]
    }
   ],
   "source": [
    "i=\"min_likes\"\n",
    "ll25=Intcolumn[i].quantile(0.25)\n",
    "ul75=Intcolumn[i].quantile(0.75)\n",
    "iqr=ul75-ll25\n",
    "ul=ul75+(1.5*iqr)\n",
    "ll=ll25-(1.5*iqr)\n",
    "Intcolumn[i]=np.where(Intcolumn[i]>=ul,ul,np.where(Intcolumn[i]<=ll,ll,Intcolumn[i]))"
   ]
  },
  {
   "cell_type": "code",
   "execution_count": 425,
   "id": "54fd3df4",
   "metadata": {},
   "outputs": [
    {
     "data": {
      "text/plain": [
       "count    309910.000000\n",
       "mean          3.651638\n",
       "std          11.718088\n",
       "min           0.000000\n",
       "25%           0.000000\n",
       "50%           0.000000\n",
       "75%           0.000000\n",
       "max          52.000000\n",
       "Name: min_replies, dtype: float64"
      ]
     },
     "execution_count": 425,
     "metadata": {},
     "output_type": "execute_result"
    }
   ],
   "source": [
    "Intcolumn[\"min_replies\"].describe()"
   ]
  },
  {
   "cell_type": "code",
   "execution_count": 426,
   "id": "060d5bca",
   "metadata": {},
   "outputs": [
    {
     "name": "stderr",
     "output_type": "stream",
     "text": [
      "<ipython-input-426-49b8b8b4f3c0>:7: SettingWithCopyWarning: \n",
      "A value is trying to be set on a copy of a slice from a DataFrame.\n",
      "Try using .loc[row_indexer,col_indexer] = value instead\n",
      "\n",
      "See the caveats in the documentation: https://pandas.pydata.org/pandas-docs/stable/user_guide/indexing.html#returning-a-view-versus-a-copy\n",
      "  Intcolumn[i]=np.where(Intcolumn[i]>=ul,ul,np.where(Intcolumn[i]<=ll,ll,Intcolumn[i]))\n"
     ]
    }
   ],
   "source": [
    "i=\"min_replies\"\n",
    "ll25=Intcolumn[i].quantile(0.25)\n",
    "ul75=Intcolumn[i].quantile(0.75)\n",
    "iqr=ul75-ll25\n",
    "ul=ul75+(1.5*iqr)\n",
    "ll=ll25-(1.5*iqr)\n",
    "Intcolumn[i]=np.where(Intcolumn[i]>=ul,ul,np.where(Intcolumn[i]<=ll,ll,Intcolumn[i]))"
   ]
  },
  {
   "cell_type": "code",
   "execution_count": 432,
   "id": "e00df1fb",
   "metadata": {},
   "outputs": [
    {
     "data": {
      "text/plain": [
       "count    309910.000000\n",
       "mean          6.576667\n",
       "std          11.328149\n",
       "min           0.000000\n",
       "25%           0.000000\n",
       "50%           1.000000\n",
       "75%           6.000000\n",
       "max          46.000000\n",
       "Name: min_retweets, dtype: float64"
      ]
     },
     "execution_count": 432,
     "metadata": {},
     "output_type": "execute_result"
    }
   ],
   "source": [
    "Intcolumn[\"min_retweets\"].describe()"
   ]
  },
  {
   "cell_type": "code",
   "execution_count": 433,
   "id": "ce82227b",
   "metadata": {},
   "outputs": [
    {
     "name": "stderr",
     "output_type": "stream",
     "text": [
      "<ipython-input-433-6421c3f0063d>:7: SettingWithCopyWarning: \n",
      "A value is trying to be set on a copy of a slice from a DataFrame.\n",
      "Try using .loc[row_indexer,col_indexer] = value instead\n",
      "\n",
      "See the caveats in the documentation: https://pandas.pydata.org/pandas-docs/stable/user_guide/indexing.html#returning-a-view-versus-a-copy\n",
      "  Intcolumn[i]=np.where(Intcolumn[i]>=ul,ul,np.where(Intcolumn[i]<=ll,ll,Intcolumn[i]))\n"
     ]
    }
   ],
   "source": [
    "i=\"min_retweets\"\n",
    "ll25=Intcolumn[i].quantile(0.25)\n",
    "ul75=Intcolumn[i].quantile(0.75)\n",
    "iqr=ul75-ll25\n",
    "ul=ul75+(1.5*iqr)\n",
    "ll=ll25-(1.5*iqr)\n",
    "Intcolumn[i]=np.where(Intcolumn[i]>=ul,ul,np.where(Intcolumn[i]<=ll,ll,Intcolumn[i]))"
   ]
  },
  {
   "cell_type": "code",
   "execution_count": 439,
   "id": "46fb63cd",
   "metadata": {},
   "outputs": [
    {
     "name": "stderr",
     "output_type": "stream",
     "text": [
      "/home/administrator/anaconda3/lib/python3.8/site-packages/seaborn/_decorators.py:36: FutureWarning: Pass the following variable as a keyword arg: x. From version 0.12, the only valid positional argument will be `data`, and passing other arguments without an explicit keyword will result in an error or misinterpretation.\n",
      "  warnings.warn(\n"
     ]
    },
    {
     "data": {
      "text/plain": [
       "<AxesSubplot:xlabel='min_retweets'>"
      ]
     },
     "execution_count": 439,
     "metadata": {},
     "output_type": "execute_result"
    },
    {
     "data": {
      "image/png": "[encoded data removed]",
      "text/plain": [
       "<Figure size 432x288 with 1 Axes>"
      ]
     },
     "metadata": {
      "needs_background": "light"
     },
     "output_type": "display_data"
    }
   ],
   "source": [
    "sns.boxplot(Intcolumn[\"min_retweets\"])"
   ]
  },
  {
   "cell_type": "code",
   "execution_count": 441,
   "id": "ebd75527",
   "metadata": {},
   "outputs": [
    {
     "name": "stderr",
     "output_type": "stream",
     "text": [
      "/home/administrator/anaconda3/lib/python3.8/site-packages/seaborn/_decorators.py:36: FutureWarning: Pass the following variable as a keyword arg: x. From version 0.12, the only valid positional argument will be `data`, and passing other arguments without an explicit keyword will result in an error or misinterpretation.\n",
      "  warnings.warn(\n"
     ]
    },
    {
     "data": {
      "text/plain": [
       "<AxesSubplot:xlabel='max_likes'>"
      ]
     },
     "execution_count": 441,
     "metadata": {},
     "output_type": "execute_result"
    },
    {
     "data": {
      "image/png": "[encoded data removed]",
      "text/plain": [
       "<Figure size 432x288 with 1 Axes>"
      ]
     },
     "metadata": {
      "needs_background": "light"
     },
     "output_type": "display_data"
    }
   ],
   "source": [
    "sns.boxplot(Intcolumn[\"max_likes\"])"
   ]
  },
  {
   "cell_type": "code",
   "execution_count": 442,
   "id": "f2f343e6",
   "metadata": {},
   "outputs": [
    {
     "data": {
      "text/plain": [
       "count    309910.000000\n",
       "mean        304.933981\n",
       "std         898.138000\n",
       "min           0.000000\n",
       "25%           5.000000\n",
       "50%          30.000000\n",
       "75%         202.000000\n",
       "max        5079.000000\n",
       "Name: max_likes, dtype: float64"
      ]
     },
     "execution_count": 442,
     "metadata": {},
     "output_type": "execute_result"
    }
   ],
   "source": [
    "Intcolumn[\"max_likes\"].describe()"
   ]
  },
  {
   "cell_type": "code",
   "execution_count": 443,
   "id": "67eafd04",
   "metadata": {},
   "outputs": [
    {
     "name": "stderr",
     "output_type": "stream",
     "text": [
      "<ipython-input-443-29677e1099eb>:7: SettingWithCopyWarning: \n",
      "A value is trying to be set on a copy of a slice from a DataFrame.\n",
      "Try using .loc[row_indexer,col_indexer] = value instead\n",
      "\n",
      "See the caveats in the documentation: https://pandas.pydata.org/pandas-docs/stable/user_guide/indexing.html#returning-a-view-versus-a-copy\n",
      "  Intcolumn[i]=np.where(Intcolumn[i]>=ul,ul,np.where(Intcolumn[i]<=ll,ll,Intcolumn[i]))\n"
     ]
    }
   ],
   "source": [
    "i=\"max_likes\"\n",
    "ll25=Intcolumn[i].quantile(0.25)\n",
    "ul75=Intcolumn[i].quantile(0.75)\n",
    "iqr=ul75-ll25\n",
    "ul=ul75+(1.5*iqr)\n",
    "ll=ll25-(1.5*iqr)\n",
    "Intcolumn[i]=np.where(Intcolumn[i]>=ul,ul,np.where(Intcolumn[i]<=ll,ll,Intcolumn[i]))"
   ]
  },
  {
   "cell_type": "code",
   "execution_count": 449,
   "id": "6e51113b",
   "metadata": {},
   "outputs": [
    {
     "data": {
      "text/plain": [
       "count    309910.000000\n",
       "mean        107.703885\n",
       "std         445.353597\n",
       "min           0.000000\n",
       "25%           1.000000\n",
       "50%           7.000000\n",
       "75%          47.000000\n",
       "max        2601.000000\n",
       "Name: max_replies, dtype: float64"
      ]
     },
     "execution_count": 449,
     "metadata": {},
     "output_type": "execute_result"
    }
   ],
   "source": [
    "Intcolumn[\"max_replies\"].describe()"
   ]
  },
  {
   "cell_type": "code",
   "execution_count": 450,
   "id": "607b4b1a",
   "metadata": {},
   "outputs": [
    {
     "name": "stderr",
     "output_type": "stream",
     "text": [
      "<ipython-input-450-085bed6261e4>:7: SettingWithCopyWarning: \n",
      "A value is trying to be set on a copy of a slice from a DataFrame.\n",
      "Try using .loc[row_indexer,col_indexer] = value instead\n",
      "\n",
      "See the caveats in the documentation: https://pandas.pydata.org/pandas-docs/stable/user_guide/indexing.html#returning-a-view-versus-a-copy\n",
      "  Intcolumn[i]=np.where(Intcolumn[i]>=ul,ul,np.where(Intcolumn[i]<=ll,ll,Intcolumn[i]))\n"
     ]
    }
   ],
   "source": [
    "i=\"max_replies\"\n",
    "ll25=Intcolumn[i].quantile(0.25)\n",
    "ul75=Intcolumn[i].quantile(0.75)\n",
    "iqr=ul75-ll25\n",
    "ul=ul75+(1.5*iqr)\n",
    "ll=ll25-(1.5*iqr)\n",
    "Intcolumn[i]=np.where(Intcolumn[i]>=ul,ul,np.where(Intcolumn[i]<=ll,ll,Intcolumn[i]))"
   ]
  },
  {
   "cell_type": "code",
   "execution_count": 456,
   "id": "3ec3d803",
   "metadata": {},
   "outputs": [
    {
     "data": {
      "text/plain": [
       "count    309910.000000\n",
       "mean        190.700142\n",
       "std         523.418690\n",
       "min           0.000000\n",
       "25%           5.000000\n",
       "50%          34.000000\n",
       "75%         131.000000\n",
       "max        2990.000000\n",
       "Name: max_retweets, dtype: float64"
      ]
     },
     "execution_count": 456,
     "metadata": {},
     "output_type": "execute_result"
    }
   ],
   "source": [
    "Intcolumn[\"max_retweets\"].describe()"
   ]
  },
  {
   "cell_type": "code",
   "execution_count": 457,
   "id": "1a14cddf",
   "metadata": {},
   "outputs": [
    {
     "name": "stderr",
     "output_type": "stream",
     "text": [
      "<ipython-input-457-d0dafd0d8d46>:7: SettingWithCopyWarning: \n",
      "A value is trying to be set on a copy of a slice from a DataFrame.\n",
      "Try using .loc[row_indexer,col_indexer] = value instead\n",
      "\n",
      "See the caveats in the documentation: https://pandas.pydata.org/pandas-docs/stable/user_guide/indexing.html#returning-a-view-versus-a-copy\n",
      "  Intcolumn[i]=np.where(Intcolumn[i]>=ul,ul,np.where(Intcolumn[i]<=ll,ll,Intcolumn[i]))\n"
     ]
    }
   ],
   "source": [
    "i=\"max_retweets\"\n",
    "ll25=Intcolumn[i].quantile(0.25)\n",
    "ul75=Intcolumn[i].quantile(0.75)\n",
    "iqr=ul75-ll25\n",
    "ul=ul75+(1.5*iqr)\n",
    "ll=ll25-(1.5*iqr)\n",
    "Intcolumn[i]=np.where(Intcolumn[i]>=ul,ul,np.where(Intcolumn[i]<=ll,ll,Intcolumn[i]))"
   ]
  },
  {
   "cell_type": "code",
   "execution_count": 464,
   "id": "fc23df15",
   "metadata": {},
   "outputs": [
    {
     "name": "stderr",
     "output_type": "stream",
     "text": [
      "/home/administrator/anaconda3/lib/python3.8/site-packages/seaborn/_decorators.py:36: FutureWarning: Pass the following variable as a keyword arg: x. From version 0.12, the only valid positional argument will be `data`, and passing other arguments without an explicit keyword will result in an error or misinterpretation.\n",
      "  warnings.warn(\n"
     ]
    },
    {
     "data": {
      "text/plain": [
       "<AxesSubplot:xlabel='nft_id'>"
      ]
     },
     "execution_count": 464,
     "metadata": {},
     "output_type": "execute_result"
    },
    {
     "data": {
      "image/png": "[encoded data removed]",
      "text/plain": [
       "<Figure size 432x288 with 1 Axes>"
      ]
     },
     "metadata": {
      "needs_background": "light"
     },
     "output_type": "display_data"
    }
   ],
   "source": [
    "sns.boxplot(Intcolumn[\"nft_id\"])"
   ]
  },
  {
   "cell_type": "code",
   "execution_count": 465,
   "id": "683349ab",
   "metadata": {},
   "outputs": [
    {
     "data": {
      "text/plain": [
       "count    309910.000000\n",
       "mean       6738.162024\n",
       "std        5977.542096\n",
       "min           0.000000\n",
       "25%        2453.000000\n",
       "50%        5138.000000\n",
       "75%        8720.750000\n",
       "max       29898.000000\n",
       "Name: nft_id, dtype: float64"
      ]
     },
     "execution_count": 465,
     "metadata": {},
     "output_type": "execute_result"
    }
   ],
   "source": [
    "Intcolumn[\"nft_id\"].describe()"
   ]
  },
  {
   "cell_type": "code",
   "execution_count": 467,
   "id": "e59cd685",
   "metadata": {},
   "outputs": [
    {
     "name": "stderr",
     "output_type": "stream",
     "text": [
      "<ipython-input-467-5286ebcf71f3>:7: SettingWithCopyWarning: \n",
      "A value is trying to be set on a copy of a slice from a DataFrame.\n",
      "Try using .loc[row_indexer,col_indexer] = value instead\n",
      "\n",
      "See the caveats in the documentation: https://pandas.pydata.org/pandas-docs/stable/user_guide/indexing.html#returning-a-view-versus-a-copy\n",
      "  Intcolumn[i]=np.where(Intcolumn[i]>=ul,ul,np.where(Intcolumn[i]<=ll,ll,Intcolumn[i]))\n"
     ]
    }
   ],
   "source": [
    "i=\"nft_id\"\n",
    "ll25=Intcolumn[i].quantile(0.25)\n",
    "ul75=Intcolumn[i].quantile(0.75)\n",
    "iqr=ul75-ll25\n",
    "ul=ul75+(1.5*iqr)\n",
    "ll=ll25-(1.5*iqr)\n",
    "Intcolumn[i]=np.where(Intcolumn[i]>=ul,ul,np.where(Intcolumn[i]<=ll,ll,Intcolumn[i]))"
   ]
  },
  {
   "cell_type": "code",
   "execution_count": 473,
   "id": "7d4c9042",
   "metadata": {},
   "outputs": [
    {
     "data": {
      "text/plain": [
       "count    309910.000000\n",
       "mean       1437.092531\n",
       "std        4303.585892\n",
       "min           1.000000\n",
       "25%         106.587184\n",
       "50%         170.797030\n",
       "75%         289.614129\n",
       "max       90354.072248\n",
       "Name: rarity_score, dtype: float64"
      ]
     },
     "execution_count": 473,
     "metadata": {},
     "output_type": "execute_result"
    }
   ],
   "source": [
    "Intcolumn[\"rarity_score\"].describe()"
   ]
  },
  {
   "cell_type": "code",
   "execution_count": 474,
   "id": "35c2d1b2",
   "metadata": {},
   "outputs": [
    {
     "name": "stderr",
     "output_type": "stream",
     "text": [
      "/home/administrator/anaconda3/lib/python3.8/site-packages/seaborn/distributions.py:2557: FutureWarning: `distplot` is a deprecated function and will be removed in a future version. Please adapt your code to use either `displot` (a figure-level function with similar flexibility) or `histplot` (an axes-level function for histograms).\n",
      "  warnings.warn(msg, FutureWarning)\n"
     ]
    },
    {
     "data": {
      "text/plain": [
       "<AxesSubplot:xlabel='rarity_score', ylabel='Density'>"
      ]
     },
     "execution_count": 474,
     "metadata": {},
     "output_type": "execute_result"
    },
    {
     "data": {
      "image/png": "[encoded data removed]",
      "text/plain": [
       "<Figure size 432x288 with 1 Axes>"
      ]
     },
     "metadata": {
      "needs_background": "light"
     },
     "output_type": "display_data"
    }
   ],
   "source": [
    "sns.distplot(Intcolumn[\"rarity_score\"])"
   ]
  },
  {
   "cell_type": "code",
   "execution_count": 475,
   "id": "98553c50",
   "metadata": {},
   "outputs": [
    {
     "name": "stderr",
     "output_type": "stream",
     "text": [
      "/home/administrator/anaconda3/lib/python3.8/site-packages/seaborn/_decorators.py:36: FutureWarning: Pass the following variable as a keyword arg: x. From version 0.12, the only valid positional argument will be `data`, and passing other arguments without an explicit keyword will result in an error or misinterpretation.\n",
      "  warnings.warn(\n"
     ]
    },
    {
     "data": {
      "text/plain": [
       "<AxesSubplot:xlabel='rarity_score'>"
      ]
     },
     "execution_count": 475,
     "metadata": {},
     "output_type": "execute_result"
    },
    {
     "data": {
      "image/png": "[encoded data removed]",
      "text/plain": [
       "<Figure size 432x288 with 1 Axes>"
      ]
     },
     "metadata": {
      "needs_background": "light"
     },
     "output_type": "display_data"
    }
   ],
   "source": [
    "sns.boxplot(Intcolumn[\"rarity_score\"])"
   ]
  },
  {
   "cell_type": "code",
   "execution_count": 476,
   "id": "b198a01a",
   "metadata": {},
   "outputs": [
    {
     "name": "stderr",
     "output_type": "stream",
     "text": [
      "<ipython-input-476-49dc071d4de2>:7: SettingWithCopyWarning: \n",
      "A value is trying to be set on a copy of a slice from a DataFrame.\n",
      "Try using .loc[row_indexer,col_indexer] = value instead\n",
      "\n",
      "See the caveats in the documentation: https://pandas.pydata.org/pandas-docs/stable/user_guide/indexing.html#returning-a-view-versus-a-copy\n",
      "  Intcolumn[i]=np.where(Intcolumn[i]>=ul,ul,np.where(Intcolumn[i]<=ll,ll,Intcolumn[i]))\n"
     ]
    }
   ],
   "source": [
    "i=\"rarity_score\"\n",
    "ll25=Intcolumn[i].quantile(0.25)\n",
    "ul75=Intcolumn[i].quantile(0.75)\n",
    "iqr=ul75-ll25\n",
    "ul=ul75+(1.5*iqr)\n",
    "ll=ll25-(1.5*iqr)\n",
    "Intcolumn[i]=np.where(Intcolumn[i]>=ul,ul,np.where(Intcolumn[i]<=ll,ll,Intcolumn[i]))"
   ]
  },
  {
   "cell_type": "code",
   "execution_count": 528,
   "id": "72e26b87",
   "metadata": {},
   "outputs": [
    {
     "data": {
      "text/plain": [
       "collection_id         -0.118710\n",
       "total_supply          -0.081918\n",
       "n_of_traits           -0.116099\n",
       "seller_fees           -0.217513\n",
       "platform_fees               NaN\n",
       "openrarity_enabled    -0.018842\n",
       "has_website                 NaN\n",
       "has_own_twitter             NaN\n",
       "has_discord            0.108122\n",
       "has_medium            -0.033832\n",
       "n_tweets_in_range     -0.024425\n",
       "avg_likes             -0.008764\n",
       "avg_replies           -0.016777\n",
       "avg_retweets           0.268235\n",
       "min_likes             -0.028513\n",
       "min_replies                 NaN\n",
       "min_retweets           0.272881\n",
       "max_likes              0.003155\n",
       "max_replies           -0.010179\n",
       "max_retweets           0.301881\n",
       "global_index          -0.096667\n",
       "nft_id                -0.054077\n",
       "rarity_score          -0.053918\n",
       "openrarity_score       0.004893\n",
       "openrarity_rank       -0.017176\n",
       "openrarity_max_rank   -0.024517\n",
       "last_sale_price        1.000000\n",
       "Name: last_sale_price, dtype: float64"
      ]
     },
     "execution_count": 528,
     "metadata": {},
     "output_type": "execute_result"
    }
   ],
   "source": [
    "Intcolumn.corr()[\"last_sale_price\"]"
   ]
  },
  {
   "cell_type": "code",
   "execution_count": null,
   "id": "583bbf92",
   "metadata": {},
   "outputs": [],
   "source": [
    "[rarity_score,min_replies]"
   ]
  },
  {
   "cell_type": "code",
   "execution_count": 488,
   "id": "a200e717",
   "metadata": {},
   "outputs": [
    {
     "data": {
      "text/plain": [
       "count    309910.000000\n",
       "mean          0.983927\n",
       "std           0.078458\n",
       "min           0.626738\n",
       "25%           0.978289\n",
       "50%           0.978289\n",
       "75%           0.978289\n",
       "max           3.663833\n",
       "Name: openrarity_score, dtype: float64"
      ]
     },
     "execution_count": 488,
     "metadata": {},
     "output_type": "execute_result"
    }
   ],
   "source": [
    "Intcolumn[\"openrarity_score\"].describe()"
   ]
  },
  {
   "cell_type": "code",
   "execution_count": 489,
   "id": "2b4a3186",
   "metadata": {},
   "outputs": [
    {
     "name": "stderr",
     "output_type": "stream",
     "text": [
      "/home/administrator/anaconda3/lib/python3.8/site-packages/seaborn/distributions.py:2557: FutureWarning: `distplot` is a deprecated function and will be removed in a future version. Please adapt your code to use either `displot` (a figure-level function with similar flexibility) or `histplot` (an axes-level function for histograms).\n",
      "  warnings.warn(msg, FutureWarning)\n"
     ]
    },
    {
     "data": {
      "text/plain": [
       "<AxesSubplot:xlabel='openrarity_score', ylabel='Density'>"
      ]
     },
     "execution_count": 489,
     "metadata": {},
     "output_type": "execute_result"
    },
    {
     "data": {
      "image/png": "[encoded data removed]",
      "text/plain": [
       "<Figure size 432x288 with 1 Axes>"
      ]
     },
     "metadata": {
      "needs_background": "light"
     },
     "output_type": "display_data"
    }
   ],
   "source": [
    "sns.distplot(Intcolumn[\"openrarity_score\"])"
   ]
  },
  {
   "cell_type": "code",
   "execution_count": 507,
   "id": "164b1167",
   "metadata": {},
   "outputs": [
    {
     "name": "stderr",
     "output_type": "stream",
     "text": [
      "/home/administrator/anaconda3/lib/python3.8/site-packages/seaborn/_decorators.py:36: FutureWarning: Pass the following variable as a keyword arg: x. From version 0.12, the only valid positional argument will be `data`, and passing other arguments without an explicit keyword will result in an error or misinterpretation.\n",
      "  warnings.warn(\n"
     ]
    },
    {
     "data": {
      "text/plain": [
       "<AxesSubplot:xlabel='openrarity_score'>"
      ]
     },
     "execution_count": 507,
     "metadata": {},
     "output_type": "execute_result"
    },
    {
     "data": {
      "image/png": "[encoded data removed]",
      "text/plain": [
       "<Figure size 432x288 with 1 Axes>"
      ]
     },
     "metadata": {
      "needs_background": "light"
     },
     "output_type": "display_data"
    }
   ],
   "source": [
    "sns.boxplot(Intcolumn[\"openrarity_score\"])"
   ]
  },
  {
   "cell_type": "code",
   "execution_count": 505,
   "id": "6b2e02af",
   "metadata": {},
   "outputs": [],
   "source": [
    "hCore=(Intcolumn[\"openrarity_score\"].mean())+(3*Intcolumn[\"openrarity_score\"].std())\n",
    "lCore=(Intcolumn[\"openrarity_score\"].mean())-(3*Intcolumn[\"openrarity_score\"].std())"
   ]
  },
  {
   "cell_type": "code",
   "execution_count": 506,
   "id": "a33aa554",
   "metadata": {},
   "outputs": [
    {
     "name": "stderr",
     "output_type": "stream",
     "text": [
      "<ipython-input-506-dd0a855bdca8>:1: SettingWithCopyWarning: \n",
      "A value is trying to be set on a copy of a slice from a DataFrame.\n",
      "Try using .loc[row_indexer,col_indexer] = value instead\n",
      "\n",
      "See the caveats in the documentation: https://pandas.pydata.org/pandas-docs/stable/user_guide/indexing.html#returning-a-view-versus-a-copy\n",
      "  Intcolumn[\"openrarity_score\"]=np.where(Intcolumn[\"openrarity_score\"]>=hCore,\n"
     ]
    }
   ],
   "source": [
    "Intcolumn[\"openrarity_score\"]=np.where(Intcolumn[\"openrarity_score\"]>=hCore,\n",
    "         hCore,\n",
    "         np.where(Intcolumn[\"openrarity_score\"]<=lCore,\n",
    "         lCore,\n",
    "         Intcolumn[\"openrarity_score\"]))"
   ]
  },
  {
   "cell_type": "code",
   "execution_count": 514,
   "id": "5f2c393e",
   "metadata": {},
   "outputs": [
    {
     "data": {
      "text/plain": [
       "count    309910.000000\n",
       "mean       5630.164737\n",
       "std        1942.636517\n",
       "min           1.000000\n",
       "25%        5630.164737\n",
       "50%        5630.164737\n",
       "75%        5630.164737\n",
       "max       15555.000000\n",
       "Name: openrarity_rank, dtype: float64"
      ]
     },
     "execution_count": 514,
     "metadata": {},
     "output_type": "execute_result"
    }
   ],
   "source": [
    "Intcolumn[\"openrarity_rank\"].describe()"
   ]
  },
  {
   "cell_type": "code",
   "execution_count": 515,
   "id": "176ffc4b",
   "metadata": {},
   "outputs": [
    {
     "name": "stderr",
     "output_type": "stream",
     "text": [
      "/home/administrator/anaconda3/lib/python3.8/site-packages/seaborn/_decorators.py:36: FutureWarning: Pass the following variable as a keyword arg: x. From version 0.12, the only valid positional argument will be `data`, and passing other arguments without an explicit keyword will result in an error or misinterpretation.\n",
      "  warnings.warn(\n"
     ]
    },
    {
     "data": {
      "text/plain": [
       "<AxesSubplot:xlabel='openrarity_rank'>"
      ]
     },
     "execution_count": 515,
     "metadata": {},
     "output_type": "execute_result"
    },
    {
     "data": {
      "image/png": "[encoded data removed]",
      "text/plain": [
       "<Figure size 432x288 with 1 Axes>"
      ]
     },
     "metadata": {
      "needs_background": "light"
     },
     "output_type": "display_data"
    }
   ],
   "source": [
    "sns.boxplot(Intcolumn[\"openrarity_rank\"])"
   ]
  },
  {
   "cell_type": "code",
   "execution_count": 516,
   "id": "dcd6f6d2",
   "metadata": {},
   "outputs": [
    {
     "name": "stderr",
     "output_type": "stream",
     "text": [
      "/home/administrator/anaconda3/lib/python3.8/site-packages/seaborn/distributions.py:2557: FutureWarning: `distplot` is a deprecated function and will be removed in a future version. Please adapt your code to use either `displot` (a figure-level function with similar flexibility) or `histplot` (an axes-level function for histograms).\n",
      "  warnings.warn(msg, FutureWarning)\n"
     ]
    },
    {
     "data": {
      "text/plain": [
       "<AxesSubplot:xlabel='openrarity_rank', ylabel='Density'>"
      ]
     },
     "execution_count": 516,
     "metadata": {},
     "output_type": "execute_result"
    },
    {
     "data": {
      "image/png": "[encoded data removed]",
      "text/plain": [
       "<Figure size 432x288 with 1 Axes>"
      ]
     },
     "metadata": {
      "needs_background": "light"
     },
     "output_type": "display_data"
    }
   ],
   "source": [
    "sns.distplot(Intcolumn[\"openrarity_rank\"])"
   ]
  },
  {
   "cell_type": "code",
   "execution_count": 517,
   "id": "cb49c0b5",
   "metadata": {},
   "outputs": [
    {
     "name": "stderr",
     "output_type": "stream",
     "text": [
      "/home/administrator/anaconda3/lib/python3.8/site-packages/seaborn/distributions.py:2557: FutureWarning: `distplot` is a deprecated function and will be removed in a future version. Please adapt your code to use either `displot` (a figure-level function with similar flexibility) or `histplot` (an axes-level function for histograms).\n",
      "  warnings.warn(msg, FutureWarning)\n"
     ]
    },
    {
     "data": {
      "text/plain": [
       "<AxesSubplot:xlabel='openrarity_rank', ylabel='Density'>"
      ]
     },
     "execution_count": 517,
     "metadata": {},
     "output_type": "execute_result"
    },
    {
     "data": {
      "image/png": "[encoded data removed]",
      "text/plain": [
       "<Figure size 432x288 with 1 Axes>"
      ]
     },
     "metadata": {
      "needs_background": "light"
     },
     "output_type": "display_data"
    }
   ],
   "source": [
    "sns.distplot(train_data[\"openrarity_rank\"])"
   ]
  },
  {
   "cell_type": "code",
   "execution_count": 520,
   "id": "5e138807",
   "metadata": {},
   "outputs": [
    {
     "name": "stderr",
     "output_type": "stream",
     "text": [
      "/home/administrator/anaconda3/lib/python3.8/site-packages/seaborn/_decorators.py:36: FutureWarning: Pass the following variable as a keyword arg: x. From version 0.12, the only valid positional argument will be `data`, and passing other arguments without an explicit keyword will result in an error or misinterpretation.\n",
      "  warnings.warn(\n"
     ]
    },
    {
     "data": {
      "text/plain": [
       "<AxesSubplot:xlabel='openrarity_rank'>"
      ]
     },
     "execution_count": 520,
     "metadata": {},
     "output_type": "execute_result"
    },
    {
     "data": {
      "image/png": "[encoded data removed]",
      "text/plain": [
       "<Figure size 432x288 with 1 Axes>"
      ]
     },
     "metadata": {
      "needs_background": "light"
     },
     "output_type": "display_data"
    }
   ],
   "source": [
    "sns.boxplot(train_data[\"openrarity_rank\"])"
   ]
  },
  {
   "cell_type": "code",
   "execution_count": 519,
   "id": "37e2d671",
   "metadata": {},
   "outputs": [
    {
     "name": "stderr",
     "output_type": "stream",
     "text": [
      "<ipython-input-519-29aa53615e2c>:3: SettingWithCopyWarning: \n",
      "A value is trying to be set on a copy of a slice from a DataFrame.\n",
      "Try using .loc[row_indexer,col_indexer] = value instead\n",
      "\n",
      "See the caveats in the documentation: https://pandas.pydata.org/pandas-docs/stable/user_guide/indexing.html#returning-a-view-versus-a-copy\n",
      "  Intcolumn[\"openrarity_rank\"]=np.where(Intcolumn[\"openrarity_rank\"]>=hCore,\n"
     ]
    }
   ],
   "source": [
    "hCore=(Intcolumn[\"openrarity_rank\"].mean())+(3*Intcolumn[\"openrarity_rank\"].std())\n",
    "lCore=(Intcolumn[\"openrarity_rank\"].mean())-(3*Intcolumn[\"openrarity_rank\"].std())\n",
    "Intcolumn[\"openrarity_rank\"]=np.where(Intcolumn[\"openrarity_rank\"]>=hCore,\n",
    "         hCore,\n",
    "         np.where(Intcolumn[\"openrarity_rank\"]<=lCore,\n",
    "         lCore,\n",
    "         Intcolumn[\"openrarity_rank\"]))"
   ]
  },
  {
   "cell_type": "code",
   "execution_count": 529,
   "id": "97cf6c13",
   "metadata": {},
   "outputs": [
    {
     "data": {
      "text/plain": [
       "count       309910\n",
       "unique           2\n",
       "top       verified\n",
       "freq        179370\n",
       "Name: verification_status, dtype: object"
      ]
     },
     "execution_count": 529,
     "metadata": {},
     "output_type": "execute_result"
    }
   ],
   "source": [
    "train_with_collection[\"verification_status\"].describe()"
   ]
  },
  {
   "cell_type": "code",
   "execution_count": 531,
   "id": "2707f732",
   "metadata": {},
   "outputs": [
    {
     "data": {
      "text/plain": [
       "own        169702\n",
       "default    140208\n",
       "Name: contract_type, dtype: int64"
      ]
     },
     "execution_count": 531,
     "metadata": {},
     "output_type": "execute_result"
    }
   ],
   "source": [
    "train_with_collection[\"contract_type\"].value_counts()"
   ]
  },
  {
   "cell_type": "code",
   "execution_count": 539,
   "id": "209fd8ef",
   "metadata": {},
   "outputs": [
    {
     "data": {
      "text/plain": [
       "verified    159703\n",
       "approved      9999\n",
       "Name: verification_status, dtype: int64"
      ]
     },
     "execution_count": 539,
     "metadata": {},
     "output_type": "execute_result"
    }
   ],
   "source": [
    "train_with_collection[train_with_collection[\"contract_type\"]==\"own\"][\"verification_status\"].value_counts()"
   ]
  },
  {
   "cell_type": "code",
   "execution_count": 536,
   "id": "ee627682",
   "metadata": {},
   "outputs": [
    {
     "data": {
      "text/plain": [
       "<pandas.core.groupby.generic.DataFrameGroupBy object at 0x7f945b4e3df0>"
      ]
     },
     "execution_count": 536,
     "metadata": {},
     "output_type": "execute_result"
    }
   ],
   "source": []
  },
  {
   "cell_type": "code",
   "execution_count": 547,
   "id": "9e8d20be",
   "metadata": {},
   "outputs": [],
   "source": [
    "train=train_data.copy()"
   ]
  },
  {
   "cell_type": "code",
   "execution_count": 548,
   "id": "3e9aa173",
   "metadata": {},
   "outputs": [
    {
     "data": {
      "text/html": [
       "<div>\n",
       "<style scoped>\n",
       "    .dataframe tbody tr th:only-of-type {\n",
       "        vertical-align: middle;\n",
       "    }\n",
       "\n",
       "    .dataframe tbody tr th {\n",
       "        vertical-align: top;\n",
       "    }\n",
       "\n",
       "    .dataframe thead th {\n",
       "        text-align: right;\n",
       "    }\n",
       "</style>\n",
       "<table border=\"1\" class=\"dataframe\">\n",
       "  <thead>\n",
       "    <tr style=\"text-align: right;\">\n",
       "      <th></th>\n",
       "      <th>global_index</th>\n",
       "      <th>nft_id</th>\n",
       "      <th>collection_id</th>\n",
       "      <th>rarity_score</th>\n",
       "      <th>openrarity_score</th>\n",
       "      <th>openrarity_rank</th>\n",
       "      <th>openrarity_max_rank</th>\n",
       "      <th>last_sale_date</th>\n",
       "      <th>last_sale_price</th>\n",
       "    </tr>\n",
       "  </thead>\n",
       "  <tbody>\n",
       "    <tr>\n",
       "      <th>0</th>\n",
       "      <td>21928</td>\n",
       "      <td>0</td>\n",
       "      <td>49</td>\n",
       "      <td>2.000000</td>\n",
       "      <td>NaN</td>\n",
       "      <td>NaN</td>\n",
       "      <td>NaN</td>\n",
       "      <td>2022-11</td>\n",
       "      <td>1.266732</td>\n",
       "    </tr>\n",
       "    <tr>\n",
       "      <th>1</th>\n",
       "      <td>32621</td>\n",
       "      <td>0</td>\n",
       "      <td>45</td>\n",
       "      <td>97.077216</td>\n",
       "      <td>NaN</td>\n",
       "      <td>NaN</td>\n",
       "      <td>NaN</td>\n",
       "      <td>2021-08</td>\n",
       "      <td>1.200357</td>\n",
       "    </tr>\n",
       "    <tr>\n",
       "      <th>2</th>\n",
       "      <td>32622</td>\n",
       "      <td>1</td>\n",
       "      <td>45</td>\n",
       "      <td>139.453086</td>\n",
       "      <td>NaN</td>\n",
       "      <td>NaN</td>\n",
       "      <td>NaN</td>\n",
       "      <td>2022-08</td>\n",
       "      <td>3.180572</td>\n",
       "    </tr>\n",
       "    <tr>\n",
       "      <th>3</th>\n",
       "      <td>32623</td>\n",
       "      <td>2</td>\n",
       "      <td>45</td>\n",
       "      <td>127.753445</td>\n",
       "      <td>NaN</td>\n",
       "      <td>NaN</td>\n",
       "      <td>NaN</td>\n",
       "      <td>2021-08</td>\n",
       "      <td>3.502910</td>\n",
       "    </tr>\n",
       "    <tr>\n",
       "      <th>4</th>\n",
       "      <td>32624</td>\n",
       "      <td>3</td>\n",
       "      <td>45</td>\n",
       "      <td>112.315719</td>\n",
       "      <td>NaN</td>\n",
       "      <td>NaN</td>\n",
       "      <td>NaN</td>\n",
       "      <td>2022-09</td>\n",
       "      <td>4.009567</td>\n",
       "    </tr>\n",
       "    <tr>\n",
       "      <th>...</th>\n",
       "      <td>...</td>\n",
       "      <td>...</td>\n",
       "      <td>...</td>\n",
       "      <td>...</td>\n",
       "      <td>...</td>\n",
       "      <td>...</td>\n",
       "      <td>...</td>\n",
       "      <td>...</td>\n",
       "      <td>...</td>\n",
       "    </tr>\n",
       "    <tr>\n",
       "      <th>309905</th>\n",
       "      <td>590223</td>\n",
       "      <td>8995</td>\n",
       "      <td>4</td>\n",
       "      <td>128.268841</td>\n",
       "      <td>NaN</td>\n",
       "      <td>NaN</td>\n",
       "      <td>NaN</td>\n",
       "      <td>2022-08</td>\n",
       "      <td>0.001571</td>\n",
       "    </tr>\n",
       "    <tr>\n",
       "      <th>309906</th>\n",
       "      <td>590224</td>\n",
       "      <td>8996</td>\n",
       "      <td>4</td>\n",
       "      <td>152.040769</td>\n",
       "      <td>NaN</td>\n",
       "      <td>NaN</td>\n",
       "      <td>NaN</td>\n",
       "      <td>2022-08</td>\n",
       "      <td>0.001661</td>\n",
       "    </tr>\n",
       "    <tr>\n",
       "      <th>309907</th>\n",
       "      <td>590225</td>\n",
       "      <td>8997</td>\n",
       "      <td>4</td>\n",
       "      <td>178.734807</td>\n",
       "      <td>NaN</td>\n",
       "      <td>NaN</td>\n",
       "      <td>NaN</td>\n",
       "      <td>2022-08</td>\n",
       "      <td>0.008480</td>\n",
       "    </tr>\n",
       "    <tr>\n",
       "      <th>309908</th>\n",
       "      <td>590226</td>\n",
       "      <td>8998</td>\n",
       "      <td>4</td>\n",
       "      <td>130.974464</td>\n",
       "      <td>NaN</td>\n",
       "      <td>NaN</td>\n",
       "      <td>NaN</td>\n",
       "      <td>2022-08</td>\n",
       "      <td>0.004236</td>\n",
       "    </tr>\n",
       "    <tr>\n",
       "      <th>309909</th>\n",
       "      <td>590227</td>\n",
       "      <td>8999</td>\n",
       "      <td>4</td>\n",
       "      <td>103.120966</td>\n",
       "      <td>NaN</td>\n",
       "      <td>NaN</td>\n",
       "      <td>NaN</td>\n",
       "      <td>2022-08</td>\n",
       "      <td>0.006236</td>\n",
       "    </tr>\n",
       "  </tbody>\n",
       "</table>\n",
       "<p>309910 rows × 9 columns</p>\n",
       "</div>"
      ],
      "text/plain": [
       "        global_index  nft_id  collection_id  rarity_score  openrarity_score  \\\n",
       "0              21928       0             49      2.000000               NaN   \n",
       "1              32621       0             45     97.077216               NaN   \n",
       "2              32622       1             45    139.453086               NaN   \n",
       "3              32623       2             45    127.753445               NaN   \n",
       "4              32624       3             45    112.315719               NaN   \n",
       "...              ...     ...            ...           ...               ...   \n",
       "309905        590223    8995              4    128.268841               NaN   \n",
       "309906        590224    8996              4    152.040769               NaN   \n",
       "309907        590225    8997              4    178.734807               NaN   \n",
       "309908        590226    8998              4    130.974464               NaN   \n",
       "309909        590227    8999              4    103.120966               NaN   \n",
       "\n",
       "        openrarity_rank  openrarity_max_rank last_sale_date  last_sale_price  \n",
       "0                   NaN                  NaN        2022-11         1.266732  \n",
       "1                   NaN                  NaN        2021-08         1.200357  \n",
       "2                   NaN                  NaN        2022-08         3.180572  \n",
       "3                   NaN                  NaN        2021-08         3.502910  \n",
       "4                   NaN                  NaN        2022-09         4.009567  \n",
       "...                 ...                  ...            ...              ...  \n",
       "309905              NaN                  NaN        2022-08         0.001571  \n",
       "309906              NaN                  NaN        2022-08         0.001661  \n",
       "309907              NaN                  NaN        2022-08         0.008480  \n",
       "309908              NaN                  NaN        2022-08         0.004236  \n",
       "309909              NaN                  NaN        2022-08         0.006236  \n",
       "\n",
       "[309910 rows x 9 columns]"
      ]
     },
     "execution_count": 548,
     "metadata": {},
     "output_type": "execute_result"
    }
   ],
   "source": [
    "train"
   ]
  },
  {
   "cell_type": "code",
   "execution_count": 549,
   "id": "153e8f62",
   "metadata": {},
   "outputs": [
    {
     "data": {
      "text/plain": [
       "count    80480.000000\n",
       "mean      5630.164737\n",
       "std       3812.126968\n",
       "min          1.000000\n",
       "25%       2515.750000\n",
       "50%       5030.000000\n",
       "75%       8207.250000\n",
       "max      15555.000000\n",
       "Name: openrarity_rank, dtype: float64"
      ]
     },
     "execution_count": 549,
     "metadata": {},
     "output_type": "execute_result"
    }
   ],
   "source": [
    "train[\"openrarity_rank\"].describe()"
   ]
  },
  {
   "cell_type": "code",
   "execution_count": 553,
   "id": "278678b4",
   "metadata": {},
   "outputs": [
    {
     "name": "stderr",
     "output_type": "stream",
     "text": [
      "/home/administrator/anaconda3/lib/python3.8/site-packages/seaborn/distributions.py:2557: FutureWarning: `distplot` is a deprecated function and will be removed in a future version. Please adapt your code to use either `displot` (a figure-level function with similar flexibility) or `histplot` (an axes-level function for histograms).\n",
      "  warnings.warn(msg, FutureWarning)\n"
     ]
    },
    {
     "data": {
      "text/plain": [
       "<AxesSubplot:xlabel='openrarity_score', ylabel='Density'>"
      ]
     },
     "execution_count": 553,
     "metadata": {},
     "output_type": "execute_result"
    },
    {
     "data": {
      "image/png": "[encoded data removed]",
      "text/plain": [
       "<Figure size 432x288 with 1 Axes>"
      ]
     },
     "metadata": {
      "needs_background": "light"
     },
     "output_type": "display_data"
    }
   ],
   "source": [
    "sns.distplot(train[\"openrarity_score\"])"
   ]
  },
  {
   "cell_type": "code",
   "execution_count": 570,
   "id": "5906f529",
   "metadata": {},
   "outputs": [
    {
     "name": "stderr",
     "output_type": "stream",
     "text": [
      "/home/administrator/anaconda3/lib/python3.8/site-packages/seaborn/_decorators.py:36: FutureWarning: Pass the following variable as a keyword arg: x. From version 0.12, the only valid positional argument will be `data`, and passing other arguments without an explicit keyword will result in an error or misinterpretation.\n",
      "  warnings.warn(\n"
     ]
    },
    {
     "data": {
      "text/plain": [
       "<AxesSubplot:xlabel='openrarity_score'>"
      ]
     },
     "execution_count": 570,
     "metadata": {},
     "output_type": "execute_result"
    },
    {
     "data": {
      "image/png": "[encoded data removed]",
      "text/plain": [
       "<Figure size 432x288 with 1 Axes>"
      ]
     },
     "metadata": {
      "needs_background": "light"
     },
     "output_type": "display_data"
    }
   ],
   "source": [
    "sns.boxplot(train[\"openrarity_score\"])"
   ]
  },
  {
   "cell_type": "code",
   "execution_count": 563,
   "id": "e117c699",
   "metadata": {},
   "outputs": [
    {
     "data": {
      "text/plain": [
       "count    80480.000000\n",
       "mean         0.997456\n",
       "std          0.139116\n",
       "min          0.626738\n",
       "25%          0.906820\n",
       "50%          0.978289\n",
       "75%          1.059866\n",
       "max          1.458475\n",
       "Name: openrarity_score, dtype: float64"
      ]
     },
     "execution_count": 563,
     "metadata": {},
     "output_type": "execute_result"
    }
   ],
   "source": [
    "train[\"openrarity_score\"].describe()"
   ]
  },
  {
   "cell_type": "code",
   "execution_count": 571,
   "id": "72757926",
   "metadata": {},
   "outputs": [
    {
     "data": {
      "text/plain": [
       "global_index          -0.096667\n",
       "nft_id                -0.055394\n",
       "collection_id         -0.118710\n",
       "rarity_score          -0.046505\n",
       "openrarity_score       0.039849\n",
       "openrarity_rank       -0.076041\n",
       "openrarity_max_rank   -0.098312\n",
       "last_sale_price        1.000000\n",
       "Name: last_sale_price, dtype: float64"
      ]
     },
     "execution_count": 571,
     "metadata": {},
     "output_type": "execute_result"
    }
   ],
   "source": [
    "train.corr()[\"last_sale_price\"]"
   ]
  },
  {
   "cell_type": "code",
   "execution_count": 556,
   "id": "a4aff60f",
   "metadata": {},
   "outputs": [],
   "source": [
    "hCore=(train[\"openrarity_score\"].mean())+(3*train[\"openrarity_score\"].std())\n",
    "lCore=(train[\"openrarity_score\"].mean())-(3*train[\"openrarity_score\"].std())"
   ]
  },
  {
   "cell_type": "code",
   "execution_count": 557,
   "id": "c61ce96c",
   "metadata": {},
   "outputs": [
    {
     "data": {
      "text/plain": [
       "1.4584748104984346"
      ]
     },
     "execution_count": 557,
     "metadata": {},
     "output_type": "execute_result"
    }
   ],
   "source": [
    "hCore"
   ]
  },
  {
   "cell_type": "code",
   "execution_count": 558,
   "id": "4518f41c",
   "metadata": {},
   "outputs": [
    {
     "data": {
      "text/plain": [
       "0.5415251895015585"
      ]
     },
     "execution_count": 558,
     "metadata": {},
     "output_type": "execute_result"
    }
   ],
   "source": [
    "lCore"
   ]
  },
  {
   "cell_type": "code",
   "execution_count": 562,
   "id": "7b0f166b",
   "metadata": {},
   "outputs": [],
   "source": [
    "train[\"openrarity_score\"]=np.where(train[\"openrarity_score\"]>hCore,\n",
    "         hCore,\n",
    "         np.where(train[\"openrarity_score\"]<lCore,\n",
    "         lCore,\n",
    "         train[\"openrarity_score\"]))"
   ]
  },
  {
   "cell_type": "code",
   "execution_count": 569,
   "id": "9f280a44",
   "metadata": {},
   "outputs": [],
   "source": [
    "i=\"openrarity_score\"\n",
    "ll25=train[i].quantile(0.25)\n",
    "ul75=train[i].quantile(0.75)\n",
    "iqr=ul75-ll25\n",
    "ul=ul75+(1.5*iqr)\n",
    "ll=ll25-(1.5*iqr)\n",
    "train[i]=np.where(train[i]>=ul,ul,np.where(train[i]<=ll,ll,train[i]))"
   ]
  },
  {
   "cell_type": "code",
   "execution_count": 567,
   "id": "64c6f50d",
   "metadata": {},
   "outputs": [
    {
     "data": {
      "text/plain": [
       "1.289434158628891"
      ]
     },
     "execution_count": 567,
     "metadata": {},
     "output_type": "execute_result"
    }
   ],
   "source": [
    "ul"
   ]
  },
  {
   "cell_type": "code",
   "execution_count": 568,
   "id": "8304741f",
   "metadata": {},
   "outputs": [
    {
     "data": {
      "text/plain": [
       "0.6772522636034031"
      ]
     },
     "execution_count": 568,
     "metadata": {},
     "output_type": "execute_result"
    }
   ],
   "source": [
    "ll"
   ]
  },
  {
   "cell_type": "code",
   "execution_count": 572,
   "id": "d44dd0d7",
   "metadata": {},
   "outputs": [
    {
     "name": "stderr",
     "output_type": "stream",
     "text": [
      "/home/administrator/anaconda3/lib/python3.8/site-packages/seaborn/distributions.py:2557: FutureWarning: `distplot` is a deprecated function and will be removed in a future version. Please adapt your code to use either `displot` (a figure-level function with similar flexibility) or `histplot` (an axes-level function for histograms).\n",
      "  warnings.warn(msg, FutureWarning)\n"
     ]
    },
    {
     "data": {
      "text/plain": [
       "<AxesSubplot:xlabel='openrarity_rank', ylabel='Density'>"
      ]
     },
     "execution_count": 572,
     "metadata": {},
     "output_type": "execute_result"
    },
    {
     "data": {
      "image/png": "[encoded data removed]",
      "text/plain": [
       "<Figure size 432x288 with 1 Axes>"
      ]
     },
     "metadata": {
      "needs_background": "light"
     },
     "output_type": "display_data"
    }
   ],
   "source": [
    "sns.distplot(train[\"openrarity_rank\"])"
   ]
  },
  {
   "cell_type": "code",
   "execution_count": 574,
   "id": "0c642e51",
   "metadata": {},
   "outputs": [
    {
     "name": "stderr",
     "output_type": "stream",
     "text": [
      "/home/administrator/anaconda3/lib/python3.8/site-packages/seaborn/_decorators.py:36: FutureWarning: Pass the following variable as a keyword arg: x. From version 0.12, the only valid positional argument will be `data`, and passing other arguments without an explicit keyword will result in an error or misinterpretation.\n",
      "  warnings.warn(\n"
     ]
    },
    {
     "data": {
      "text/plain": [
       "<AxesSubplot:xlabel='openrarity_max_rank'>"
      ]
     },
     "execution_count": 574,
     "metadata": {},
     "output_type": "execute_result"
    },
    {
     "data": {
      "image/png": "[encoded data removed]",
      "text/plain": [
       "<Figure size 432x288 with 1 Axes>"
      ]
     },
     "metadata": {
      "needs_background": "light"
     },
     "output_type": "display_data"
    }
   ],
   "source": [
    "sns.boxplot(train[\"openrarity_max_rank\"])"
   ]
  },
  {
   "cell_type": "code",
   "execution_count": 705,
   "id": "7fcd7f90",
   "metadata": {},
   "outputs": [
    {
     "data": {
      "text/plain": [
       "global_index          -0.096667\n",
       "nft_id                -0.055394\n",
       "collection_id         -0.118710\n",
       "rarity_score          -0.046505\n",
       "openrarity_score      -0.013778\n",
       "openrarity_rank       -0.026534\n",
       "openrarity_max_rank   -0.025981\n",
       "last_sale_price        1.000000\n",
       "Name: last_sale_price, dtype: float64"
      ]
     },
     "execution_count": 705,
     "metadata": {},
     "output_type": "execute_result"
    }
   ],
   "source": [
    "train_data.corr()[\"last_sale_price\"]"
   ]
  },
  {
   "cell_type": "code",
   "execution_count": 706,
   "id": "ff9328da",
   "metadata": {},
   "outputs": [
    {
     "name": "stderr",
     "output_type": "stream",
     "text": [
      "/home/administrator/anaconda3/lib/python3.8/site-packages/seaborn/distributions.py:2557: FutureWarning: `distplot` is a deprecated function and will be removed in a future version. Please adapt your code to use either `displot` (a figure-level function with similar flexibility) or `histplot` (an axes-level function for histograms).\n",
      "  warnings.warn(msg, FutureWarning)\n"
     ]
    },
    {
     "data": {
      "text/plain": [
       "<AxesSubplot:xlabel='global_index', ylabel='Density'>"
      ]
     },
     "execution_count": 706,
     "metadata": {},
     "output_type": "execute_result"
    },
    {
     "data": {
      "image/png": "[encoded data removed]",
      "text/plain": [
       "<Figure size 432x288 with 1 Axes>"
      ]
     },
     "metadata": {
      "needs_background": "light"
     },
     "output_type": "display_data"
    }
   ],
   "source": [
    "sns.distplot(train_data[\"global_index\"])"
   ]
  },
  {
   "cell_type": "code",
   "execution_count": 707,
   "id": "5aed506b",
   "metadata": {},
   "outputs": [
    {
     "name": "stderr",
     "output_type": "stream",
     "text": [
      "/home/administrator/anaconda3/lib/python3.8/site-packages/seaborn/_decorators.py:36: FutureWarning: Pass the following variable as a keyword arg: x. From version 0.12, the only valid positional argument will be `data`, and passing other arguments without an explicit keyword will result in an error or misinterpretation.\n",
      "  warnings.warn(\n"
     ]
    },
    {
     "data": {
      "text/plain": [
       "<AxesSubplot:xlabel='global_index'>"
      ]
     },
     "execution_count": 707,
     "metadata": {},
     "output_type": "execute_result"
    },
    {
     "data": {
      "image/png": "[encoded data removed]",
      "text/plain": [
       "<Figure size 432x288 with 1 Axes>"
      ]
     },
     "metadata": {
      "needs_background": "light"
     },
     "output_type": "display_data"
    }
   ],
   "source": [
    "sns.boxplot(train_data[\"global_index\"])"
   ]
  },
  {
   "cell_type": "code",
   "execution_count": 708,
   "id": "4577327b",
   "metadata": {},
   "outputs": [
    {
     "name": "stderr",
     "output_type": "stream",
     "text": [
      "/home/administrator/anaconda3/lib/python3.8/site-packages/seaborn/_decorators.py:36: FutureWarning: Pass the following variable as a keyword arg: x. From version 0.12, the only valid positional argument will be `data`, and passing other arguments without an explicit keyword will result in an error or misinterpretation.\n",
      "  warnings.warn(\n"
     ]
    },
    {
     "data": {
      "text/plain": [
       "<AxesSubplot:xlabel='nft_id'>"
      ]
     },
     "execution_count": 708,
     "metadata": {},
     "output_type": "execute_result"
    },
    {
     "data": {
      "image/png": "[encoded data removed]",
      "text/plain": [
       "<Figure size 432x288 with 1 Axes>"
      ]
     },
     "metadata": {
      "needs_background": "light"
     },
     "output_type": "display_data"
    }
   ],
   "source": [
    "sns.boxplot(train_data[\"nft_id\"])"
   ]
  },
  {
   "cell_type": "code",
   "execution_count": 709,
   "id": "23c05ba3",
   "metadata": {},
   "outputs": [
    {
     "name": "stderr",
     "output_type": "stream",
     "text": [
      "/home/administrator/anaconda3/lib/python3.8/site-packages/seaborn/distributions.py:2557: FutureWarning: `distplot` is a deprecated function and will be removed in a future version. Please adapt your code to use either `displot` (a figure-level function with similar flexibility) or `histplot` (an axes-level function for histograms).\n",
      "  warnings.warn(msg, FutureWarning)\n"
     ]
    },
    {
     "data": {
      "text/plain": [
       "<AxesSubplot:xlabel='nft_id', ylabel='Density'>"
      ]
     },
     "execution_count": 709,
     "metadata": {},
     "output_type": "execute_result"
    },
    {
     "data": {
      "image/png": "[encoded data removed]",
      "text/plain": [
       "<Figure size 432x288 with 1 Axes>"
      ]
     },
     "metadata": {
      "needs_background": "light"
     },
     "output_type": "display_data"
    }
   ],
   "source": [
    "sns.distplot(train_data[\"nft_id\"])"
   ]
  },
  {
   "cell_type": "code",
   "execution_count": 710,
   "id": "571502ca",
   "metadata": {},
   "outputs": [
    {
     "data": {
      "text/plain": [
       "count    309910.000000\n",
       "mean       6738.162024\n",
       "std        5977.542096\n",
       "min           0.000000\n",
       "25%        2453.000000\n",
       "50%        5138.000000\n",
       "75%        8720.750000\n",
       "max       29898.000000\n",
       "Name: nft_id, dtype: float64"
      ]
     },
     "execution_count": 710,
     "metadata": {},
     "output_type": "execute_result"
    }
   ],
   "source": [
    "train_data[\"nft_id\"].describe()"
   ]
  },
  {
   "cell_type": "code",
   "execution_count": 711,
   "id": "53c1e92b",
   "metadata": {},
   "outputs": [
    {
     "name": "stderr",
     "output_type": "stream",
     "text": [
      "/home/administrator/anaconda3/lib/python3.8/site-packages/seaborn/distributions.py:2557: FutureWarning: `distplot` is a deprecated function and will be removed in a future version. Please adapt your code to use either `displot` (a figure-level function with similar flexibility) or `histplot` (an axes-level function for histograms).\n",
      "  warnings.warn(msg, FutureWarning)\n"
     ]
    },
    {
     "data": {
      "text/plain": [
       "<AxesSubplot:xlabel='rarity_score', ylabel='Density'>"
      ]
     },
     "execution_count": 711,
     "metadata": {},
     "output_type": "execute_result"
    },
    {
     "data": {
      "image/png": "[encoded data removed]",
      "text/plain": [
       "<Figure size 432x288 with 1 Axes>"
      ]
     },
     "metadata": {
      "needs_background": "light"
     },
     "output_type": "display_data"
    }
   ],
   "source": [
    "sns.distplot(train_data[\"rarity_score\"])"
   ]
  },
  {
   "cell_type": "code",
   "execution_count": 713,
   "id": "e89031a6",
   "metadata": {},
   "outputs": [
    {
     "name": "stderr",
     "output_type": "stream",
     "text": [
      "/home/administrator/anaconda3/lib/python3.8/site-packages/seaborn/_decorators.py:36: FutureWarning: Pass the following variable as a keyword arg: x. From version 0.12, the only valid positional argument will be `data`, and passing other arguments without an explicit keyword will result in an error or misinterpretation.\n",
      "  warnings.warn(\n"
     ]
    },
    {
     "data": {
      "text/plain": [
       "<AxesSubplot:xlabel='openrarity_score'>"
      ]
     },
     "execution_count": 713,
     "metadata": {},
     "output_type": "execute_result"
    },
    {
     "data": {
      "image/png": "[encoded data removed]",
      "text/plain": [
       "<Figure size 432x288 with 1 Axes>"
      ]
     },
     "metadata": {
      "needs_background": "light"
     },
     "output_type": "display_data"
    }
   ],
   "source": [
    "sns.boxplot(train_data[\"openrarity_score\"])"
   ]
  },
  {
   "cell_type": "code",
   "execution_count": 730,
   "id": "30937f4e",
   "metadata": {},
   "outputs": [
    {
     "data": {
      "text/plain": [
       "global_index          -0.193324\n",
       "nft_id                -0.058619\n",
       "collection_id         -0.153186\n",
       "rarity_score          -0.052191\n",
       "openrarity_score            NaN\n",
       "openrarity_rank             NaN\n",
       "openrarity_max_rank         NaN\n",
       "last_sale_price        1.000000\n",
       "Name: last_sale_price, dtype: float64"
      ]
     },
     "execution_count": 730,
     "metadata": {},
     "output_type": "execute_result"
    }
   ],
   "source": [
    "data1=train_data[train_data[\"openrarity_score\"].values<=0.0]\n",
    "data2=train_data[train_data[\"openrarity_score\"].values>0.0]\n",
    "data1.corr()[\"last_sale_price\"]\n",
    "# data2.corr()[\"last_sale_price\"]"
   ]
  },
  {
   "cell_type": "code",
   "execution_count": 715,
   "id": "ac24a53a",
   "metadata": {},
   "outputs": [],
   "source": [
    "i=\"openrarity_score\"\n",
    "ll25=train_data[i].quantile(0.25)\n",
    "ul75=train_data[i].quantile(0.75)\n",
    "iqr=ul75-ll25\n",
    "ul=ul75+(1.5*iqr)\n",
    "ll=ll25-(1.5*iqr)\n",
    "# train_data[i]=np.where(train_data[i]>=ul,ul,np.where(train_data[i]<=ll,ll,train_data[i]))"
   ]
  },
  {
   "cell_type": "code",
   "execution_count": 716,
   "id": "4afb52b3",
   "metadata": {},
   "outputs": [
    {
     "data": {
      "text/plain": [
       "2.0036502307656474"
      ]
     },
     "execution_count": 716,
     "metadata": {},
     "output_type": "execute_result"
    }
   ],
   "source": [
    "ul"
   ]
  },
  {
   "cell_type": "code",
   "execution_count": 727,
   "id": "6cc54848",
   "metadata": {},
   "outputs": [
    {
     "data": {
      "text/plain": [
       "global_index          -0.096667\n",
       "nft_id                -0.055394\n",
       "collection_id         -0.118710\n",
       "rarity_score          -0.046505\n",
       "openrarity_score      -0.013778\n",
       "openrarity_rank       -0.026534\n",
       "openrarity_max_rank   -0.025981\n",
       "last_sale_price        1.000000\n",
       "Name: last_sale_price, dtype: float64"
      ]
     },
     "execution_count": 727,
     "metadata": {},
     "output_type": "execute_result"
    }
   ],
   "source": [
    "train_data.corr()[\"last_sale_price\"]"
   ]
  },
  {
   "cell_type": "code",
   "execution_count": 745,
   "id": "6ab33c7e",
   "metadata": {},
   "outputs": [],
   "source": [
    "train=data2.drop([\"last_sale_date\",\"last_sale_price\"],axis=1)\n",
    "test=data2[\"last_sale_price\"]                 "
   ]
  },
  {
   "cell_type": "code",
   "execution_count": 746,
   "id": "088eb4ac",
   "metadata": {},
   "outputs": [],
   "source": [
    "x_train,x_test,y_train,y_test=train_test_split(train,test,test_size=0.2)"
   ]
  },
  {
   "cell_type": "code",
   "execution_count": 747,
   "id": "e1bd58cb",
   "metadata": {},
   "outputs": [
    {
     "data": {
      "text/plain": [
       "LinearRegression()"
      ]
     },
     "execution_count": 747,
     "metadata": {},
     "output_type": "execute_result"
    }
   ],
   "source": [
    "reg=LinearRegression()\n",
    "reg.fit(x_train,y_train)"
   ]
  },
  {
   "cell_type": "code",
   "execution_count": 748,
   "id": "742bc38b",
   "metadata": {},
   "outputs": [
    {
     "name": "stdout",
     "output_type": "stream",
     "text": [
      "0.25899550310351416\n"
     ]
    }
   ],
   "source": [
    "print(reg.score(x_train,y_train))"
   ]
  },
  {
   "cell_type": "code",
   "execution_count": 749,
   "id": "d7526f67",
   "metadata": {},
   "outputs": [
    {
     "name": "stdout",
     "output_type": "stream",
     "text": [
      "0.25899550310351416\n"
     ]
    }
   ],
   "source": [
    "from sklearn.ensemble import RandomForestRegressor\n",
    "rf=RandomForestRegressor()\n",
    "rf.fit(x_train,y_train)\n",
    "print(reg.score(x_train,y_train))"
   ]
  },
  {
   "cell_type": "code",
   "execution_count": 739,
   "id": "0e91635f",
   "metadata": {},
   "outputs": [
    {
     "name": "stderr",
     "output_type": "stream",
     "text": [
      "/home/administrator/anaconda3/lib/python3.8/site-packages/seaborn/distributions.py:2557: FutureWarning: `distplot` is a deprecated function and will be removed in a future version. Please adapt your code to use either `displot` (a figure-level function with similar flexibility) or `histplot` (an axes-level function for histograms).\n",
      "  warnings.warn(msg, FutureWarning)\n"
     ]
    },
    {
     "data": {
      "text/plain": [
       "<AxesSubplot:xlabel='openrarity_score', ylabel='Density'>"
      ]
     },
     "execution_count": 739,
     "metadata": {},
     "output_type": "execute_result"
    },
    {
     "data": {
      "image/png": "[encoded data removed]",
      "text/plain": [
       "<Figure size 432x288 with 1 Axes>"
      ]
     },
     "metadata": {
      "needs_background": "light"
     },
     "output_type": "display_data"
    }
   ],
   "source": [
    "sns.distplot(data2[\"openrarity_score\"])"
   ]
  },
  {
   "cell_type": "code",
   "execution_count": 740,
   "id": "d0de4db3",
   "metadata": {},
   "outputs": [],
   "source": [
    "dt=data1.drop([\"last_sale_price\",\"last_sale_date\"],axis=1)\n",
    "dt1=data1[\"last_sale_price\"]"
   ]
  },
  {
   "cell_type": "code",
   "execution_count": 741,
   "id": "aba73d37",
   "metadata": {},
   "outputs": [],
   "source": [
    "x_train,x_test,y_train,y_test=train_test_split(dt,dt1,test_size=0.3)"
   ]
  },
  {
   "cell_type": "code",
   "execution_count": 742,
   "id": "96d4d56a",
   "metadata": {},
   "outputs": [
    {
     "data": {
      "text/plain": [
       "LinearRegression()"
      ]
     },
     "execution_count": 742,
     "metadata": {},
     "output_type": "execute_result"
    }
   ],
   "source": [
    "reg.fit(x_train,y_train)"
   ]
  },
  {
   "cell_type": "code",
   "execution_count": 743,
   "id": "f7132cc8",
   "metadata": {},
   "outputs": [
    {
     "name": "stdout",
     "output_type": "stream",
     "text": [
      "0.05111908680586663\n"
     ]
    }
   ],
   "source": [
    "print(reg.score(x_train,y_train))"
   ]
  },
  {
   "cell_type": "code",
   "execution_count": 744,
   "id": "974fd57e",
   "metadata": {},
   "outputs": [
    {
     "name": "stdout",
     "output_type": "stream",
     "text": [
      "0.05111908680586663\n"
     ]
    }
   ],
   "source": [
    "from sklearn.ensemble import RandomForestRegressor\n",
    "rf=RandomForestRegressor()\n",
    "rf.fit(x_train,y_train)\n",
    "print(reg.score(x_train,y_train))"
   ]
  },
  {
   "cell_type": "code",
   "execution_count": 750,
   "id": "a1de46a5",
   "metadata": {},
   "outputs": [
    {
     "data": {
      "text/html": [
       "<div>\n",
       "<style scoped>\n",
       "    .dataframe tbody tr th:only-of-type {\n",
       "        vertical-align: middle;\n",
       "    }\n",
       "\n",
       "    .dataframe tbody tr th {\n",
       "        vertical-align: top;\n",
       "    }\n",
       "\n",
       "    .dataframe thead th {\n",
       "        text-align: right;\n",
       "    }\n",
       "</style>\n",
       "<table border=\"1\" class=\"dataframe\">\n",
       "  <thead>\n",
       "    <tr style=\"text-align: right;\">\n",
       "      <th></th>\n",
       "      <th>collection_id</th>\n",
       "      <th>total_supply</th>\n",
       "      <th>creation_date</th>\n",
       "      <th>verification_status</th>\n",
       "      <th>n_of_traits</th>\n",
       "      <th>contract_type</th>\n",
       "      <th>seller_fees</th>\n",
       "      <th>platform_fees</th>\n",
       "      <th>openrarity_enabled</th>\n",
       "      <th>has_website</th>\n",
       "      <th>...</th>\n",
       "      <th>max_replies</th>\n",
       "      <th>max_retweets</th>\n",
       "      <th>global_index</th>\n",
       "      <th>nft_id</th>\n",
       "      <th>rarity_score</th>\n",
       "      <th>openrarity_score</th>\n",
       "      <th>openrarity_rank</th>\n",
       "      <th>openrarity_max_rank</th>\n",
       "      <th>last_sale_date</th>\n",
       "      <th>last_sale_price</th>\n",
       "    </tr>\n",
       "  </thead>\n",
       "  <tbody>\n",
       "    <tr>\n",
       "      <th>0</th>\n",
       "      <td>19</td>\n",
       "      <td>1000</td>\n",
       "      <td>2021-04</td>\n",
       "      <td>verified</td>\n",
       "      <td>4</td>\n",
       "      <td>own</td>\n",
       "      <td>500.0</td>\n",
       "      <td>250</td>\n",
       "      <td>False</td>\n",
       "      <td>False</td>\n",
       "      <td>...</td>\n",
       "      <td>30</td>\n",
       "      <td>258</td>\n",
       "      <td>322076</td>\n",
       "      <td>0</td>\n",
       "      <td>48.156807</td>\n",
       "      <td>0.0</td>\n",
       "      <td>0.0</td>\n",
       "      <td>0.0</td>\n",
       "      <td>2022-11</td>\n",
       "      <td>12.508229</td>\n",
       "    </tr>\n",
       "    <tr>\n",
       "      <th>1</th>\n",
       "      <td>19</td>\n",
       "      <td>1000</td>\n",
       "      <td>2021-04</td>\n",
       "      <td>verified</td>\n",
       "      <td>4</td>\n",
       "      <td>own</td>\n",
       "      <td>500.0</td>\n",
       "      <td>250</td>\n",
       "      <td>False</td>\n",
       "      <td>False</td>\n",
       "      <td>...</td>\n",
       "      <td>30</td>\n",
       "      <td>258</td>\n",
       "      <td>322077</td>\n",
       "      <td>1</td>\n",
       "      <td>82.404768</td>\n",
       "      <td>0.0</td>\n",
       "      <td>0.0</td>\n",
       "      <td>0.0</td>\n",
       "      <td>2022-11</td>\n",
       "      <td>0.000800</td>\n",
       "    </tr>\n",
       "    <tr>\n",
       "      <th>2</th>\n",
       "      <td>19</td>\n",
       "      <td>1000</td>\n",
       "      <td>2021-04</td>\n",
       "      <td>verified</td>\n",
       "      <td>4</td>\n",
       "      <td>own</td>\n",
       "      <td>500.0</td>\n",
       "      <td>250</td>\n",
       "      <td>False</td>\n",
       "      <td>False</td>\n",
       "      <td>...</td>\n",
       "      <td>30</td>\n",
       "      <td>258</td>\n",
       "      <td>322078</td>\n",
       "      <td>2</td>\n",
       "      <td>30.983457</td>\n",
       "      <td>0.0</td>\n",
       "      <td>0.0</td>\n",
       "      <td>0.0</td>\n",
       "      <td>2022-11</td>\n",
       "      <td>0.002823</td>\n",
       "    </tr>\n",
       "    <tr>\n",
       "      <th>3</th>\n",
       "      <td>19</td>\n",
       "      <td>1000</td>\n",
       "      <td>2021-04</td>\n",
       "      <td>verified</td>\n",
       "      <td>4</td>\n",
       "      <td>own</td>\n",
       "      <td>500.0</td>\n",
       "      <td>250</td>\n",
       "      <td>False</td>\n",
       "      <td>False</td>\n",
       "      <td>...</td>\n",
       "      <td>30</td>\n",
       "      <td>258</td>\n",
       "      <td>322079</td>\n",
       "      <td>3</td>\n",
       "      <td>62.799472</td>\n",
       "      <td>0.0</td>\n",
       "      <td>0.0</td>\n",
       "      <td>0.0</td>\n",
       "      <td>2021-11</td>\n",
       "      <td>85.009723</td>\n",
       "    </tr>\n",
       "    <tr>\n",
       "      <th>4</th>\n",
       "      <td>19</td>\n",
       "      <td>1000</td>\n",
       "      <td>2021-04</td>\n",
       "      <td>verified</td>\n",
       "      <td>4</td>\n",
       "      <td>own</td>\n",
       "      <td>500.0</td>\n",
       "      <td>250</td>\n",
       "      <td>False</td>\n",
       "      <td>False</td>\n",
       "      <td>...</td>\n",
       "      <td>30</td>\n",
       "      <td>258</td>\n",
       "      <td>322080</td>\n",
       "      <td>4</td>\n",
       "      <td>45.523411</td>\n",
       "      <td>0.0</td>\n",
       "      <td>0.0</td>\n",
       "      <td>0.0</td>\n",
       "      <td>2021-11</td>\n",
       "      <td>0.009392</td>\n",
       "    </tr>\n",
       "    <tr>\n",
       "      <th>...</th>\n",
       "      <td>...</td>\n",
       "      <td>...</td>\n",
       "      <td>...</td>\n",
       "      <td>...</td>\n",
       "      <td>...</td>\n",
       "      <td>...</td>\n",
       "      <td>...</td>\n",
       "      <td>...</td>\n",
       "      <td>...</td>\n",
       "      <td>...</td>\n",
       "      <td>...</td>\n",
       "      <td>...</td>\n",
       "      <td>...</td>\n",
       "      <td>...</td>\n",
       "      <td>...</td>\n",
       "      <td>...</td>\n",
       "      <td>...</td>\n",
       "      <td>...</td>\n",
       "      <td>...</td>\n",
       "      <td>...</td>\n",
       "      <td>...</td>\n",
       "    </tr>\n",
       "    <tr>\n",
       "      <th>309905</th>\n",
       "      <td>0</td>\n",
       "      <td>6501</td>\n",
       "      <td>2022-04</td>\n",
       "      <td>verified</td>\n",
       "      <td>31</td>\n",
       "      <td>own</td>\n",
       "      <td>500.0</td>\n",
       "      <td>250</td>\n",
       "      <td>False</td>\n",
       "      <td>False</td>\n",
       "      <td>...</td>\n",
       "      <td>14</td>\n",
       "      <td>76</td>\n",
       "      <td>63025</td>\n",
       "      <td>6496</td>\n",
       "      <td>701.371138</td>\n",
       "      <td>0.0</td>\n",
       "      <td>0.0</td>\n",
       "      <td>0.0</td>\n",
       "      <td>2022-08</td>\n",
       "      <td>0.000362</td>\n",
       "    </tr>\n",
       "    <tr>\n",
       "      <th>309906</th>\n",
       "      <td>0</td>\n",
       "      <td>6501</td>\n",
       "      <td>2022-04</td>\n",
       "      <td>verified</td>\n",
       "      <td>31</td>\n",
       "      <td>own</td>\n",
       "      <td>500.0</td>\n",
       "      <td>250</td>\n",
       "      <td>False</td>\n",
       "      <td>False</td>\n",
       "      <td>...</td>\n",
       "      <td>14</td>\n",
       "      <td>76</td>\n",
       "      <td>63026</td>\n",
       "      <td>6497</td>\n",
       "      <td>346.851413</td>\n",
       "      <td>0.0</td>\n",
       "      <td>0.0</td>\n",
       "      <td>0.0</td>\n",
       "      <td>2022-08</td>\n",
       "      <td>0.002101</td>\n",
       "    </tr>\n",
       "    <tr>\n",
       "      <th>309907</th>\n",
       "      <td>0</td>\n",
       "      <td>6501</td>\n",
       "      <td>2022-04</td>\n",
       "      <td>verified</td>\n",
       "      <td>31</td>\n",
       "      <td>own</td>\n",
       "      <td>500.0</td>\n",
       "      <td>250</td>\n",
       "      <td>False</td>\n",
       "      <td>False</td>\n",
       "      <td>...</td>\n",
       "      <td>14</td>\n",
       "      <td>76</td>\n",
       "      <td>63027</td>\n",
       "      <td>6498</td>\n",
       "      <td>302.000756</td>\n",
       "      <td>0.0</td>\n",
       "      <td>0.0</td>\n",
       "      <td>0.0</td>\n",
       "      <td>2022-08</td>\n",
       "      <td>0.005883</td>\n",
       "    </tr>\n",
       "    <tr>\n",
       "      <th>309908</th>\n",
       "      <td>0</td>\n",
       "      <td>6501</td>\n",
       "      <td>2022-04</td>\n",
       "      <td>verified</td>\n",
       "      <td>31</td>\n",
       "      <td>own</td>\n",
       "      <td>500.0</td>\n",
       "      <td>250</td>\n",
       "      <td>False</td>\n",
       "      <td>False</td>\n",
       "      <td>...</td>\n",
       "      <td>14</td>\n",
       "      <td>76</td>\n",
       "      <td>63028</td>\n",
       "      <td>6499</td>\n",
       "      <td>276.210173</td>\n",
       "      <td>0.0</td>\n",
       "      <td>0.0</td>\n",
       "      <td>0.0</td>\n",
       "      <td>2022-08</td>\n",
       "      <td>0.009228</td>\n",
       "    </tr>\n",
       "    <tr>\n",
       "      <th>309909</th>\n",
       "      <td>0</td>\n",
       "      <td>6501</td>\n",
       "      <td>2022-04</td>\n",
       "      <td>verified</td>\n",
       "      <td>31</td>\n",
       "      <td>own</td>\n",
       "      <td>500.0</td>\n",
       "      <td>250</td>\n",
       "      <td>False</td>\n",
       "      <td>False</td>\n",
       "      <td>...</td>\n",
       "      <td>14</td>\n",
       "      <td>76</td>\n",
       "      <td>63029</td>\n",
       "      <td>6500</td>\n",
       "      <td>216.644177</td>\n",
       "      <td>0.0</td>\n",
       "      <td>0.0</td>\n",
       "      <td>0.0</td>\n",
       "      <td>2022-08</td>\n",
       "      <td>0.000699</td>\n",
       "    </tr>\n",
       "  </tbody>\n",
       "</table>\n",
       "<p>309910 rows × 31 columns</p>\n",
       "</div>"
      ],
      "text/plain": [
       "        collection_id  total_supply creation_date verification_status  \\\n",
       "0                  19          1000       2021-04            verified   \n",
       "1                  19          1000       2021-04            verified   \n",
       "2                  19          1000       2021-04            verified   \n",
       "3                  19          1000       2021-04            verified   \n",
       "4                  19          1000       2021-04            verified   \n",
       "...               ...           ...           ...                 ...   \n",
       "309905              0          6501       2022-04            verified   \n",
       "309906              0          6501       2022-04            verified   \n",
       "309907              0          6501       2022-04            verified   \n",
       "309908              0          6501       2022-04            verified   \n",
       "309909              0          6501       2022-04            verified   \n",
       "\n",
       "        n_of_traits contract_type  seller_fees  platform_fees  \\\n",
       "0                 4           own        500.0            250   \n",
       "1                 4           own        500.0            250   \n",
       "2                 4           own        500.0            250   \n",
       "3                 4           own        500.0            250   \n",
       "4                 4           own        500.0            250   \n",
       "...             ...           ...          ...            ...   \n",
       "309905           31           own        500.0            250   \n",
       "309906           31           own        500.0            250   \n",
       "309907           31           own        500.0            250   \n",
       "309908           31           own        500.0            250   \n",
       "309909           31           own        500.0            250   \n",
       "\n",
       "        openrarity_enabled  has_website  ...  max_replies  max_retweets  \\\n",
       "0                    False        False  ...           30           258   \n",
       "1                    False        False  ...           30           258   \n",
       "2                    False        False  ...           30           258   \n",
       "3                    False        False  ...           30           258   \n",
       "4                    False        False  ...           30           258   \n",
       "...                    ...          ...  ...          ...           ...   \n",
       "309905               False        False  ...           14            76   \n",
       "309906               False        False  ...           14            76   \n",
       "309907               False        False  ...           14            76   \n",
       "309908               False        False  ...           14            76   \n",
       "309909               False        False  ...           14            76   \n",
       "\n",
       "        global_index  nft_id  rarity_score  openrarity_score  openrarity_rank  \\\n",
       "0             322076       0     48.156807               0.0              0.0   \n",
       "1             322077       1     82.404768               0.0              0.0   \n",
       "2             322078       2     30.983457               0.0              0.0   \n",
       "3             322079       3     62.799472               0.0              0.0   \n",
       "4             322080       4     45.523411               0.0              0.0   \n",
       "...              ...     ...           ...               ...              ...   \n",
       "309905         63025    6496    701.371138               0.0              0.0   \n",
       "309906         63026    6497    346.851413               0.0              0.0   \n",
       "309907         63027    6498    302.000756               0.0              0.0   \n",
       "309908         63028    6499    276.210173               0.0              0.0   \n",
       "309909         63029    6500    216.644177               0.0              0.0   \n",
       "\n",
       "        openrarity_max_rank  last_sale_date  last_sale_price  \n",
       "0                       0.0         2022-11        12.508229  \n",
       "1                       0.0         2022-11         0.000800  \n",
       "2                       0.0         2022-11         0.002823  \n",
       "3                       0.0         2021-11        85.009723  \n",
       "4                       0.0         2021-11         0.009392  \n",
       "...                     ...             ...              ...  \n",
       "309905                  0.0         2022-08         0.000362  \n",
       "309906                  0.0         2022-08         0.002101  \n",
       "309907                  0.0         2022-08         0.005883  \n",
       "309908                  0.0         2022-08         0.009228  \n",
       "309909                  0.0         2022-08         0.000699  \n",
       "\n",
       "[309910 rows x 31 columns]"
      ]
     },
     "execution_count": 750,
     "metadata": {},
     "output_type": "execute_result"
    }
   ],
   "source": [
    "train_with_collection"
   ]
  },
  {
   "cell_type": "code",
   "execution_count": null,
   "id": "cb3b34c9",
   "metadata": {},
   "outputs": [],
   "source": []
  }
 ],
 "metadata": {
  "kernelspec": {
   "display_name": "Python 3",
   "language": "python",
   "name": "python3"
  },
  "language_info": {
   "codemirror_mode": {
    "name": "ipython",
    "version": 3
   },
   "file_extension": ".py",
   "mimetype": "text/x-python",
   "name": "python",
   "nbconvert_exporter": "python",
   "pygments_lexer": "ipython3",
   "version": "3.8.8"
  }
 },
 "nbformat": 4,
 "nbformat_minor": 5
}
